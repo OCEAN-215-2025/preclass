{
 "cells": [
  {
   "cell_type": "markdown",
   "id": "4208c095-dc6d-4964-ad44-e29067dbe679",
   "metadata": {},
   "source": [
    "# An overview of numpy"
   ]
  },
  {
   "cell_type": "markdown",
   "id": "2d09e1ad-cb89-4349-bcb2-8d9099744f16",
   "metadata": {},
   "source": [
    "## Importing the numpy package"
   ]
  },
  {
   "cell_type": "markdown",
   "id": "9f9eef02-393c-4285-a7f4-cd77bf9c2ece",
   "metadata": {},
   "source": [
    "Numpy is a third-party module of python designed to make numerical computations in python easy and performant. A **module** (a.k.a. ) in python\n",
    "\n",
    "The main object introduced by numpy is the N-dimensional arrays `ndarray`.\n",
    "\n",
    "For your convenience, numpy is already pre-installed On our jupyter hub."
   ]
  }
 ],
 "metadata": {
  "kernelspec": {
   "display_name": "Python 3 (ipykernel)",
   "language": "python",
   "name": "python3"
  },
  "language_info": {
   "codemirror_mode": {
    "name": "ipython",
    "version": 3
   },
   "file_extension": ".py",
   "mimetype": "text/x-python",
   "name": "python",
   "nbconvert_exporter": "python",
   "pygments_lexer": "ipython3",
   "version": "3.12.10"
  }
 },
 "nbformat": 4,
 "nbformat_minor": 5
}
