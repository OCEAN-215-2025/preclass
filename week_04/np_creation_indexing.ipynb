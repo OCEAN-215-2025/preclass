{
 "cells": [
  {
   "cell_type": "markdown",
   "id": "09d44a71-8e3a-448c-8c4d-6e71cf5d9bbb",
   "metadata": {},
   "source": [
    "# Creating and indexing arrays in numpy"
   ]
  },
  {
   "cell_type": "code",
   "execution_count": null,
   "id": "9165e451-7769-4d09-8a2b-b1ad0fde46ca",
   "metadata": {},
   "outputs": [],
   "source": []
  }
 ],
 "metadata": {
  "kernelspec": {
   "display_name": "Python 3 (ipykernel)",
   "language": "python",
   "name": "python3"
  },
  "language_info": {
   "codemirror_mode": {
    "name": "ipython",
    "version": 3
   },
   "file_extension": ".py",
   "mimetype": "text/x-python",
   "name": "python",
   "nbconvert_exporter": "python",
   "pygments_lexer": "ipython3",
   "version": "3.12.10"
  }
 },
 "nbformat": 4,
 "nbformat_minor": 5
}
