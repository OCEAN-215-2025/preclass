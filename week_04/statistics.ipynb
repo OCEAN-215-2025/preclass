{
 "cells": [
  {
   "cell_type": "markdown",
   "id": "7225c633-7033-417c-a643-7255ffb17a38",
   "metadata": {},
   "source": [
    "# A little bit of statistics"
   ]
  },
  {
   "cell_type": "code",
   "execution_count": 1,
   "id": "fee4899a-51a7-4261-9f40-039344ba58dc",
   "metadata": {},
   "outputs": [],
   "source": [
    "# initialization: make numpy available\n",
    "import numpy as np"
   ]
  },
  {
   "cell_type": "markdown",
   "id": "2f1fc147-8edc-42ec-8675-9c563770c5b2",
   "metadata": {},
   "source": [
    "Since a good number of numpy reduction functions are statistics functions, it is a good time to review some statistics. As a simple example, consider measurement (in cm) of heights from 3 distinct groups, as recorded below:"
   ]
  },
  {
   "cell_type": "code",
   "execution_count": 2,
   "id": "eb414489-4f63-4b8f-a7d3-892cbf8a9adc",
   "metadata": {},
   "outputs": [],
   "source": [
    "heights_1 = np.array([\n",
    "    177, 169, 182, 173, 171, 179, 179, 171, 175, 163, \n",
    "    180, 179, 179, 164, 173, 175, 177, 176, 181, 167, \n",
    "    173, 171, 175, 177, 181, 172, 178, 165, 174, 180, \n",
    "    173, 176, 180, 180, 179, 174, 175, 173, 179, 186, \n",
    "    175, 172, 175, 164, 176, 170, 174, 175, 178, 176\n",
    "])\n",
    "\n",
    "heights_2 = np.array([\n",
    "    181, 163, 163, 174, 170, 173, 177, 174, 179, 187, \n",
    "    167, 174, 177, 173, 183, 155, 191, 165, 176, 180, \n",
    "    168, 178, 180, 179, 167, 191, 176, 165, 180, 175, \n",
    "    178, 146, 185, 176, 176, 171, 181, 182, 177, 186, \n",
    "    175, 171, 166, 170, 181, 174, 172, 179, 166, 170\n",
    "])\n",
    "\n",
    "heights_3 = np.array([\n",
    "    166, 167, 167, 166, 167, 171, 161, 162, 171, 158,\n",
    "    169, 156, 162, 168, 163, 164, 168, 155, 165, 166, \n",
    "    163, 161, 161, 167, 156, 166, 162, 163, 168, 168, \n",
    "    166, 165, 169, 174, 168, 160, 154, 174, 156, 171, \n",
    "    168, 163, 168, 160, 170, 162, 168, 169, 164, 176\n",
    "])"
   ]
  },
  {
   "cell_type": "markdown",
   "id": "7ffe878a-5290-4dea-8583-c69ec688e02a",
   "metadata": {},
   "source": [
    "Plotting each individuals as data point on a figure, we obtain the visualization below (you'll learn how to create histogram next week):\n",
    "\n",
    "![height distribution](img//height_distribution.png)"
   ]
  },
  {
   "cell_type": "markdown",
   "id": "77d95dc1-dcb1-4e99-abd1-ac2e3f2a3c7e",
   "metadata": {},
   "source": [
    "We can tell that all three groups have distinct distribution. For example:\n",
    "+ Group 1 and group 2 are on average taller than group 3\n",
    "+ Group 2 has a larger spread in height compared to group 1 and 3"
   ]
  },
  {
   "cell_type": "markdown",
   "id": "f942ee1b-a36c-4bbd-ae2e-e64580051152",
   "metadata": {},
   "source": [
    "In general, if we want to characterize a distribution with a few numbers, we will be most interested in a measure of **central tendency** and a measure of **spread**."
   ]
  },
  {
   "cell_type": "markdown",
   "id": "ef4655cb-23be-4976-b4f2-b3375b7709b4",
   "metadata": {},
   "source": [
    "## Central tendency"
   ]
  },
  {
   "cell_type": "markdown",
   "id": "e5161aeb-4db0-472e-b082-fb877d0dd021",
   "metadata": {},
   "source": [
    "For a measure of central tendency, one possible choice is the **mean**. If the measurements are $(x_1, x_2, \\ldots, x_n)$, the mean of the measurements is defined as:\n",
    "\n",
    "$$ \\overline{x} = \\frac{1}{n} (x_1 + x_2 + \\ldots + x_n) $$"
   ]
  },
  {
   "cell_type": "markdown",
   "id": "0b6a72dd-ca82-4dda-9b4e-a159085dac85",
   "metadata": {},
   "source": [
    "If we compute the means of the 3 groups, we'll get:"
   ]
  },
  {
   "cell_type": "code",
   "execution_count": 3,
   "id": "55445fbe-a674-4867-96ed-fe715fcb6a86",
   "metadata": {},
   "outputs": [
    {
     "name": "stdout",
     "output_type": "stream",
     "text": [
      "MEANS: group 1 = 174.92 cm, group 2 = 174.46 cm, group 3 = 165.04 cm\n"
     ]
    }
   ],
   "source": [
    "mean_1 = np.mean(heights_1)\n",
    "mean_2 = np.mean(heights_2)\n",
    "mean_3 = np.mean(heights_3)\n",
    "\n",
    "print(\n",
    "    \"MEANS: group 1 = \" + \n",
    "    str(round(mean_1, 2)) + \n",
    "    \" cm, group 2 = \" + \n",
    "    str(round(mean_2, 2)) + \n",
    "    \" cm, group 3 = \" + \n",
    "    str(round(mean_3, 3)) + \n",
    "    \" cm\"\n",
    ")"
   ]
  },
  {
   "cell_type": "markdown",
   "id": "3631ad33-0479-43f2-975a-ca52c17bd575",
   "metadata": {},
   "source": [
    "Another measure of central tendency, which is mathematically less \"neat\" but more robust against outliers, is the **median**. By definition, the median is the data point at which equal number of data is below it and above it (if there is no data point exactly half-way, an interpolation is carried out between the nearest two data points). For our 3 groups:"
   ]
  },
  {
   "cell_type": "code",
   "execution_count": 4,
   "id": "e4b23183-3948-46fe-85f5-6339fecbc6b1",
   "metadata": {},
   "outputs": [
    {
     "name": "stdout",
     "output_type": "stream",
     "text": [
      "MEDIAN: group 1 = 175.0 cm, group 2 = 175.5 cm, group 3 = 166.0 cm\n"
     ]
    }
   ],
   "source": [
    "median_1 = np.median(heights_1)\n",
    "median_2 = np.median(heights_2)\n",
    "median_3 = np.median(heights_3)\n",
    "\n",
    "print(\n",
    "    \"MEDIAN: group 1 = \" + \n",
    "    str(round(median_1, 2)) + \n",
    "    \" cm, group 2 = \" + \n",
    "    str(round(median_2, 2)) + \n",
    "    \" cm, group 3 = \" + \n",
    "    str(round(median_3, 3)) + \n",
    "    \" cm\"\n",
    ")"
   ]
  },
  {
   "cell_type": "markdown",
   "id": "95dc3a74-26d9-4f14-80a7-dddf4faaf521",
   "metadata": {},
   "source": [
    "In both case, we see that the central tendency for group 1 and 2 are roughly the same, and are both distinctively higher than that of group 3."
   ]
  },
  {
   "cell_type": "markdown",
   "id": "460b37c2-24eb-42d0-b852-3fb94aaa3332",
   "metadata": {},
   "source": [
    "## Spread"
   ]
  },
  {
   "cell_type": "markdown",
   "id": "920dc2bf-3fc4-471c-bda5-fbb29e7836be",
   "metadata": {},
   "source": [
    "For spread, a common measure is the standard deviation. To define the standard deviation, we first define the **variance**:\n",
    "\n",
    "$$ \\sigma^2 = \\frac{1}{n'} \\left( (x_1 - \\overline{x})^2 + \\ldots + (x_n - \\overline{x})^2 \\right)$$\n",
    "\n",
    "where $n' = n$ if you have the whole population and (more often) $n' = n - 1$ when you have a sample of the population (for the most part we'll not worry about this distinction here). Once the variance is calculated, the **standard deviation** $\\sigma$ is obtained as the square root of the variance. The advantage of taking the square root is that the standard deviation will have the same dimension as the mean.\n",
    "\n",
    "For our 3 groups:"
   ]
  },
  {
   "cell_type": "code",
   "execution_count": 5,
   "id": "d043d244-0283-4063-863e-d0d2c1a27d10",
   "metadata": {},
   "outputs": [
    {
     "name": "stdout",
     "output_type": "stream",
     "text": [
      "STANDARD DEVIATION: group 1 = 4.84 cm, group 2 = 8.29 cm, group 3 = 4.944 cm\n"
     ]
    }
   ],
   "source": [
    "stdev_1 = np.std(heights_1)\n",
    "stdev_2 = np.std(heights_2)\n",
    "stdev_3 = np.std(heights_3)\n",
    "\n",
    "print(\n",
    "    \"STANDARD DEVIATION: group 1 = \" + \n",
    "    str(round(stdev_1, 2)) + \n",
    "    \" cm, group 2 = \" + \n",
    "    str(round(stdev_2, 2)) + \n",
    "    \" cm, group 3 = \" + \n",
    "    str(round(stdev_3, 3)) + \n",
    "    \" cm\"\n",
    ")"
   ]
  },
  {
   "cell_type": "markdown",
   "id": "edace69c-cb03-4708-ada8-958939be49e0",
   "metadata": {},
   "source": [
    "We see that indeed, group 1 and group 3 have similar standard deviation, both of which are distinctively smaller than group 2."
   ]
  },
  {
   "cell_type": "markdown",
   "id": "1240579c-d5ce-40d1-b223-580eb9940a83",
   "metadata": {},
   "source": [
    "Another possible measure of spread is the inter quartile range. By definition, the **$q$ quantile** ($0 \\leq q \\leq 1$) is the data point at which a portion $q$ of data is below its value. Similar to median, an interpolation is used when there are no exact data point at the required portion $q$. The **upper quartile** is defined as the 0.75 quantile, and the **lower quartile** is defined as the 0.25 quantile. Finally, the **inter-quartile range (IQR)** is defined as the difference between the upper quartile and the lower quartile. \n",
    "\n",
    "Similar to mean versus median, the IQR is mathematically less \"neat\" than the standard deviation but more robust against outliers.\n",
    "\n",
    "For our 3 groups:"
   ]
  },
  {
   "cell_type": "code",
   "execution_count": 6,
   "id": "a5b8646f-167e-4858-a3d4-870a2764924e",
   "metadata": {},
   "outputs": [
    {
     "name": "stdout",
     "output_type": "stream",
     "text": [
      "IQR: group 1 = 6.0 cm, group 2 = 9.75 cm, group 3 = 6.0 cm\n"
     ]
    }
   ],
   "source": [
    "IQR_1 = np.quantile(heights_1, 0.75) - np.quantile(heights_1, 0.25)\n",
    "IQR_2 = np.quantile(heights_2, 0.75) - np.quantile(heights_2, 0.25)\n",
    "IQR_3 = np.quantile(heights_3, 0.75) - np.quantile(heights_3, 0.25)\n",
    "\n",
    "print(\n",
    "    \"IQR: group 1 = \" + \n",
    "    str(round(IQR_1, 2)) + \n",
    "    \" cm, group 2 = \" + \n",
    "    str(round(IQR_2, 2)) + \n",
    "    \" cm, group 3 = \" + \n",
    "    str(round(IQR_3, 3)) + \n",
    "    \" cm\"\n",
    ")"
   ]
  },
  {
   "cell_type": "markdown",
   "id": "768c0a86-7bd5-4158-beb6-ded8ef2c9d87",
   "metadata": {},
   "source": [
    "And we arrive at the same conclusion as we would have using standard deviation as the measure of spread."
   ]
  },
  {
   "cell_type": "markdown",
   "id": "3a001e6a-0b20-49b0-a796-c2e3d2deb11d",
   "metadata": {},
   "source": [
    "## Standard error"
   ]
  },
  {
   "cell_type": "markdown",
   "id": "3afe4e5d-5b3b-4aad-98bb-82c5947b0427",
   "metadata": {},
   "source": [
    "As a general observation, when you take samples of increasing size, your estimation of the population's mean from the sample's mean improves. As it turns out, if you take multiple samples of size $n$ and consider the standard deviation in the mean values of these samples, we have:\n",
    "\n",
    "$$ \\sigma_{\\textrm{mean of }x} \\approx \\frac{\\sigma_{\\textrm{sample}}}{\\sqrt{n}}$$\n",
    "\n",
    "Thus, the quantity $\\sigma/ \\sqrt{n}$ is referred to as the **standard error** in the estimate of the mean.\n",
    "\n",
    "Conceptually, if the difference in the means between two samples are big compared to the standard error in either of them, it is higher unlikely that the difference is a result of statistical fluke."
   ]
  },
  {
   "cell_type": "markdown",
   "id": "8282581a-21f9-400f-8629-e79dfe76b40d",
   "metadata": {},
   "source": [
    "We can calculate the standard error in our 3 groups like so:"
   ]
  },
  {
   "cell_type": "code",
   "execution_count": 7,
   "id": "7650ea6f-dbe7-4d7f-8db1-0c843118df6f",
   "metadata": {},
   "outputs": [
    {
     "name": "stdout",
     "output_type": "stream",
     "text": [
      "STANDARD ERROR: group 1 = 0.68 cm, group 2 = 1.17 cm, group 3 = 0.699 cm\n"
     ]
    }
   ],
   "source": [
    "stderr_1 = np.std(heights_1) / np.sqrt(heights_1.size)\n",
    "stderr_2 = np.std(heights_2) / np.sqrt(heights_2.size)\n",
    "stderr_3 = np.std(heights_3) / np.sqrt(heights_3.size)\n",
    "\n",
    "print(\n",
    "    \"STANDARD ERROR: group 1 = \" + \n",
    "    str(round(stderr_1, 2)) + \n",
    "    \" cm, group 2 = \" + \n",
    "    str(round(stderr_2, 2)) + \n",
    "    \" cm, group 3 = \" + \n",
    "    str(round(stderr_3, 3)) + \n",
    "    \" cm\"\n",
    ")"
   ]
  },
  {
   "cell_type": "markdown",
   "id": "9095780a-3591-4eff-a14a-506ee13acbe9",
   "metadata": {},
   "source": [
    "From which we may conclude that the observed difference between the means of the heights of group 1 and group 3 are unlikely to be a statistical fluke."
   ]
  },
  {
   "cell_type": "code",
   "execution_count": null,
   "id": "9da10dec-3eb9-4163-8a7a-6b366b434a3d",
   "metadata": {},
   "outputs": [],
   "source": []
  }
 ],
 "metadata": {
  "kernelspec": {
   "display_name": "Python 3 (ipykernel)",
   "language": "python",
   "name": "python3"
  },
  "language_info": {
   "codemirror_mode": {
    "name": "ipython",
    "version": 3
   },
   "file_extension": ".py",
   "mimetype": "text/x-python",
   "name": "python",
   "nbconvert_exporter": "python",
   "pygments_lexer": "ipython3",
   "version": "3.12.10"
  }
 },
 "nbformat": 4,
 "nbformat_minor": 5
}
