{
 "cells": [
  {
   "cell_type": "markdown",
   "id": "eb5fb57a-4520-4f8b-9aa4-f03290dd5be1",
   "metadata": {},
   "source": [
    "# Handling datetime in pandas"
   ]
  },
  {
   "cell_type": "code",
   "execution_count": 1,
   "id": "7111b773-2d67-4a62-b3c7-f69d6667912a",
   "metadata": {},
   "outputs": [],
   "source": [
    "# initialization\n",
    "import numpy as np\n",
    "import pandas as pd"
   ]
  },
  {
   "cell_type": "markdown",
   "id": "2d02a220-7128-4217-8df3-4dbb7b9d3953",
   "metadata": {},
   "source": [
    "## Create pandas datetime objects"
   ]
  },
  {
   "cell_type": "markdown",
   "id": "3dbfe999-ab55-4ac6-a9bf-29ee275b4370",
   "metadata": {},
   "source": [
    "One reason to use pandas to handle tabular data is that pandas have good support of datetime values. Suppose we have a python `list` of dates, in the form of string:"
   ]
  },
  {
   "cell_type": "code",
   "execution_count": 2,
   "id": "bd7d997e-8b15-4e44-8f09-563c98c55f5b",
   "metadata": {},
   "outputs": [],
   "source": [
    "dates = [\"2024-01-15\", \"2024-02-15\", \"2024-03-15\"]"
   ]
  },
  {
   "cell_type": "markdown",
   "id": "f3eaa900-a1ad-479a-91b0-3913b9590760",
   "metadata": {},
   "source": [
    "We can convert the strings to a `DatetimeIndex` using `pd.to_datetime()`:"
   ]
  },
  {
   "cell_type": "code",
   "execution_count": 3,
   "id": "36380095-767a-4a88-be3b-cb31a6140583",
   "metadata": {},
   "outputs": [
    {
     "data": {
      "text/plain": [
       "DatetimeIndex(['2024-01-15', '2024-02-15', '2024-03-15'], dtype='datetime64[ns]', freq=None)"
      ]
     },
     "metadata": {},
     "output_type": "display_data"
    }
   ],
   "source": [
    "dates_pd = pd.to_datetime(dates)\n",
    "display(dates_pd)"
   ]
  },
  {
   "cell_type": "markdown",
   "id": "22ec07f8-3dd1-44a6-a9ce-3328bc99665e",
   "metadata": {},
   "source": [
    "The same can be done if we have timestamps that also include hour, minute, and (optionally) second information:"
   ]
  },
  {
   "cell_type": "code",
   "execution_count": 4,
   "id": "7dbd2834-f599-482c-90c4-14a0806a31bb",
   "metadata": {},
   "outputs": [],
   "source": [
    "timestamps = [\"2024-01-15 14:20\", \"2024-02-15 7:35\", \"2024-03-15 18:06\"]"
   ]
  },
  {
   "cell_type": "code",
   "execution_count": 5,
   "id": "f1ddd4a8-d788-4741-a045-5fd9ae928815",
   "metadata": {},
   "outputs": [
    {
     "data": {
      "text/plain": [
       "DatetimeIndex(['2024-01-15 14:20:00', '2024-02-15 07:35:00',\n",
       "               '2024-03-15 18:06:00'],\n",
       "              dtype='datetime64[ns]', freq=None)"
      ]
     },
     "metadata": {},
     "output_type": "display_data"
    }
   ],
   "source": [
    "timestamps_pd = pd.to_datetime(timestamps)\n",
    "display(timestamps_pd)"
   ]
  },
  {
   "cell_type": "markdown",
   "id": "ee9f9150-b682-4ede-94a5-62b2513cb9fd",
   "metadata": {},
   "source": [
    "Note that when you use `pd.to_datetime()` on a sequence of strings, the output is not a `DataFrame` nor a `Series`. To convert th results to a pandas `Series`, just wrap it around a `pd.Series()` call:"
   ]
  },
  {
   "cell_type": "code",
   "execution_count": 6,
   "id": "2f4d4c53-8bd2-4c7f-975d-029fe173a005",
   "metadata": {},
   "outputs": [
    {
     "data": {
      "text/plain": [
       "0   2024-01-15 14:20:00\n",
       "1   2024-02-15 07:35:00\n",
       "2   2024-03-15 18:06:00\n",
       "dtype: datetime64[ns]"
      ]
     },
     "metadata": {},
     "output_type": "display_data"
    }
   ],
   "source": [
    "time_series = pd.Series(timestamps_pd)\n",
    "display(time_series)"
   ]
  },
  {
   "cell_type": "markdown",
   "id": "ac805298-449e-4c88-9358-5c5d43908f79",
   "metadata": {},
   "source": [
    "We can also assign the result of `pd.to_datetime()` to column of DataFrame. For the CalSOFI dateset, we may do:"
   ]
  },
  {
   "cell_type": "code",
   "execution_count": 7,
   "id": "3c4e9e15-1726-40af-b4d5-b5ef5fcc7c06",
   "metadata": {},
   "outputs": [],
   "source": [
    "CalSOFI = pd.read_csv(\"data/CalSOFI_subset.csv\")\n",
    "CalSOFI[\"Datetime\"] = pd.to_datetime(CalSOFI[\"Datetime\"])"
   ]
  },
  {
   "cell_type": "code",
   "execution_count": 8,
   "id": "9a6f7b02-34b9-4b50-96af-9c7706f8c105",
   "metadata": {},
   "outputs": [
    {
     "name": "stdout",
     "output_type": "stream",
     "text": [
      "<class 'pandas.core.frame.DataFrame'>\n",
      "RangeIndex: 81374 entries, 0 to 81373\n",
      "Data columns (total 7 columns):\n",
      " #   Column      Non-Null Count  Dtype         \n",
      "---  ------      --------------  -----         \n",
      " 0   Cast_Count  81374 non-null  int64         \n",
      " 1   Station_ID  81374 non-null  object        \n",
      " 2   Datetime    81374 non-null  datetime64[ns]\n",
      " 3   Depth_m     81374 non-null  int64         \n",
      " 4   T_degC      80973 non-null  float64       \n",
      " 5   Salinity    80924 non-null  float64       \n",
      " 6   SigmaTheta  80924 non-null  float64       \n",
      "dtypes: datetime64[ns](1), float64(3), int64(2), object(1)\n",
      "memory usage: 4.3+ MB\n"
     ]
    }
   ],
   "source": [
    "CalSOFI.info()"
   ]
  },
  {
   "cell_type": "code",
   "execution_count": 9,
   "id": "e6893508-1841-4797-be3b-ca7baed2b54d",
   "metadata": {},
   "outputs": [
    {
     "data": {
      "text/html": [
       "<div>\n",
       "<style scoped>\n",
       "    .dataframe tbody tr th:only-of-type {\n",
       "        vertical-align: middle;\n",
       "    }\n",
       "\n",
       "    .dataframe tbody tr th {\n",
       "        vertical-align: top;\n",
       "    }\n",
       "\n",
       "    .dataframe thead th {\n",
       "        text-align: right;\n",
       "    }\n",
       "</style>\n",
       "<table border=\"1\" class=\"dataframe\">\n",
       "  <thead>\n",
       "    <tr style=\"text-align: right;\">\n",
       "      <th></th>\n",
       "      <th>Cast_Count</th>\n",
       "      <th>Station_ID</th>\n",
       "      <th>Datetime</th>\n",
       "      <th>Depth_m</th>\n",
       "      <th>T_degC</th>\n",
       "      <th>Salinity</th>\n",
       "      <th>SigmaTheta</th>\n",
       "    </tr>\n",
       "  </thead>\n",
       "  <tbody>\n",
       "    <tr>\n",
       "      <th>0</th>\n",
       "      <td>14172</td>\n",
       "      <td>060.0 060.0</td>\n",
       "      <td>1965-01-11 04:43:00</td>\n",
       "      <td>0</td>\n",
       "      <td>12.12</td>\n",
       "      <td>33.030</td>\n",
       "      <td>25.030</td>\n",
       "    </tr>\n",
       "    <tr>\n",
       "      <th>1</th>\n",
       "      <td>14172</td>\n",
       "      <td>060.0 060.0</td>\n",
       "      <td>1965-01-11 04:43:00</td>\n",
       "      <td>10</td>\n",
       "      <td>12.08</td>\n",
       "      <td>33.040</td>\n",
       "      <td>25.050</td>\n",
       "    </tr>\n",
       "    <tr>\n",
       "      <th>2</th>\n",
       "      <td>14172</td>\n",
       "      <td>060.0 060.0</td>\n",
       "      <td>1965-01-11 04:43:00</td>\n",
       "      <td>20</td>\n",
       "      <td>12.06</td>\n",
       "      <td>33.040</td>\n",
       "      <td>25.050</td>\n",
       "    </tr>\n",
       "    <tr>\n",
       "      <th>3</th>\n",
       "      <td>14172</td>\n",
       "      <td>060.0 060.0</td>\n",
       "      <td>1965-01-11 04:43:00</td>\n",
       "      <td>30</td>\n",
       "      <td>12.06</td>\n",
       "      <td>33.040</td>\n",
       "      <td>25.050</td>\n",
       "    </tr>\n",
       "    <tr>\n",
       "      <th>4</th>\n",
       "      <td>14172</td>\n",
       "      <td>060.0 060.0</td>\n",
       "      <td>1965-01-11 04:43:00</td>\n",
       "      <td>50</td>\n",
       "      <td>11.18</td>\n",
       "      <td>33.280</td>\n",
       "      <td>25.400</td>\n",
       "    </tr>\n",
       "    <tr>\n",
       "      <th>...</th>\n",
       "      <td>...</td>\n",
       "      <td>...</td>\n",
       "      <td>...</td>\n",
       "      <td>...</td>\n",
       "      <td>...</td>\n",
       "      <td>...</td>\n",
       "      <td>...</td>\n",
       "    </tr>\n",
       "    <tr>\n",
       "      <th>81369</th>\n",
       "      <td>25948</td>\n",
       "      <td>090.5 043.0</td>\n",
       "      <td>1988-09-22 18:45:00</td>\n",
       "      <td>250</td>\n",
       "      <td>7.82</td>\n",
       "      <td>34.168</td>\n",
       "      <td>26.651</td>\n",
       "    </tr>\n",
       "    <tr>\n",
       "      <th>81370</th>\n",
       "      <td>25948</td>\n",
       "      <td>090.5 043.0</td>\n",
       "      <td>1988-09-22 18:45:00</td>\n",
       "      <td>275</td>\n",
       "      <td>7.66</td>\n",
       "      <td>34.203</td>\n",
       "      <td>26.701</td>\n",
       "    </tr>\n",
       "    <tr>\n",
       "      <th>81371</th>\n",
       "      <td>25948</td>\n",
       "      <td>090.5 043.0</td>\n",
       "      <td>1988-09-22 18:45:00</td>\n",
       "      <td>300</td>\n",
       "      <td>7.44</td>\n",
       "      <td>34.225</td>\n",
       "      <td>26.750</td>\n",
       "    </tr>\n",
       "    <tr>\n",
       "      <th>81372</th>\n",
       "      <td>25948</td>\n",
       "      <td>090.5 043.0</td>\n",
       "      <td>1988-09-22 18:45:00</td>\n",
       "      <td>350</td>\n",
       "      <td>7.17</td>\n",
       "      <td>34.260</td>\n",
       "      <td>26.817</td>\n",
       "    </tr>\n",
       "    <tr>\n",
       "      <th>81373</th>\n",
       "      <td>25948</td>\n",
       "      <td>090.5 043.0</td>\n",
       "      <td>1988-09-22 18:45:00</td>\n",
       "      <td>381</td>\n",
       "      <td>6.91</td>\n",
       "      <td>34.282</td>\n",
       "      <td>26.870</td>\n",
       "    </tr>\n",
       "  </tbody>\n",
       "</table>\n",
       "<p>81374 rows × 7 columns</p>\n",
       "</div>"
      ],
      "text/plain": [
       "       Cast_Count   Station_ID            Datetime  Depth_m  T_degC  Salinity  \\\n",
       "0           14172  060.0 060.0 1965-01-11 04:43:00        0   12.12    33.030   \n",
       "1           14172  060.0 060.0 1965-01-11 04:43:00       10   12.08    33.040   \n",
       "2           14172  060.0 060.0 1965-01-11 04:43:00       20   12.06    33.040   \n",
       "3           14172  060.0 060.0 1965-01-11 04:43:00       30   12.06    33.040   \n",
       "4           14172  060.0 060.0 1965-01-11 04:43:00       50   11.18    33.280   \n",
       "...           ...          ...                 ...      ...     ...       ...   \n",
       "81369       25948  090.5 043.0 1988-09-22 18:45:00      250    7.82    34.168   \n",
       "81370       25948  090.5 043.0 1988-09-22 18:45:00      275    7.66    34.203   \n",
       "81371       25948  090.5 043.0 1988-09-22 18:45:00      300    7.44    34.225   \n",
       "81372       25948  090.5 043.0 1988-09-22 18:45:00      350    7.17    34.260   \n",
       "81373       25948  090.5 043.0 1988-09-22 18:45:00      381    6.91    34.282   \n",
       "\n",
       "       SigmaTheta  \n",
       "0          25.030  \n",
       "1          25.050  \n",
       "2          25.050  \n",
       "3          25.050  \n",
       "4          25.400  \n",
       "...           ...  \n",
       "81369      26.651  \n",
       "81370      26.701  \n",
       "81371      26.750  \n",
       "81372      26.817  \n",
       "81373      26.870  \n",
       "\n",
       "[81374 rows x 7 columns]"
      ]
     },
     "execution_count": 9,
     "metadata": {},
     "output_type": "execute_result"
    }
   ],
   "source": [
    "CalSOFI"
   ]
  },
  {
   "cell_type": "markdown",
   "id": "45adbec8-95fc-4068-81d8-89161ca11590",
   "metadata": {},
   "source": [
    "In addition, when we use `.read_csv()`, we can use the `parse_dates` argument to tell pandas to read certain column as dates: "
   ]
  },
  {
   "cell_type": "code",
   "execution_count": 10,
   "id": "a5edb085-10a1-4171-b276-c1bac8e9b86a",
   "metadata": {},
   "outputs": [
    {
     "name": "stdout",
     "output_type": "stream",
     "text": [
      "<class 'pandas.core.frame.DataFrame'>\n",
      "RangeIndex: 81374 entries, 0 to 81373\n",
      "Data columns (total 7 columns):\n",
      " #   Column      Non-Null Count  Dtype         \n",
      "---  ------      --------------  -----         \n",
      " 0   Cast_Count  81374 non-null  int64         \n",
      " 1   Station_ID  81374 non-null  object        \n",
      " 2   Datetime    81374 non-null  datetime64[ns]\n",
      " 3   Depth_m     81374 non-null  int64         \n",
      " 4   T_degC      80973 non-null  float64       \n",
      " 5   Salinity    80924 non-null  float64       \n",
      " 6   SigmaTheta  80924 non-null  float64       \n",
      "dtypes: datetime64[ns](1), float64(3), int64(2), object(1)\n",
      "memory usage: 4.3+ MB\n"
     ]
    }
   ],
   "source": [
    "CalSOFI2 = pd.read_csv(\"data/CalSOFI_subset.csv\", parse_dates=[\"Datetime\"])\n",
    "CalSOFI2.info()"
   ]
  },
  {
   "cell_type": "markdown",
   "id": "eb9d43ba-0866-4dd4-9dd3-a90eeff81d63",
   "metadata": {},
   "source": [
    "## Datetime formatting"
   ]
  },
  {
   "cell_type": "markdown",
   "id": "c7ca17dd-deb4-4953-8c8d-a0d54daaadf9",
   "metadata": {},
   "source": [
    "Of course, textual representations of datetime comes in many different format. For example, the following all specifies the same date:"
   ]
  },
  {
   "cell_type": "code",
   "execution_count": 11,
   "id": "f39d7fe4-596c-4469-8757-6b1d01671263",
   "metadata": {},
   "outputs": [],
   "source": [
    "date_1 = \"2024-08-05 3:08 PM\"\n",
    "date_2 = \"August 5, 2024, 15:08\"\n",
    "date_3 = \"5 Aug 2024 - 3:08:00 pm\"\n",
    "date_4 = \"5/8/2024 15:08:00\"\n",
    "date_5 = \"8/5/2024 15:08:00\""
   ]
  },
  {
   "cell_type": "markdown",
   "id": "9cbb095b-5376-4c91-97f5-dc50944e806c",
   "metadata": {},
   "source": [
    "To deal with the different formats, the `pd.to_datetime()` function accept a `format` argument, which uses different *format code* to specify how months, days, etc. are encoded. The documentation for format code can be found in [https://docs.python.org/3/library/datetime.html#strftime-and-strptime-behavior](https://docs.python.org/3/library/datetime.html#strftime-and-strptime-behavior). Note that when the format code is specified, the non-informational characters (e.g., ` `, `/` or `,`) need to be included too.\n",
    "\n",
    "As examples, to read the above strings into datetime, we'll need:"
   ]
  },
  {
   "cell_type": "code",
   "execution_count": 12,
   "id": "768ec2d3-8906-4eca-9e37-b749a1438c0d",
   "metadata": {},
   "outputs": [
    {
     "data": {
      "text/plain": [
       "Timestamp('2024-08-05 15:08:00')"
      ]
     },
     "metadata": {},
     "output_type": "display_data"
    }
   ],
   "source": [
    "tstamp_1 = pd.to_datetime(date_1, format=\"%Y-%m-%d %I:%M %p\")\n",
    "display(tstamp_1)"
   ]
  },
  {
   "cell_type": "code",
   "execution_count": 13,
   "id": "fb0dbdc3-ec5f-40af-9126-99c745130bb2",
   "metadata": {},
   "outputs": [
    {
     "data": {
      "text/plain": [
       "Timestamp('2024-08-05 15:08:00')"
      ]
     },
     "metadata": {},
     "output_type": "display_data"
    }
   ],
   "source": [
    "tstamp_2 = pd.to_datetime(date_2, format=\"%B %d, %Y, %H:%M\")\n",
    "display(tstamp_2)"
   ]
  },
  {
   "cell_type": "code",
   "execution_count": 14,
   "id": "db6ccae7-baff-4686-b917-354681b0249a",
   "metadata": {},
   "outputs": [
    {
     "data": {
      "text/plain": [
       "Timestamp('2024-08-05 15:08:00')"
      ]
     },
     "metadata": {},
     "output_type": "display_data"
    }
   ],
   "source": [
    "tstamp_3 = pd.to_datetime(date_3, format=\"%d %b %Y - %I:%M:%S %p\")\n",
    "display(tstamp_3)"
   ]
  },
  {
   "cell_type": "code",
   "execution_count": 15,
   "id": "ec0c75b0-7b16-4a57-8e0a-9f5bfbdbf0aa",
   "metadata": {},
   "outputs": [
    {
     "data": {
      "text/plain": [
       "Timestamp('2024-08-05 15:08:00')"
      ]
     },
     "metadata": {},
     "output_type": "display_data"
    }
   ],
   "source": [
    "tstamp_4 = pd.to_datetime(date_4, format=\"%d/%m/%Y %H:%M:%S\")\n",
    "display(tstamp_4)"
   ]
  },
  {
   "cell_type": "code",
   "execution_count": 16,
   "id": "953075f4-5564-42d9-b97a-1f737fee0e49",
   "metadata": {},
   "outputs": [
    {
     "data": {
      "text/plain": [
       "Timestamp('2024-08-05 15:08:00')"
      ]
     },
     "metadata": {},
     "output_type": "display_data"
    }
   ],
   "source": [
    "tstamp_5 = pd.to_datetime(date_5, format=\"%m/%d/%Y %H:%M:%S\")\n",
    "display(tstamp_5)"
   ]
  },
  {
   "cell_type": "markdown",
   "id": "cc1324d4-83b2-4a97-808e-cd68ce594c48",
   "metadata": {},
   "source": [
    "Conversely, the format code can also be used to print out time:"
   ]
  },
  {
   "cell_type": "code",
   "execution_count": 17,
   "id": "ca345e8f-dccc-4368-8e8a-4caeb7233ea0",
   "metadata": {},
   "outputs": [],
   "source": [
    "# create a pandas Series of time\n",
    "time_series = pd.Series(pd.to_datetime(\n",
    "    [\"2024-01-15 14:20\", \"2024-02-15 7:35\", \"2024-03-15 18:06\"]\n",
    "))"
   ]
  },
  {
   "cell_type": "code",
   "execution_count": 18,
   "id": "eb722d4d-bb03-48fe-a6c2-5d5381812a2d",
   "metadata": {},
   "outputs": [
    {
     "data": {
      "text/plain": [
       "0    Jan 15, 2024 - 02:20 PM\n",
       "1    Feb 15, 2024 - 07:35 AM\n",
       "2    Mar 15, 2024 - 06:06 PM\n",
       "dtype: object"
      ]
     },
     "execution_count": 18,
     "metadata": {},
     "output_type": "execute_result"
    }
   ],
   "source": [
    "# use strftime (string-from-time) to create the corresponding strings\n",
    "time_series.dt.strftime(\"%b %d, %Y - %I:%M %p\")"
   ]
  },
  {
   "cell_type": "markdown",
   "id": "caf3f3f2-9174-48c8-a7df-9f0f1e0d20a2",
   "metadata": {},
   "source": [
    "## Datetime comparisons"
   ]
  },
  {
   "cell_type": "markdown",
   "id": "f8e101e9-6d0f-4c8b-9a9a-0c981dde3342",
   "metadata": {},
   "source": [
    "To perform logical comparison between datetime, we can create a datetime from a scalar string, and use logical operator in the expected way:"
   ]
  },
  {
   "cell_type": "code",
   "execution_count": 19,
   "id": "aed07414-e26e-4245-9e5e-44f830a78433",
   "metadata": {},
   "outputs": [
    {
     "data": {
      "text/plain": [
       "0    False\n",
       "1    False\n",
       "2     True\n",
       "dtype: bool"
      ]
     },
     "execution_count": 19,
     "metadata": {},
     "output_type": "execute_result"
    }
   ],
   "source": [
    "time_series = pd.Series(pd.to_datetime(\n",
    "    [\"2024-01-15 14:20\", \"2024-02-15 7:35\", \"2024-03-15 18:06\"]\n",
    "))\n",
    "instant = pd.to_datetime(\"2024-02-21\")\n",
    "time_series > instant"
   ]
  },
  {
   "cell_type": "markdown",
   "id": "cd0d14f0-76b2-43a1-8a72-226610ab9b19",
   "metadata": {},
   "source": [
    "As an application, we can combine datetime comparsion and `.loc[]` to extract data that are collected in the 1970s"
   ]
  },
  {
   "cell_type": "code",
   "execution_count": 22,
   "id": "1c75ee8a-f839-4295-b700-c3088f791e95",
   "metadata": {},
   "outputs": [
    {
     "data": {
      "text/html": [
       "<div>\n",
       "<style scoped>\n",
       "    .dataframe tbody tr th:only-of-type {\n",
       "        vertical-align: middle;\n",
       "    }\n",
       "\n",
       "    .dataframe tbody tr th {\n",
       "        vertical-align: top;\n",
       "    }\n",
       "\n",
       "    .dataframe thead th {\n",
       "        text-align: right;\n",
       "    }\n",
       "</style>\n",
       "<table border=\"1\" class=\"dataframe\">\n",
       "  <thead>\n",
       "    <tr style=\"text-align: right;\">\n",
       "      <th></th>\n",
       "      <th>Cast_Count</th>\n",
       "      <th>Station_ID</th>\n",
       "      <th>Datetime</th>\n",
       "      <th>Depth_m</th>\n",
       "      <th>T_degC</th>\n",
       "      <th>Salinity</th>\n",
       "      <th>SigmaTheta</th>\n",
       "    </tr>\n",
       "  </thead>\n",
       "  <tbody>\n",
       "    <tr>\n",
       "      <th>25101</th>\n",
       "      <td>17384</td>\n",
       "      <td>050.0 060.0</td>\n",
       "      <td>1970-08-22 16:15:00</td>\n",
       "      <td>0</td>\n",
       "      <td>12.81</td>\n",
       "      <td>32.890</td>\n",
       "      <td>24.797</td>\n",
       "    </tr>\n",
       "    <tr>\n",
       "      <th>25102</th>\n",
       "      <td>17384</td>\n",
       "      <td>050.0 060.0</td>\n",
       "      <td>1970-08-22 16:15:00</td>\n",
       "      <td>10</td>\n",
       "      <td>12.81</td>\n",
       "      <td>32.900</td>\n",
       "      <td>24.804</td>\n",
       "    </tr>\n",
       "    <tr>\n",
       "      <th>25103</th>\n",
       "      <td>17384</td>\n",
       "      <td>050.0 060.0</td>\n",
       "      <td>1970-08-22 16:15:00</td>\n",
       "      <td>20</td>\n",
       "      <td>12.81</td>\n",
       "      <td>32.900</td>\n",
       "      <td>24.805</td>\n",
       "    </tr>\n",
       "    <tr>\n",
       "      <th>25104</th>\n",
       "      <td>17384</td>\n",
       "      <td>050.0 060.0</td>\n",
       "      <td>1970-08-22 16:15:00</td>\n",
       "      <td>30</td>\n",
       "      <td>12.75</td>\n",
       "      <td>32.880</td>\n",
       "      <td>24.801</td>\n",
       "    </tr>\n",
       "    <tr>\n",
       "      <th>25105</th>\n",
       "      <td>17384</td>\n",
       "      <td>050.0 060.0</td>\n",
       "      <td>1970-08-22 16:15:00</td>\n",
       "      <td>50</td>\n",
       "      <td>10.46</td>\n",
       "      <td>32.780</td>\n",
       "      <td>25.143</td>\n",
       "    </tr>\n",
       "    <tr>\n",
       "      <th>...</th>\n",
       "      <td>...</td>\n",
       "      <td>...</td>\n",
       "      <td>...</td>\n",
       "      <td>...</td>\n",
       "      <td>...</td>\n",
       "      <td>...</td>\n",
       "      <td>...</td>\n",
       "    </tr>\n",
       "    <tr>\n",
       "      <th>70259</th>\n",
       "      <td>20850</td>\n",
       "      <td>093.0 039.7</td>\n",
       "      <td>1976-11-11 21:36:00</td>\n",
       "      <td>309</td>\n",
       "      <td>7.77</td>\n",
       "      <td>34.190</td>\n",
       "      <td>26.676</td>\n",
       "    </tr>\n",
       "    <tr>\n",
       "      <th>70260</th>\n",
       "      <td>20850</td>\n",
       "      <td>093.0 039.7</td>\n",
       "      <td>1976-11-11 21:36:00</td>\n",
       "      <td>320</td>\n",
       "      <td>7.80</td>\n",
       "      <td>34.224</td>\n",
       "      <td>26.699</td>\n",
       "    </tr>\n",
       "    <tr>\n",
       "      <th>70261</th>\n",
       "      <td>20850</td>\n",
       "      <td>093.0 039.7</td>\n",
       "      <td>1976-11-11 21:36:00</td>\n",
       "      <td>330</td>\n",
       "      <td>7.74</td>\n",
       "      <td>34.240</td>\n",
       "      <td>26.719</td>\n",
       "    </tr>\n",
       "    <tr>\n",
       "      <th>70262</th>\n",
       "      <td>20850</td>\n",
       "      <td>093.0 039.7</td>\n",
       "      <td>1976-11-11 21:36:00</td>\n",
       "      <td>340</td>\n",
       "      <td>7.71</td>\n",
       "      <td>34.255</td>\n",
       "      <td>26.735</td>\n",
       "    </tr>\n",
       "    <tr>\n",
       "      <th>70263</th>\n",
       "      <td>20850</td>\n",
       "      <td>093.0 039.7</td>\n",
       "      <td>1976-11-11 21:36:00</td>\n",
       "      <td>347</td>\n",
       "      <td>7.59</td>\n",
       "      <td>34.251</td>\n",
       "      <td>26.750</td>\n",
       "    </tr>\n",
       "  </tbody>\n",
       "</table>\n",
       "<p>45163 rows × 7 columns</p>\n",
       "</div>"
      ],
      "text/plain": [
       "       Cast_Count   Station_ID            Datetime  Depth_m  T_degC  Salinity  \\\n",
       "25101       17384  050.0 060.0 1970-08-22 16:15:00        0   12.81    32.890   \n",
       "25102       17384  050.0 060.0 1970-08-22 16:15:00       10   12.81    32.900   \n",
       "25103       17384  050.0 060.0 1970-08-22 16:15:00       20   12.81    32.900   \n",
       "25104       17384  050.0 060.0 1970-08-22 16:15:00       30   12.75    32.880   \n",
       "25105       17384  050.0 060.0 1970-08-22 16:15:00       50   10.46    32.780   \n",
       "...           ...          ...                 ...      ...     ...       ...   \n",
       "70259       20850  093.0 039.7 1976-11-11 21:36:00      309    7.77    34.190   \n",
       "70260       20850  093.0 039.7 1976-11-11 21:36:00      320    7.80    34.224   \n",
       "70261       20850  093.0 039.7 1976-11-11 21:36:00      330    7.74    34.240   \n",
       "70262       20850  093.0 039.7 1976-11-11 21:36:00      340    7.71    34.255   \n",
       "70263       20850  093.0 039.7 1976-11-11 21:36:00      347    7.59    34.251   \n",
       "\n",
       "       SigmaTheta  \n",
       "25101      24.797  \n",
       "25102      24.804  \n",
       "25103      24.805  \n",
       "25104      24.801  \n",
       "25105      25.143  \n",
       "...           ...  \n",
       "70259      26.676  \n",
       "70260      26.699  \n",
       "70261      26.719  \n",
       "70262      26.735  \n",
       "70263      26.750  \n",
       "\n",
       "[45163 rows x 7 columns]"
      ]
     },
     "execution_count": 22,
     "metadata": {},
     "output_type": "execute_result"
    }
   ],
   "source": [
    "CalSOFI.loc[\n",
    "    (CalSOFI[\"Datetime\"] >= pd.to_datetime(\"1970-01-01\")) & \n",
    "    (CalSOFI[\"Datetime\"] < pd.to_datetime(\"1980-01-01\"))\n",
    "]"
   ]
  },
  {
   "cell_type": "markdown",
   "id": "67e67361-85d9-4916-bef4-0d3e482ba0c9",
   "metadata": {},
   "source": [
    "## Extracting parts of a datetime"
   ]
  },
  {
   "cell_type": "markdown",
   "id": "9fbabd04-a193-4ab8-a1be-aedcfbbcf79e",
   "metadata": {},
   "source": [
    "Sometimes you are interested in parts of the datetime and not the whole datetime (e.g., in climatology studies you may be interested in the day of year but not the year itself). You are access these as attributes of the *datetime accessor `.dt` of the pandas `Series` (again, a column of a `DataFrame` is a `Series`). Examples include:\n",
    "\n",
    "+ `.dt.year`: year of the datetime\n",
    "+ `.dt.month`: month of the datetime\n",
    "+ `.dt.day`: day of the datetime\n",
    "+ `.dt.hour`: hour of the datetime\n",
    "+ `.dt.minute`: minute of the datetime\n",
    "+ `.dt.dayofyear`: day of year of the datetime\n",
    "\n",
    "For a full list, [see https://pandas.pydata.org/docs/user_guide/timeseries.html#time-date-components](https://pandas.pydata.org/docs/user_guide/timeseries.html#time-date-components)"
   ]
  },
  {
   "cell_type": "markdown",
   "id": "c151adbb-4631-411b-94b4-5ab7a000f264",
   "metadata": {},
   "source": [
    "As an example, let's extract the day of year from the datetimes in CalSOFI:"
   ]
  },
  {
   "cell_type": "code",
   "execution_count": 24,
   "id": "bb89cee0-c648-40e7-a45b-2d37fcb4f3af",
   "metadata": {},
   "outputs": [
    {
     "data": {
      "text/plain": [
       "0         11\n",
       "1         11\n",
       "2         11\n",
       "3         11\n",
       "4         11\n",
       "        ... \n",
       "81369    266\n",
       "81370    266\n",
       "81371    266\n",
       "81372    266\n",
       "81373    266\n",
       "Name: Datetime, Length: 81374, dtype: int32"
      ]
     },
     "execution_count": 24,
     "metadata": {},
     "output_type": "execute_result"
    }
   ],
   "source": [
    "CalSOFI[\"Datetime\"].dt.dayofyear"
   ]
  },
  {
   "cell_type": "code",
   "execution_count": null,
   "id": "315d7f5b-7f7b-439e-ac8a-f497ee2d7d9d",
   "metadata": {},
   "outputs": [],
   "source": []
  }
 ],
 "metadata": {
  "kernelspec": {
   "display_name": "Python 3 (ipykernel)",
   "language": "python",
   "name": "python3"
  },
  "language_info": {
   "codemirror_mode": {
    "name": "ipython",
    "version": 3
   },
   "file_extension": ".py",
   "mimetype": "text/x-python",
   "name": "python",
   "nbconvert_exporter": "python",
   "pygments_lexer": "ipython3",
   "version": "3.12.8"
  }
 },
 "nbformat": 4,
 "nbformat_minor": 5
}
