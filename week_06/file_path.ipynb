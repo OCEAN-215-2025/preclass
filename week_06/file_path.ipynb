{
 "cells": [
  {
   "cell_type": "markdown",
   "id": "9a2986c7-193f-4110-8696-f50d4c694af8",
   "metadata": {},
   "source": [
    "# Navigating file systems"
   ]
  },
  {
   "cell_type": "markdown",
   "id": "38864050-9360-4d3b-9c58-304d7bc71c41",
   "metadata": {},
   "source": [
    "## File system navigation via text"
   ]
  },
  {
   "cell_type": "markdown",
   "id": "350f9c15-69b0-4076-9cc4-ea5b174cdb77",
   "metadata": {},
   "source": [
    "Up to this point we have been including data directly in the Jupyter notebooks. This only works if the data is modest in size, and even then it is not the best practice since data and codes should reside in different places.\n",
    "\n",
    "Thus, this week we'll introduce tools to read files in python. And our first step is to understand how python locate files on your local computer. In particular, we will learn how to specify file location using a string.\n",
    "\n",
    "Now, you are probably familiar with the *directory* structure of your local files: your files are organized in folders (a.k.a. directory), and each folder can contain files and more folders. When you map out that structure, you will find that it assemble a tree, like so:\n",
    "\n",
    "![](img/folder_structure.png)\n",
    "\n",
    "(In computer science trees are customarily inverted)\n",
    "\n",
    "The idea here is that with this tree structure in mind, you can specify the path from one place (usually a folder) to another using a string. The basic rules are:\n",
    "+ To go up one level, use `..`\n",
    "+ To go down one level, specify the name of the child node\n",
    "+ If the location is a folder, add a `/` to the end\n",
    "\n",
    "For example, the file path to go from `project5` to `notes.txt` would be:\n",
    "\n",
    "    ../common/notes.txt\n",
    "\n",
    "And to go from `project5` to `WA_meta.txt`, we'll need:\n",
    "\n",
    "    data/WA_weather/WA_meta.txt"
   ]
  },
  {
   "cell_type": "markdown",
   "id": "4c4227e4-502b-4322-aba0-84bc02ce7aac",
   "metadata": {},
   "source": [
    "## The working directory"
   ]
  },
  {
   "cell_type": "markdown",
   "id": "cfab7be3-c3be-4f81-bfa3-08faf81b396b",
   "metadata": {},
   "source": [
    "There are a special \"starting points\" in the file system: the working directory. When you are working on a Jupyter notebook, the working directory is usually the directory that immediately contains the notebook `.ipynb` file. If you want to where exactly is your working directory, you can use the `os.getcwd()` function, which becomes accessible after you import the (built-in) `os` module:"
   ]
  },
  {
   "cell_type": "code",
   "execution_count": 4,
   "id": "7b0c7965-f1dd-46a7-8d01-16ea6e618167",
   "metadata": {},
   "outputs": [],
   "source": [
    "# import the os module\n",
    "import os"
   ]
  },
  {
   "cell_type": "code",
   "execution_count": 5,
   "id": "8ccf8a27-39be-46ac-ad28-20bca7c7e887",
   "metadata": {},
   "outputs": [
    {
     "data": {
      "text/plain": [
       "'C:\\\\Users\\\\wingho\\\\Dropbox\\\\Work\\\\2025-spring\\\\OCEAN_215_planning\\\\pre_lectures\\\\week_06'"
      ]
     },
     "execution_count": 5,
     "metadata": {},
     "output_type": "execute_result"
    }
   ],
   "source": [
    "# print the working directory\n",
    "os.getcwd()"
   ]
  },
  {
   "cell_type": "markdown",
   "id": "3981f78e-25c3-480b-b5d2-43f767377a6b",
   "metadata": {},
   "source": [
    "Then, to locate a file, you just need to follow the previous section, using your working directory as starting point."
   ]
  },
  {
   "cell_type": "markdown",
   "id": "442fdfed-5b2a-4bfe-a856-1eb53c0eb9b8",
   "metadata": {},
   "source": [
    "## Additional file system tools in `os`"
   ]
  },
  {
   "cell_type": "markdown",
   "id": "678e8934-dd36-4965-93f3-0442ba90621b",
   "metadata": {},
   "source": [
    "If you ever need to change the working directory, you can do so using `os.chdir()`. For example:"
   ]
  },
  {
   "cell_type": "code",
   "execution_count": 12,
   "id": "28e8fe00-4397-4d6f-8a52-f6d9ba3ffe44",
   "metadata": {},
   "outputs": [
    {
     "data": {
      "text/plain": [
       "'C:\\\\Users\\\\wingho\\\\Dropbox\\\\Work\\\\2025-spring\\\\OCEAN_215_planning\\\\pre_lectures'"
      ]
     },
     "execution_count": 12,
     "metadata": {},
     "output_type": "execute_result"
    }
   ],
   "source": [
    "os.chdir(\"../\")\n",
    "os.getcwd()"
   ]
  },
  {
   "cell_type": "markdown",
   "id": "a3287236-1661-4d68-8352-1dc53514ac4f",
   "metadata": {},
   "source": [
    "This can be convenient if you need to work with a data folder that contains multiple files you want to load. \n",
    "\n",
    "Finally, to list all the files and subfolders inside a directory, you may use `os.listdir()`"
   ]
  },
  {
   "cell_type": "code",
   "execution_count": 14,
   "id": "d91ec106-713f-4d5d-91c1-55d6d2b63dc4",
   "metadata": {},
   "outputs": [
    {
     "data": {
      "text/plain": [
       "['.ipynb_checkpoints',\n",
       " 'data',\n",
       " 'file_path.ipynb',\n",
       " 'file_path.md',\n",
       " 'img',\n",
       " 'wk06_intro.md']"
      ]
     },
     "execution_count": 14,
     "metadata": {},
     "output_type": "execute_result"
    }
   ],
   "source": [
    "os.listdir(\"week_06\")"
   ]
  },
  {
   "cell_type": "markdown",
   "id": "57c0666b-aa83-4beb-a27a-ea789b3ca6c6",
   "metadata": {},
   "source": [
    "Note that this list both files and directory. If you need to include only files, you can use `os.path.isfile()` to filter the entries (note: there is also a `os.path.isdir()` to check if the result is a folder):"
   ]
  },
  {
   "cell_type": "code",
   "execution_count": 18,
   "id": "f2eeadb3-c2bf-47ce-9bc7-120ab4e8fa6b",
   "metadata": {},
   "outputs": [
    {
     "name": "stdout",
     "output_type": "stream",
     "text": [
      "['file_path.ipynb', 'file_path.md', 'wk06_intro.md']\n"
     ]
    }
   ],
   "source": [
    "files = []\n",
    "for name in os.listdir(\"week_06\"):\n",
    "    if os.path.isfile(\"week_06/\" + name):\n",
    "       files.append(name)\n",
    "\n",
    "print(files)"
   ]
  },
  {
   "cell_type": "code",
   "execution_count": null,
   "id": "18d70ed6-0b4b-4325-be85-8953de2b5f45",
   "metadata": {},
   "outputs": [],
   "source": []
  }
 ],
 "metadata": {
  "kernelspec": {
   "display_name": "Python 3 (ipykernel)",
   "language": "python",
   "name": "python3"
  },
  "language_info": {
   "codemirror_mode": {
    "name": "ipython",
    "version": 3
   },
   "file_extension": ".py",
   "mimetype": "text/x-python",
   "name": "python",
   "nbconvert_exporter": "python",
   "pygments_lexer": "ipython3",
   "version": "3.12.10"
  }
 },
 "nbformat": 4,
 "nbformat_minor": 5
}
