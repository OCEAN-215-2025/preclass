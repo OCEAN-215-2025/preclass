{
 "cells": [
  {
   "cell_type": "markdown",
   "id": "b68fafbf-5566-4a72-853e-fe472266f8d7",
   "metadata": {},
   "source": [
    "# Pandas DataFrame and tabular data"
   ]
  },
  {
   "cell_type": "markdown",
   "id": "5ab6e645-e061-4b7f-9b9b-ceb3ace93156",
   "metadata": {},
   "source": [
    "## Pandas and pandas DataFrames"
   ]
  },
  {
   "cell_type": "markdown",
   "id": "016a5a37-e1a5-43fe-8aee-bf1396d99995",
   "metadata": {},
   "source": [
    "In data science we often encounter data that are organized in tables. Our main tool to handle such data is the third-party module `pandas`, which we import as:"
   ]
  },
  {
   "cell_type": "code",
   "execution_count": 1,
   "id": "5fe37001-d602-42a7-9b12-14b6194d7b3e",
   "metadata": {},
   "outputs": [],
   "source": [
    "import pandas as pd"
   ]
  },
  {
   "cell_type": "markdown",
   "id": "538cbaaf-86fa-43e1-a8ce-465301eade7d",
   "metadata": {},
   "source": [
    "As before, the `as pd` part is optional but is relatively standard. It defines a shorthand `pd` for the content of the `pandas` package."
   ]
  },
  {
   "cell_type": "markdown",
   "id": "4deb905c-a3ee-4c77-a002-d17f97b53f86",
   "metadata": {},
   "source": [
    "Just like `ndarray` is the center objects offered by numpy. Pandas offer a central object called `DataFrame`. Structurally, pandas DataFrames are row homogeneous (i.e., each row is similar to the next row) but column heterogeneous (i.e., one column may differ from the next one). This makes pandas DataFrame a good representation of tabular data, since tabular data tends to be row homogeneous and column heterogenous too.\n",
    "\n",
    "To create a new DataFrame, we can use the `pd.DataFrame()` function, which we supply key-values pairs enclosed by curly braces `{}`, and which `:` is used to separate the keys and the values. In the specification, the keys correspond to column names, while the values (usually a python list or a numpy array) represent the data from that column. For example:"
   ]
  },
  {
   "cell_type": "code",
   "execution_count": 2,
   "id": "2e7dc282-3ae6-4bc1-aaf6-aa9864690e30",
   "metadata": {},
   "outputs": [
    {
     "data": {
      "text/html": [
       "<div>\n",
       "<style scoped>\n",
       "    .dataframe tbody tr th:only-of-type {\n",
       "        vertical-align: middle;\n",
       "    }\n",
       "\n",
       "    .dataframe tbody tr th {\n",
       "        vertical-align: top;\n",
       "    }\n",
       "\n",
       "    .dataframe thead th {\n",
       "        text-align: right;\n",
       "    }\n",
       "</style>\n",
       "<table border=\"1\" class=\"dataframe\">\n",
       "  <thead>\n",
       "    <tr style=\"text-align: right;\">\n",
       "      <th></th>\n",
       "      <th>A</th>\n",
       "      <th>B</th>\n",
       "      <th>C</th>\n",
       "    </tr>\n",
       "  </thead>\n",
       "  <tbody>\n",
       "    <tr>\n",
       "      <th>0</th>\n",
       "      <td>1</td>\n",
       "      <td>this</td>\n",
       "      <td>1.3</td>\n",
       "    </tr>\n",
       "    <tr>\n",
       "      <th>1</th>\n",
       "      <td>2</td>\n",
       "      <td>that</td>\n",
       "      <td>2.4</td>\n",
       "    </tr>\n",
       "    <tr>\n",
       "      <th>2</th>\n",
       "      <td>3</td>\n",
       "      <td>here</td>\n",
       "      <td>7.5</td>\n",
       "    </tr>\n",
       "    <tr>\n",
       "      <th>3</th>\n",
       "      <td>4</td>\n",
       "      <td>there</td>\n",
       "      <td>8.1</td>\n",
       "    </tr>\n",
       "  </tbody>\n",
       "</table>\n",
       "</div>"
      ],
      "text/plain": [
       "   A      B    C\n",
       "0  1   this  1.3\n",
       "1  2   that  2.4\n",
       "2  3   here  7.5\n",
       "3  4  there  8.1"
      ]
     },
     "metadata": {},
     "output_type": "display_data"
    }
   ],
   "source": [
    "df = pd.DataFrame({\n",
    "    \"A\": [1, 2, 3, 4],\n",
    "    \"B\": [\"this\", \"that\", \"here\", \"there\"],\n",
    "    \"C\": [1.3, 2.4, 7.5, 8.1]\n",
    "})\n",
    "\n",
    "display(df)"
   ]
  },
  {
   "cell_type": "markdown",
   "id": "1e38a023-ceb2-4e11-8a69-fa65da22848a",
   "metadata": {},
   "source": [
    "*Note #1*: the syntax `{key1: value1, key2: value2, ...}` defines a python **dictionary**. It is a useful data structure from core python but we won't be making much use of it in this course other than to supply it as arguments to functions.\n",
    "\n",
    "*Note #2*: In the above we used the `display()` function to display a pandas DataFrame. The `display()` function is built-in to the Jupyter notebook and is used to display information using webpage (HTML) technology, which tends to be richer than the plain-text interface you'll get from using `print()`"
   ]
  },
  {
   "cell_type": "markdown",
   "id": "3496abad-49f7-430b-942c-13276ffd9956",
   "metadata": {},
   "source": [
    "In addition to being able to handle column-heterogeneous data, when compared to a 2D ndarray, a pandas DataFrame also has the advantage that it retains row and column labels. We can extract these using the `.columns` attribute and the `.index` attribute:"
   ]
  },
  {
   "cell_type": "code",
   "execution_count": 3,
   "id": "262ddf31-cf27-4567-88d5-103fa15fd6b5",
   "metadata": {},
   "outputs": [
    {
     "data": {
      "text/plain": [
       "Index(['A', 'B', 'C'], dtype='object')"
      ]
     },
     "execution_count": 3,
     "metadata": {},
     "output_type": "execute_result"
    }
   ],
   "source": [
    "df.columns # column labels"
   ]
  },
  {
   "cell_type": "code",
   "execution_count": 4,
   "id": "1ae978fd-6116-42c8-9699-595be537256b",
   "metadata": {},
   "outputs": [
    {
     "data": {
      "text/plain": [
       "RangeIndex(start=0, stop=4, step=1)"
      ]
     },
     "execution_count": 4,
     "metadata": {},
     "output_type": "execute_result"
    }
   ],
   "source": [
    "df.index # row labels"
   ]
  },
  {
   "cell_type": "markdown",
   "id": "14a14fc1-d2f7-4925-8117-d0275ff1e4fd",
   "metadata": {},
   "source": [
    "Note that because we didn't supply an index to the DataFrame, the row labels default to numerical range that start counting from 0. Index, we could have specify the row labels using the `index` argument of DataFrame"
   ]
  },
  {
   "cell_type": "code",
   "execution_count": 5,
   "id": "9cd4dcff-33af-42d7-8b8b-362b35a4e0ff",
   "metadata": {},
   "outputs": [
    {
     "data": {
      "text/html": [
       "<div>\n",
       "<style scoped>\n",
       "    .dataframe tbody tr th:only-of-type {\n",
       "        vertical-align: middle;\n",
       "    }\n",
       "\n",
       "    .dataframe tbody tr th {\n",
       "        vertical-align: top;\n",
       "    }\n",
       "\n",
       "    .dataframe thead th {\n",
       "        text-align: right;\n",
       "    }\n",
       "</style>\n",
       "<table border=\"1\" class=\"dataframe\">\n",
       "  <thead>\n",
       "    <tr style=\"text-align: right;\">\n",
       "      <th></th>\n",
       "      <th>A</th>\n",
       "      <th>B</th>\n",
       "      <th>C</th>\n",
       "    </tr>\n",
       "  </thead>\n",
       "  <tbody>\n",
       "    <tr>\n",
       "      <th>2017</th>\n",
       "      <td>1</td>\n",
       "      <td>this</td>\n",
       "      <td>1.3</td>\n",
       "    </tr>\n",
       "    <tr>\n",
       "      <th>2018</th>\n",
       "      <td>2</td>\n",
       "      <td>that</td>\n",
       "      <td>2.4</td>\n",
       "    </tr>\n",
       "    <tr>\n",
       "      <th>2019</th>\n",
       "      <td>3</td>\n",
       "      <td>here</td>\n",
       "      <td>7.5</td>\n",
       "    </tr>\n",
       "    <tr>\n",
       "      <th>2020</th>\n",
       "      <td>4</td>\n",
       "      <td>there</td>\n",
       "      <td>8.1</td>\n",
       "    </tr>\n",
       "  </tbody>\n",
       "</table>\n",
       "</div>"
      ],
      "text/plain": [
       "      A      B    C\n",
       "2017  1   this  1.3\n",
       "2018  2   that  2.4\n",
       "2019  3   here  7.5\n",
       "2020  4  there  8.1"
      ]
     },
     "metadata": {},
     "output_type": "display_data"
    }
   ],
   "source": [
    "df = pd.DataFrame(\n",
    "    {\n",
    "        \"A\": [1, 2, 3, 4],\n",
    "        \"B\": [\"this\", \"that\", \"here\", \"there\"],\n",
    "        \"C\": [1.3, 2.4, 7.5, 8.1]\n",
    "    }, index=[\"2017\", \"2018\", \"2019\", \"2020\"]\n",
    ")\n",
    "\n",
    "display(df)"
   ]
  },
  {
   "cell_type": "markdown",
   "id": "a23d9cd4-220e-455b-ab3c-e6212bc5bc7b",
   "metadata": {},
   "source": [
    "A single column of a DataFrame is a pandas Series. We can extract a Series from a DataFrame using the square brackets `[]` syntax. For example:"
   ]
  },
  {
   "cell_type": "code",
   "execution_count": 6,
   "id": "4bb1ea84-d1e9-499d-8f54-bd89deca141b",
   "metadata": {},
   "outputs": [
    {
     "data": {
      "text/plain": [
       "2017    1\n",
       "2018    2\n",
       "2019    3\n",
       "2020    4\n",
       "Name: A, dtype: int64"
      ]
     },
     "execution_count": 6,
     "metadata": {},
     "output_type": "execute_result"
    }
   ],
   "source": [
    "df[\"A\"]"
   ]
  },
  {
   "cell_type": "markdown",
   "id": "adc97840-e119-4831-8c9c-6e9dea267cc9",
   "metadata": {},
   "source": [
    "Notice the a pandas Series comes with its index and name"
   ]
  },
  {
   "cell_type": "markdown",
   "id": "02763c23-e2cf-42ca-9e29-9b3dc10abd47",
   "metadata": {},
   "source": [
    "We can extract the data contained within the Series using the `.value` attribute:"
   ]
  },
  {
   "cell_type": "code",
   "execution_count": 7,
   "id": "ee83681d-2105-40af-a64a-b4f126675e7d",
   "metadata": {},
   "outputs": [
    {
     "data": {
      "text/plain": [
       "array([1, 2, 3, 4], dtype=int64)"
      ]
     },
     "execution_count": 7,
     "metadata": {},
     "output_type": "execute_result"
    }
   ],
   "source": [
    "df[\"A\"].values"
   ]
  },
  {
   "cell_type": "markdown",
   "id": "2b197928-8cf8-4874-bf8d-a0e473457e22",
   "metadata": {},
   "source": [
    "Similarly, we can extract the data contained in column labels and row labels of a DataFrame using the `.value` attribute:"
   ]
  },
  {
   "cell_type": "code",
   "execution_count": 8,
   "id": "156d1dc1-fa06-4cd1-b962-f74a2656473c",
   "metadata": {},
   "outputs": [
    {
     "data": {
      "text/plain": [
       "array(['A', 'B', 'C'], dtype=object)"
      ]
     },
     "execution_count": 8,
     "metadata": {},
     "output_type": "execute_result"
    }
   ],
   "source": [
    "df.columns.values"
   ]
  },
  {
   "cell_type": "code",
   "execution_count": 9,
   "id": "4baad623-14d1-4150-a027-07e51cef12c5",
   "metadata": {},
   "outputs": [
    {
     "data": {
      "text/plain": [
       "array(['2017', '2018', '2019', '2020'], dtype=object)"
      ]
     },
     "execution_count": 9,
     "metadata": {},
     "output_type": "execute_result"
    }
   ],
   "source": [
    "df.index.values"
   ]
  },
  {
   "cell_type": "markdown",
   "id": "75ad2978-be88-4917-a7d0-c41de6f29f4c",
   "metadata": {},
   "source": [
    "## Importing data into pandas DataFrame"
   ]
  },
  {
   "cell_type": "markdown",
   "id": "3554f0e0-4332-460f-8502-6b4c11c5ad5f",
   "metadata": {},
   "source": [
    "More often your DataFrame will be created from external tabular data. The most portable format for such data is a CSV (comma separated values) file. This can be done conveniently using the `pd.read_csv()` function. Moreover, pandas by default does not read strings in the most efficient format. To force conversion, apply the `.convert_dtype()` method\n",
    "\n",
    "For example, a subset of the CalSOFI dataset ([https://calcofi.org/](https://calcofi.org/)) can be loaded as follows (*note*: the data file can be downloaded [here](https://github.com/OCEAN-215-2025/preclass/tree/main/week_06/data/CalSOFI_subset.csv))"
   ]
  },
  {
   "cell_type": "code",
   "execution_count": 10,
   "id": "b159a8d6-13ba-4a33-a1c4-7f5957417bb0",
   "metadata": {},
   "outputs": [
    {
     "data": {
      "text/html": [
       "<div>\n",
       "<style scoped>\n",
       "    .dataframe tbody tr th:only-of-type {\n",
       "        vertical-align: middle;\n",
       "    }\n",
       "\n",
       "    .dataframe tbody tr th {\n",
       "        vertical-align: top;\n",
       "    }\n",
       "\n",
       "    .dataframe thead th {\n",
       "        text-align: right;\n",
       "    }\n",
       "</style>\n",
       "<table border=\"1\" class=\"dataframe\">\n",
       "  <thead>\n",
       "    <tr style=\"text-align: right;\">\n",
       "      <th></th>\n",
       "      <th>Cast_Count</th>\n",
       "      <th>Station_ID</th>\n",
       "      <th>Datetime</th>\n",
       "      <th>Depth_m</th>\n",
       "      <th>T_degC</th>\n",
       "      <th>Salinity</th>\n",
       "      <th>SigmaTheta</th>\n",
       "    </tr>\n",
       "  </thead>\n",
       "  <tbody>\n",
       "    <tr>\n",
       "      <th>0</th>\n",
       "      <td>14172</td>\n",
       "      <td>060.0 060.0</td>\n",
       "      <td>1965-01-11 04:43:00</td>\n",
       "      <td>0</td>\n",
       "      <td>12.12</td>\n",
       "      <td>33.030</td>\n",
       "      <td>25.030</td>\n",
       "    </tr>\n",
       "    <tr>\n",
       "      <th>1</th>\n",
       "      <td>14172</td>\n",
       "      <td>060.0 060.0</td>\n",
       "      <td>1965-01-11 04:43:00</td>\n",
       "      <td>10</td>\n",
       "      <td>12.08</td>\n",
       "      <td>33.040</td>\n",
       "      <td>25.050</td>\n",
       "    </tr>\n",
       "    <tr>\n",
       "      <th>2</th>\n",
       "      <td>14172</td>\n",
       "      <td>060.0 060.0</td>\n",
       "      <td>1965-01-11 04:43:00</td>\n",
       "      <td>20</td>\n",
       "      <td>12.06</td>\n",
       "      <td>33.040</td>\n",
       "      <td>25.050</td>\n",
       "    </tr>\n",
       "    <tr>\n",
       "      <th>3</th>\n",
       "      <td>14172</td>\n",
       "      <td>060.0 060.0</td>\n",
       "      <td>1965-01-11 04:43:00</td>\n",
       "      <td>30</td>\n",
       "      <td>12.06</td>\n",
       "      <td>33.040</td>\n",
       "      <td>25.050</td>\n",
       "    </tr>\n",
       "    <tr>\n",
       "      <th>4</th>\n",
       "      <td>14172</td>\n",
       "      <td>060.0 060.0</td>\n",
       "      <td>1965-01-11 04:43:00</td>\n",
       "      <td>50</td>\n",
       "      <td>11.18</td>\n",
       "      <td>33.280</td>\n",
       "      <td>25.400</td>\n",
       "    </tr>\n",
       "    <tr>\n",
       "      <th>...</th>\n",
       "      <td>...</td>\n",
       "      <td>...</td>\n",
       "      <td>...</td>\n",
       "      <td>...</td>\n",
       "      <td>...</td>\n",
       "      <td>...</td>\n",
       "      <td>...</td>\n",
       "    </tr>\n",
       "    <tr>\n",
       "      <th>81369</th>\n",
       "      <td>25948</td>\n",
       "      <td>090.5 043.0</td>\n",
       "      <td>1988-09-22 18:45:00</td>\n",
       "      <td>250</td>\n",
       "      <td>7.82</td>\n",
       "      <td>34.168</td>\n",
       "      <td>26.651</td>\n",
       "    </tr>\n",
       "    <tr>\n",
       "      <th>81370</th>\n",
       "      <td>25948</td>\n",
       "      <td>090.5 043.0</td>\n",
       "      <td>1988-09-22 18:45:00</td>\n",
       "      <td>275</td>\n",
       "      <td>7.66</td>\n",
       "      <td>34.203</td>\n",
       "      <td>26.701</td>\n",
       "    </tr>\n",
       "    <tr>\n",
       "      <th>81371</th>\n",
       "      <td>25948</td>\n",
       "      <td>090.5 043.0</td>\n",
       "      <td>1988-09-22 18:45:00</td>\n",
       "      <td>300</td>\n",
       "      <td>7.44</td>\n",
       "      <td>34.225</td>\n",
       "      <td>26.750</td>\n",
       "    </tr>\n",
       "    <tr>\n",
       "      <th>81372</th>\n",
       "      <td>25948</td>\n",
       "      <td>090.5 043.0</td>\n",
       "      <td>1988-09-22 18:45:00</td>\n",
       "      <td>350</td>\n",
       "      <td>7.17</td>\n",
       "      <td>34.260</td>\n",
       "      <td>26.817</td>\n",
       "    </tr>\n",
       "    <tr>\n",
       "      <th>81373</th>\n",
       "      <td>25948</td>\n",
       "      <td>090.5 043.0</td>\n",
       "      <td>1988-09-22 18:45:00</td>\n",
       "      <td>381</td>\n",
       "      <td>6.91</td>\n",
       "      <td>34.282</td>\n",
       "      <td>26.870</td>\n",
       "    </tr>\n",
       "  </tbody>\n",
       "</table>\n",
       "<p>81374 rows × 7 columns</p>\n",
       "</div>"
      ],
      "text/plain": [
       "       Cast_Count   Station_ID             Datetime  Depth_m  T_degC  \\\n",
       "0           14172  060.0 060.0  1965-01-11 04:43:00        0   12.12   \n",
       "1           14172  060.0 060.0  1965-01-11 04:43:00       10   12.08   \n",
       "2           14172  060.0 060.0  1965-01-11 04:43:00       20   12.06   \n",
       "3           14172  060.0 060.0  1965-01-11 04:43:00       30   12.06   \n",
       "4           14172  060.0 060.0  1965-01-11 04:43:00       50   11.18   \n",
       "...           ...          ...                  ...      ...     ...   \n",
       "81369       25948  090.5 043.0  1988-09-22 18:45:00      250    7.82   \n",
       "81370       25948  090.5 043.0  1988-09-22 18:45:00      275    7.66   \n",
       "81371       25948  090.5 043.0  1988-09-22 18:45:00      300    7.44   \n",
       "81372       25948  090.5 043.0  1988-09-22 18:45:00      350    7.17   \n",
       "81373       25948  090.5 043.0  1988-09-22 18:45:00      381    6.91   \n",
       "\n",
       "       Salinity  SigmaTheta  \n",
       "0        33.030      25.030  \n",
       "1        33.040      25.050  \n",
       "2        33.040      25.050  \n",
       "3        33.040      25.050  \n",
       "4        33.280      25.400  \n",
       "...         ...         ...  \n",
       "81369    34.168      26.651  \n",
       "81370    34.203      26.701  \n",
       "81371    34.225      26.750  \n",
       "81372    34.260      26.817  \n",
       "81373    34.282      26.870  \n",
       "\n",
       "[81374 rows x 7 columns]"
      ]
     },
     "metadata": {},
     "output_type": "display_data"
    }
   ],
   "source": [
    "CalSOFI = pd.read_csv(\"data/CalSOFI_subset.csv\")\n",
    "display(CalSOFI)"
   ]
  },
  {
   "cell_type": "markdown",
   "id": "562aced9-9f8c-482d-8fcc-ec9c97d0727d",
   "metadata": {},
   "source": [
    "You can find the official documentation of `pd.read_csv()` from [https://pandas.pydata.org/docs/reference/api/pandas.read_csv.html](https://pandas.pydata.org/docs/reference/api/pandas.read_csv.html). The function have plenty of (keyword-only, optional) arguments. Some highlights are:\n",
    "\n",
    "+ `names`: The names to use as column names. If not supplied the first line being read is treated as a header row\n",
    "+ `skiprows`: if an `int`, the number of rows to skip before contents are readed in; if a python `list` of `int`, the line indices to skip.\n",
    "+ `cols`: the columns to read into the DataFrame. Can be a list of column indices or column names\n",
    "+ `na_values`: which values are to be treated as indication of missing data\n",
    "\n",
    "As an example, here is the content of a simple CSV file (don't worry about the details of the code; we don't expect you to read a file as plain text in this course):"
   ]
  },
  {
   "cell_type": "code",
   "execution_count": 11,
   "id": "ae9776e0-54a8-4d39-876e-c4aacc8ecd05",
   "metadata": {},
   "outputs": [
    {
     "name": "stdout",
     "output_type": "stream",
     "text": [
      "# Two lines of metadata, \n",
      "# followed by an empty line\n",
      "\n",
      "A,B,C,D\n",
      "m,g,cm,L\n",
      "1,3.2,4,2\n",
      "2,7.9,7,5\n",
      "2,-999,5,3\n"
     ]
    }
   ],
   "source": [
    "with open(\"data/header_example.csv\") as infile:\n",
    "    print(infile.read())"
   ]
  },
  {
   "cell_type": "markdown",
   "id": "3917bae8-5916-4ac9-aacf-63653ca46fb9",
   "metadata": {},
   "source": [
    "Suppose we learned that \"-999\" is the code for missing value, and that we want yo skip the metadata lines (indices 0, 1), the empty line (index 2), and the units line (index 4), and read only the columns \"A\", \"B\", and \"D\", we may do:"
   ]
  },
  {
   "cell_type": "code",
   "execution_count": 12,
   "id": "713de007-ee1e-45ae-a332-cf06cb8ce321",
   "metadata": {},
   "outputs": [
    {
     "data": {
      "text/html": [
       "<div>\n",
       "<style scoped>\n",
       "    .dataframe tbody tr th:only-of-type {\n",
       "        vertical-align: middle;\n",
       "    }\n",
       "\n",
       "    .dataframe tbody tr th {\n",
       "        vertical-align: top;\n",
       "    }\n",
       "\n",
       "    .dataframe thead th {\n",
       "        text-align: right;\n",
       "    }\n",
       "</style>\n",
       "<table border=\"1\" class=\"dataframe\">\n",
       "  <thead>\n",
       "    <tr style=\"text-align: right;\">\n",
       "      <th></th>\n",
       "      <th>A</th>\n",
       "      <th>B</th>\n",
       "      <th>D</th>\n",
       "    </tr>\n",
       "  </thead>\n",
       "  <tbody>\n",
       "    <tr>\n",
       "      <th>0</th>\n",
       "      <td>1</td>\n",
       "      <td>3.2</td>\n",
       "      <td>2</td>\n",
       "    </tr>\n",
       "    <tr>\n",
       "      <th>1</th>\n",
       "      <td>2</td>\n",
       "      <td>7.9</td>\n",
       "      <td>5</td>\n",
       "    </tr>\n",
       "    <tr>\n",
       "      <th>2</th>\n",
       "      <td>2</td>\n",
       "      <td>NaN</td>\n",
       "      <td>3</td>\n",
       "    </tr>\n",
       "  </tbody>\n",
       "</table>\n",
       "</div>"
      ],
      "text/plain": [
       "   A    B  D\n",
       "0  1  3.2  2\n",
       "1  2  7.9  5\n",
       "2  2  NaN  3"
      ]
     },
     "execution_count": 12,
     "metadata": {},
     "output_type": "execute_result"
    }
   ],
   "source": [
    "pd.read_csv(\n",
    "    \"data/header_example.csv\", \n",
    "    skiprows=[0, 1, 2, 4], \n",
    "    usecols=[\"A\", \"B\", \"D\"], \n",
    "    na_values=\"-999\"\n",
    ")"
   ]
  },
  {
   "cell_type": "markdown",
   "id": "ad73aec9-82a8-4b0d-adf0-fec69d1bb618",
   "metadata": {},
   "source": [
    "Incidentally, pandas can also be used to read Microsoft Excel file. The relevant function is `pd.read_excel()`, with is documented at [https://pandas.pydata.org/docs/reference/api/pandas.read_excel.html](https://pandas.pydata.org/docs/reference/api/pandas.read_excel.html). Most of its arguments are the same as `pd.read_csv()`, with the notable except of the `sheet_name` argument, which is used to specify the sheet to load the data from.\n",
    "\n",
    "As an example, the CalSOFI data is also saved as an Excel .xlsx document, and we can load it as such:"
   ]
  },
  {
   "cell_type": "code",
   "execution_count": 15,
   "id": "361f2d98-5b69-440b-b078-9d748685e3a3",
   "metadata": {},
   "outputs": [
    {
     "data": {
      "text/html": [
       "<div>\n",
       "<style scoped>\n",
       "    .dataframe tbody tr th:only-of-type {\n",
       "        vertical-align: middle;\n",
       "    }\n",
       "\n",
       "    .dataframe tbody tr th {\n",
       "        vertical-align: top;\n",
       "    }\n",
       "\n",
       "    .dataframe thead th {\n",
       "        text-align: right;\n",
       "    }\n",
       "</style>\n",
       "<table border=\"1\" class=\"dataframe\">\n",
       "  <thead>\n",
       "    <tr style=\"text-align: right;\">\n",
       "      <th></th>\n",
       "      <th>Cast_Count</th>\n",
       "      <th>Station_ID</th>\n",
       "      <th>Datetime</th>\n",
       "      <th>Depth_m</th>\n",
       "      <th>T_degC</th>\n",
       "      <th>Salinity</th>\n",
       "      <th>SigmaTheta</th>\n",
       "    </tr>\n",
       "  </thead>\n",
       "  <tbody>\n",
       "    <tr>\n",
       "      <th>0</th>\n",
       "      <td>14172</td>\n",
       "      <td>060.0 060.0</td>\n",
       "      <td>1965-01-11 04:43:00</td>\n",
       "      <td>0</td>\n",
       "      <td>12.12</td>\n",
       "      <td>33.030</td>\n",
       "      <td>25.030</td>\n",
       "    </tr>\n",
       "    <tr>\n",
       "      <th>1</th>\n",
       "      <td>14172</td>\n",
       "      <td>060.0 060.0</td>\n",
       "      <td>1965-01-11 04:43:00</td>\n",
       "      <td>10</td>\n",
       "      <td>12.08</td>\n",
       "      <td>33.040</td>\n",
       "      <td>25.050</td>\n",
       "    </tr>\n",
       "    <tr>\n",
       "      <th>2</th>\n",
       "      <td>14172</td>\n",
       "      <td>060.0 060.0</td>\n",
       "      <td>1965-01-11 04:43:00</td>\n",
       "      <td>20</td>\n",
       "      <td>12.06</td>\n",
       "      <td>33.040</td>\n",
       "      <td>25.050</td>\n",
       "    </tr>\n",
       "    <tr>\n",
       "      <th>3</th>\n",
       "      <td>14172</td>\n",
       "      <td>060.0 060.0</td>\n",
       "      <td>1965-01-11 04:43:00</td>\n",
       "      <td>30</td>\n",
       "      <td>12.06</td>\n",
       "      <td>33.040</td>\n",
       "      <td>25.050</td>\n",
       "    </tr>\n",
       "    <tr>\n",
       "      <th>4</th>\n",
       "      <td>14172</td>\n",
       "      <td>060.0 060.0</td>\n",
       "      <td>1965-01-11 04:43:00</td>\n",
       "      <td>50</td>\n",
       "      <td>11.18</td>\n",
       "      <td>33.280</td>\n",
       "      <td>25.400</td>\n",
       "    </tr>\n",
       "    <tr>\n",
       "      <th>...</th>\n",
       "      <td>...</td>\n",
       "      <td>...</td>\n",
       "      <td>...</td>\n",
       "      <td>...</td>\n",
       "      <td>...</td>\n",
       "      <td>...</td>\n",
       "      <td>...</td>\n",
       "    </tr>\n",
       "    <tr>\n",
       "      <th>81369</th>\n",
       "      <td>25948</td>\n",
       "      <td>090.5 043.0</td>\n",
       "      <td>1988-09-22 18:45:00</td>\n",
       "      <td>250</td>\n",
       "      <td>7.82</td>\n",
       "      <td>34.168</td>\n",
       "      <td>26.651</td>\n",
       "    </tr>\n",
       "    <tr>\n",
       "      <th>81370</th>\n",
       "      <td>25948</td>\n",
       "      <td>090.5 043.0</td>\n",
       "      <td>1988-09-22 18:45:00</td>\n",
       "      <td>275</td>\n",
       "      <td>7.66</td>\n",
       "      <td>34.203</td>\n",
       "      <td>26.701</td>\n",
       "    </tr>\n",
       "    <tr>\n",
       "      <th>81371</th>\n",
       "      <td>25948</td>\n",
       "      <td>090.5 043.0</td>\n",
       "      <td>1988-09-22 18:45:00</td>\n",
       "      <td>300</td>\n",
       "      <td>7.44</td>\n",
       "      <td>34.225</td>\n",
       "      <td>26.750</td>\n",
       "    </tr>\n",
       "    <tr>\n",
       "      <th>81372</th>\n",
       "      <td>25948</td>\n",
       "      <td>090.5 043.0</td>\n",
       "      <td>1988-09-22 18:45:00</td>\n",
       "      <td>350</td>\n",
       "      <td>7.17</td>\n",
       "      <td>34.260</td>\n",
       "      <td>26.817</td>\n",
       "    </tr>\n",
       "    <tr>\n",
       "      <th>81373</th>\n",
       "      <td>25948</td>\n",
       "      <td>090.5 043.0</td>\n",
       "      <td>1988-09-22 18:45:00</td>\n",
       "      <td>381</td>\n",
       "      <td>6.91</td>\n",
       "      <td>34.282</td>\n",
       "      <td>26.870</td>\n",
       "    </tr>\n",
       "  </tbody>\n",
       "</table>\n",
       "<p>81374 rows × 7 columns</p>\n",
       "</div>"
      ],
      "text/plain": [
       "       Cast_Count   Station_ID            Datetime  Depth_m  T_degC  Salinity  \\\n",
       "0           14172  060.0 060.0 1965-01-11 04:43:00        0   12.12    33.030   \n",
       "1           14172  060.0 060.0 1965-01-11 04:43:00       10   12.08    33.040   \n",
       "2           14172  060.0 060.0 1965-01-11 04:43:00       20   12.06    33.040   \n",
       "3           14172  060.0 060.0 1965-01-11 04:43:00       30   12.06    33.040   \n",
       "4           14172  060.0 060.0 1965-01-11 04:43:00       50   11.18    33.280   \n",
       "...           ...          ...                 ...      ...     ...       ...   \n",
       "81369       25948  090.5 043.0 1988-09-22 18:45:00      250    7.82    34.168   \n",
       "81370       25948  090.5 043.0 1988-09-22 18:45:00      275    7.66    34.203   \n",
       "81371       25948  090.5 043.0 1988-09-22 18:45:00      300    7.44    34.225   \n",
       "81372       25948  090.5 043.0 1988-09-22 18:45:00      350    7.17    34.260   \n",
       "81373       25948  090.5 043.0 1988-09-22 18:45:00      381    6.91    34.282   \n",
       "\n",
       "       SigmaTheta  \n",
       "0          25.030  \n",
       "1          25.050  \n",
       "2          25.050  \n",
       "3          25.050  \n",
       "4          25.400  \n",
       "...           ...  \n",
       "81369      26.651  \n",
       "81370      26.701  \n",
       "81371      26.750  \n",
       "81372      26.817  \n",
       "81373      26.870  \n",
       "\n",
       "[81374 rows x 7 columns]"
      ]
     },
     "metadata": {},
     "output_type": "display_data"
    }
   ],
   "source": [
    "CalSOFI_2 = pd.read_excel(\"data/CalSOFI_subset.xlsx\", sheet_name=\"Sheet1\")\n",
    "display(CalSOFI_2)"
   ]
  },
  {
   "cell_type": "code",
   "execution_count": null,
   "id": "de4f7492-07f7-4fff-9c6a-3ccecab64de7",
   "metadata": {},
   "outputs": [],
   "source": []
  }
 ],
 "metadata": {
  "kernelspec": {
   "display_name": "Python 3 (ipykernel)",
   "language": "python",
   "name": "python3"
  },
  "language_info": {
   "codemirror_mode": {
    "name": "ipython",
    "version": 3
   },
   "file_extension": ".py",
   "mimetype": "text/x-python",
   "name": "python",
   "nbconvert_exporter": "python",
   "pygments_lexer": "ipython3",
   "version": "3.12.10"
  }
 },
 "nbformat": 4,
 "nbformat_minor": 5
}
