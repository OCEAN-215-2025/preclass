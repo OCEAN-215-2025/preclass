{
 "cells": [
  {
   "cell_type": "markdown",
   "id": "b68fafbf-5566-4a72-853e-fe472266f8d7",
   "metadata": {},
   "source": [
    "# Pandas DataFrame and tabular data"
   ]
  },
  {
   "cell_type": "markdown",
   "id": "5ab6e645-e061-4b7f-9b9b-ceb3ace93156",
   "metadata": {},
   "source": [
    "## Pandas and pandas DataFrames"
   ]
  },
  {
   "cell_type": "markdown",
   "id": "016a5a37-e1a5-43fe-8aee-bf1396d99995",
   "metadata": {},
   "source": [
    "In data science we often encounter data that are organized in tables. Our main tool to handle such data is the third-party module `pandas`, which we import as:"
   ]
  },
  {
   "cell_type": "code",
   "execution_count": 2,
   "id": "5fe37001-d602-42a7-9b12-14b6194d7b3e",
   "metadata": {},
   "outputs": [],
   "source": [
    "import pandas as pd"
   ]
  },
  {
   "cell_type": "markdown",
   "id": "538cbaaf-86fa-43e1-a8ce-465301eade7d",
   "metadata": {},
   "source": [
    "As before, the `as pd` part is optional but is relatively standard. It defines a shorthand `pd` for the content of the `pandas` package."
   ]
  },
  {
   "cell_type": "markdown",
   "id": "4deb905c-a3ee-4c77-a002-d17f97b53f86",
   "metadata": {},
   "source": [
    "Just like `ndarray` is the center objects offered by numpy. Pandas offer a central object called `DataFrame`. Structurally, pandas DataFrames are row homogeneous (i.e., each row is similar to the next row) but column heterogeneous (i.e., one column may differ from the next one). This makes pandas DataFrame a good representation of tabular data, since tabular data tends to be row homogeneous and column heterogeneous too.\n",
    "\n",
    "To create a new DataFrame, we can use the `pd.DataFrame()` function, which we supply key-values pairs enclosed by curly braces `{}`, and which `:` is used to separate the keys and the values. In the specification, the keys correspond to column names, while the values (usually a python list or a numpy array) represent the data from that column. For example:"
   ]
  },
  {
   "cell_type": "code",
   "execution_count": 3,
   "id": "2e7dc282-3ae6-4bc1-aaf6-aa9864690e30",
   "metadata": {},
   "outputs": [
    {
     "data": {
      "text/html": [
       "<div>\n",
       "<style scoped>\n",
       "    .dataframe tbody tr th:only-of-type {\n",
       "        vertical-align: middle;\n",
       "    }\n",
       "\n",
       "    .dataframe tbody tr th {\n",
       "        vertical-align: top;\n",
       "    }\n",
       "\n",
       "    .dataframe thead th {\n",
       "        text-align: right;\n",
       "    }\n",
       "</style>\n",
       "<table border=\"1\" class=\"dataframe\">\n",
       "  <thead>\n",
       "    <tr style=\"text-align: right;\">\n",
       "      <th></th>\n",
       "      <th>A</th>\n",
       "      <th>B</th>\n",
       "      <th>C</th>\n",
       "    </tr>\n",
       "  </thead>\n",
       "  <tbody>\n",
       "    <tr>\n",
       "      <th>0</th>\n",
       "      <td>1</td>\n",
       "      <td>this</td>\n",
       "      <td>1.3</td>\n",
       "    </tr>\n",
       "    <tr>\n",
       "      <th>1</th>\n",
       "      <td>2</td>\n",
       "      <td>that</td>\n",
       "      <td>2.4</td>\n",
       "    </tr>\n",
       "    <tr>\n",
       "      <th>2</th>\n",
       "      <td>3</td>\n",
       "      <td>here</td>\n",
       "      <td>7.5</td>\n",
       "    </tr>\n",
       "    <tr>\n",
       "      <th>3</th>\n",
       "      <td>4</td>\n",
       "      <td>there</td>\n",
       "      <td>8.1</td>\n",
       "    </tr>\n",
       "  </tbody>\n",
       "</table>\n",
       "</div>"
      ],
      "text/plain": [
       "   A      B    C\n",
       "0  1   this  1.3\n",
       "1  2   that  2.4\n",
       "2  3   here  7.5\n",
       "3  4  there  8.1"
      ]
     },
     "metadata": {},
     "output_type": "display_data"
    }
   ],
   "source": [
    "df = pd.DataFrame({\n",
    "    \"A\": [1, 2, 3, 4],\n",
    "    \"B\": [\"this\", \"that\", \"here\", \"there\"],\n",
    "    \"C\": [1.3, 2.4, 7.5, 8.1]\n",
    "})\n",
    "\n",
    "display(df)"
   ]
  },
  {
   "cell_type": "markdown",
   "id": "1e38a023-ceb2-4e11-8a69-fa65da22848a",
   "metadata": {},
   "source": [
    "*Note #1*: the syntax `{key1: value1, key2: value2, ...}` defines a python **dictionary**. It is a useful data structure from core python but we won't be making much use of it in this course other than to supply it as arguments to functions.\n",
    "\n",
    "*Note #2*: In the above we used the `display()` function to display a pandas DataFrame. The `display()` function is built-in to the Jupyter notebook and is used to display information using webpage (HTML) technology, which tends to be richer than the plain-text interface you'll get from using `print()`"
   ]
  },
  {
   "cell_type": "markdown",
   "id": "3496abad-49f7-430b-942c-13276ffd9956",
   "metadata": {},
   "source": [
    "In addition to being able to handle column-heterogeneous data, when compared to a 2D ndarray, a pandas DataFrame also has the advantage that it retains row and column labels. We can extract these using the `.columns` attribute and the `.index` attribute:"
   ]
  },
  {
   "cell_type": "code",
   "execution_count": 4,
   "id": "262ddf31-cf27-4567-88d5-103fa15fd6b5",
   "metadata": {},
   "outputs": [
    {
     "data": {
      "text/plain": [
       "Index(['A', 'B', 'C'], dtype='object')"
      ]
     },
     "execution_count": 4,
     "metadata": {},
     "output_type": "execute_result"
    }
   ],
   "source": [
    "df.columns # column labels"
   ]
  },
  {
   "cell_type": "code",
   "execution_count": 5,
   "id": "1ae978fd-6116-42c8-9699-595be537256b",
   "metadata": {},
   "outputs": [
    {
     "data": {
      "text/plain": [
       "RangeIndex(start=0, stop=4, step=1)"
      ]
     },
     "execution_count": 5,
     "metadata": {},
     "output_type": "execute_result"
    }
   ],
   "source": [
    "df.index # row labels"
   ]
  },
  {
   "cell_type": "markdown",
   "id": "14a14fc1-d2f7-4925-8117-d0275ff1e4fd",
   "metadata": {},
   "source": [
    "Note that because we didn't supply an index to the DataFrame, the row labels default to numerical range that start counting from 0. Index, we could have specify the row labels using the `index` argument of DataFrame"
   ]
  },
  {
   "cell_type": "code",
   "execution_count": 6,
   "id": "9cd4dcff-33af-42d7-8b8b-362b35a4e0ff",
   "metadata": {},
   "outputs": [
    {
     "data": {
      "text/html": [
       "<div>\n",
       "<style scoped>\n",
       "    .dataframe tbody tr th:only-of-type {\n",
       "        vertical-align: middle;\n",
       "    }\n",
       "\n",
       "    .dataframe tbody tr th {\n",
       "        vertical-align: top;\n",
       "    }\n",
       "\n",
       "    .dataframe thead th {\n",
       "        text-align: right;\n",
       "    }\n",
       "</style>\n",
       "<table border=\"1\" class=\"dataframe\">\n",
       "  <thead>\n",
       "    <tr style=\"text-align: right;\">\n",
       "      <th></th>\n",
       "      <th>A</th>\n",
       "      <th>B</th>\n",
       "      <th>C</th>\n",
       "    </tr>\n",
       "  </thead>\n",
       "  <tbody>\n",
       "    <tr>\n",
       "      <th>2017</th>\n",
       "      <td>1</td>\n",
       "      <td>this</td>\n",
       "      <td>1.3</td>\n",
       "    </tr>\n",
       "    <tr>\n",
       "      <th>2018</th>\n",
       "      <td>2</td>\n",
       "      <td>that</td>\n",
       "      <td>2.4</td>\n",
       "    </tr>\n",
       "    <tr>\n",
       "      <th>2019</th>\n",
       "      <td>3</td>\n",
       "      <td>here</td>\n",
       "      <td>7.5</td>\n",
       "    </tr>\n",
       "    <tr>\n",
       "      <th>2020</th>\n",
       "      <td>4</td>\n",
       "      <td>there</td>\n",
       "      <td>8.1</td>\n",
       "    </tr>\n",
       "  </tbody>\n",
       "</table>\n",
       "</div>"
      ],
      "text/plain": [
       "      A      B    C\n",
       "2017  1   this  1.3\n",
       "2018  2   that  2.4\n",
       "2019  3   here  7.5\n",
       "2020  4  there  8.1"
      ]
     },
     "metadata": {},
     "output_type": "display_data"
    }
   ],
   "source": [
    "df = pd.DataFrame(\n",
    "    {\n",
    "        \"A\": [1, 2, 3, 4],\n",
    "        \"B\": [\"this\", \"that\", \"here\", \"there\"],\n",
    "        \"C\": [1.3, 2.4, 7.5, 8.1]\n",
    "    }, index=[\"2017\", \"2018\", \"2019\", \"2020\"]\n",
    ")\n",
    "\n",
    "display(df)"
   ]
  },
  {
   "cell_type": "markdown",
   "id": "a23d9cd4-220e-455b-ab3c-e6212bc5bc7b",
   "metadata": {},
   "source": [
    "A single column of a DataFrame is a pandas Series. We can extract a Series from a DataFrame using the square brackets `[]` syntax. For example:"
   ]
  },
  {
   "cell_type": "code",
   "execution_count": 7,
   "id": "4bb1ea84-d1e9-499d-8f54-bd89deca141b",
   "metadata": {},
   "outputs": [
    {
     "data": {
      "text/plain": [
       "2017    1\n",
       "2018    2\n",
       "2019    3\n",
       "2020    4\n",
       "Name: A, dtype: int64"
      ]
     },
     "execution_count": 7,
     "metadata": {},
     "output_type": "execute_result"
    }
   ],
   "source": [
    "df[\"A\"]"
   ]
  },
  {
   "cell_type": "markdown",
   "id": "adc97840-e119-4831-8c9c-6e9dea267cc9",
   "metadata": {},
   "source": [
    "Notice the a pandas Series comes with its index and name"
   ]
  },
  {
   "cell_type": "markdown",
   "id": "02763c23-e2cf-42ca-9e29-9b3dc10abd47",
   "metadata": {},
   "source": [
    "We can extract the data contained within the Series using the `.value` attribute:"
   ]
  },
  {
   "cell_type": "code",
   "execution_count": 9,
   "id": "ee83681d-2105-40af-a64a-b4f126675e7d",
   "metadata": {},
   "outputs": [
    {
     "data": {
      "text/plain": [
       "array([1, 2, 3, 4], dtype=int64)"
      ]
     },
     "execution_count": 9,
     "metadata": {},
     "output_type": "execute_result"
    }
   ],
   "source": [
    "df[\"A\"].values"
   ]
  },
  {
   "cell_type": "markdown",
   "id": "2b197928-8cf8-4874-bf8d-a0e473457e22",
   "metadata": {},
   "source": [
    "Similarly, we can extract the data contained in column labels and row labels of a DataFrame using the `.value` attribute:"
   ]
  },
  {
   "cell_type": "code",
   "execution_count": 10,
   "id": "156d1dc1-fa06-4cd1-b962-f74a2656473c",
   "metadata": {},
   "outputs": [
    {
     "data": {
      "text/plain": [
       "array(['A', 'B', 'C'], dtype=object)"
      ]
     },
     "execution_count": 10,
     "metadata": {},
     "output_type": "execute_result"
    }
   ],
   "source": [
    "df.columns.values"
   ]
  },
  {
   "cell_type": "code",
   "execution_count": 11,
   "id": "4baad623-14d1-4150-a027-07e51cef12c5",
   "metadata": {},
   "outputs": [
    {
     "data": {
      "text/plain": [
       "array(['2017', '2018', '2019', '2020'], dtype=object)"
      ]
     },
     "execution_count": 11,
     "metadata": {},
     "output_type": "execute_result"
    }
   ],
   "source": [
    "df.index.values"
   ]
  },
  {
   "cell_type": "markdown",
   "id": "75ad2978-be88-4917-a7d0-c41de6f29f4c",
   "metadata": {},
   "source": [
    "## Importing data into pandas DataFrame"
   ]
  },
  {
   "cell_type": "markdown",
   "id": "3554f0e0-4332-460f-8502-6b4c11c5ad5f",
   "metadata": {},
   "source": [
    "More often your DataFrame will be created from external tabular data. The most portable format for such data is a CSV (comma separated values) file. This can be done conveniently using the `pd.read_csv()` function. Moreover, pandas by default does not read strings in the most efficient format. To force conversion, apply the `.convert_dtype()` method\n",
    "\n",
    "For example, a subset of the CalCOFI dataset ([https://calcofi.org/](https://calcofi.org/)) can be loaded as follows (*note*: the data file can be downloaded [here](https://github.com/OCEAN-215-2025/preclass/tree/main/week_06/data/CalCOFI_subset.csv))"
   ]
  },
  {
   "cell_type": "code",
   "execution_count": 12,
   "id": "b159a8d6-13ba-4a33-a1c4-7f5957417bb0",
   "metadata": {},
   "outputs": [
    {
     "data": {
      "text/html": [
       "<div>\n",
       "<style scoped>\n",
       "    .dataframe tbody tr th:only-of-type {\n",
       "        vertical-align: middle;\n",
       "    }\n",
       "\n",
       "    .dataframe tbody tr th {\n",
       "        vertical-align: top;\n",
       "    }\n",
       "\n",
       "    .dataframe thead th {\n",
       "        text-align: right;\n",
       "    }\n",
       "</style>\n",
       "<table border=\"1\" class=\"dataframe\">\n",
       "  <thead>\n",
       "    <tr style=\"text-align: right;\">\n",
       "      <th></th>\n",
       "      <th>Cast_Count</th>\n",
       "      <th>Station_ID</th>\n",
       "      <th>Datetime</th>\n",
       "      <th>Depth_m</th>\n",
       "      <th>T_degC</th>\n",
       "      <th>Salinity</th>\n",
       "      <th>SigmaTheta</th>\n",
       "    </tr>\n",
       "  </thead>\n",
       "  <tbody>\n",
       "    <tr>\n",
       "      <th>0</th>\n",
       "      <td>992</td>\n",
       "      <td>090.0 070.0</td>\n",
       "      <td>1950-02-06 19:54:00</td>\n",
       "      <td>0</td>\n",
       "      <td>14.040</td>\n",
       "      <td>33.1700</td>\n",
       "      <td>24.76600</td>\n",
       "    </tr>\n",
       "    <tr>\n",
       "      <th>1</th>\n",
       "      <td>992</td>\n",
       "      <td>090.0 070.0</td>\n",
       "      <td>1950-02-06 19:54:00</td>\n",
       "      <td>10</td>\n",
       "      <td>13.950</td>\n",
       "      <td>33.2100</td>\n",
       "      <td>24.81500</td>\n",
       "    </tr>\n",
       "    <tr>\n",
       "      <th>2</th>\n",
       "      <td>992</td>\n",
       "      <td>090.0 070.0</td>\n",
       "      <td>1950-02-06 19:54:00</td>\n",
       "      <td>20</td>\n",
       "      <td>13.900</td>\n",
       "      <td>33.2100</td>\n",
       "      <td>24.82600</td>\n",
       "    </tr>\n",
       "    <tr>\n",
       "      <th>3</th>\n",
       "      <td>992</td>\n",
       "      <td>090.0 070.0</td>\n",
       "      <td>1950-02-06 19:54:00</td>\n",
       "      <td>23</td>\n",
       "      <td>13.880</td>\n",
       "      <td>33.2100</td>\n",
       "      <td>24.83000</td>\n",
       "    </tr>\n",
       "    <tr>\n",
       "      <th>4</th>\n",
       "      <td>992</td>\n",
       "      <td>090.0 070.0</td>\n",
       "      <td>1950-02-06 19:54:00</td>\n",
       "      <td>30</td>\n",
       "      <td>13.810</td>\n",
       "      <td>33.2180</td>\n",
       "      <td>24.85100</td>\n",
       "    </tr>\n",
       "    <tr>\n",
       "      <th>...</th>\n",
       "      <td>...</td>\n",
       "      <td>...</td>\n",
       "      <td>...</td>\n",
       "      <td>...</td>\n",
       "      <td>...</td>\n",
       "      <td>...</td>\n",
       "      <td>...</td>\n",
       "    </tr>\n",
       "    <tr>\n",
       "      <th>10052</th>\n",
       "      <td>35578</td>\n",
       "      <td>090.0 070.0</td>\n",
       "      <td>2021-01-21 13:36:00</td>\n",
       "      <td>300</td>\n",
       "      <td>7.692</td>\n",
       "      <td>34.1712</td>\n",
       "      <td>26.67697</td>\n",
       "    </tr>\n",
       "    <tr>\n",
       "      <th>10053</th>\n",
       "      <td>35578</td>\n",
       "      <td>090.0 070.0</td>\n",
       "      <td>2021-01-21 13:36:00</td>\n",
       "      <td>381</td>\n",
       "      <td>7.144</td>\n",
       "      <td>34.2443</td>\n",
       "      <td>26.81386</td>\n",
       "    </tr>\n",
       "    <tr>\n",
       "      <th>10054</th>\n",
       "      <td>35578</td>\n",
       "      <td>090.0 070.0</td>\n",
       "      <td>2021-01-21 13:36:00</td>\n",
       "      <td>400</td>\n",
       "      <td>7.031</td>\n",
       "      <td>34.2746</td>\n",
       "      <td>26.85372</td>\n",
       "    </tr>\n",
       "    <tr>\n",
       "      <th>10055</th>\n",
       "      <td>35578</td>\n",
       "      <td>090.0 070.0</td>\n",
       "      <td>2021-01-21 13:36:00</td>\n",
       "      <td>500</td>\n",
       "      <td>6.293</td>\n",
       "      <td>34.3126</td>\n",
       "      <td>26.98372</td>\n",
       "    </tr>\n",
       "    <tr>\n",
       "      <th>10056</th>\n",
       "      <td>35578</td>\n",
       "      <td>090.0 070.0</td>\n",
       "      <td>2021-01-21 13:36:00</td>\n",
       "      <td>515</td>\n",
       "      <td>6.155</td>\n",
       "      <td>34.2903</td>\n",
       "      <td>26.98398</td>\n",
       "    </tr>\n",
       "  </tbody>\n",
       "</table>\n",
       "<p>10057 rows × 7 columns</p>\n",
       "</div>"
      ],
      "text/plain": [
       "       Cast_Count   Station_ID             Datetime  Depth_m  T_degC  \\\n",
       "0             992  090.0 070.0  1950-02-06 19:54:00        0  14.040   \n",
       "1             992  090.0 070.0  1950-02-06 19:54:00       10  13.950   \n",
       "2             992  090.0 070.0  1950-02-06 19:54:00       20  13.900   \n",
       "3             992  090.0 070.0  1950-02-06 19:54:00       23  13.880   \n",
       "4             992  090.0 070.0  1950-02-06 19:54:00       30  13.810   \n",
       "...           ...          ...                  ...      ...     ...   \n",
       "10052       35578  090.0 070.0  2021-01-21 13:36:00      300   7.692   \n",
       "10053       35578  090.0 070.0  2021-01-21 13:36:00      381   7.144   \n",
       "10054       35578  090.0 070.0  2021-01-21 13:36:00      400   7.031   \n",
       "10055       35578  090.0 070.0  2021-01-21 13:36:00      500   6.293   \n",
       "10056       35578  090.0 070.0  2021-01-21 13:36:00      515   6.155   \n",
       "\n",
       "       Salinity  SigmaTheta  \n",
       "0       33.1700    24.76600  \n",
       "1       33.2100    24.81500  \n",
       "2       33.2100    24.82600  \n",
       "3       33.2100    24.83000  \n",
       "4       33.2180    24.85100  \n",
       "...         ...         ...  \n",
       "10052   34.1712    26.67697  \n",
       "10053   34.2443    26.81386  \n",
       "10054   34.2746    26.85372  \n",
       "10055   34.3126    26.98372  \n",
       "10056   34.2903    26.98398  \n",
       "\n",
       "[10057 rows x 7 columns]"
      ]
     },
     "metadata": {},
     "output_type": "display_data"
    }
   ],
   "source": [
    "CalCOFI = pd.read_csv(\"data/CalCOFI_subset.csv\")\n",
    "display(CalCOFI)"
   ]
  },
  {
   "cell_type": "markdown",
   "id": "562aced9-9f8c-482d-8fcc-ec9c97d0727d",
   "metadata": {},
   "source": [
    "You can find the official documentation of `pd.read_csv()` from [https://pandas.pydata.org/docs/reference/api/pandas.read_csv.html](https://pandas.pydata.org/docs/reference/api/pandas.read_csv.html). The function have plenty of (keyword-only, optional) arguments. Some highlights are:\n",
    "\n",
    "+ `names`: The names to use as column names. If not supplied the first line being read is treated as a header row\n",
    "+ `skiprows`: if an `int`, the number of rows to skip before contents are read in; if a python `list` of `int`, the line indices to skip.\n",
    "+ `cols`: the columns to read into the DataFrame. Can be a list of column indices or column names\n",
    "+ `na_values`: which values are to be treated as indication of missing data\n",
    "\n",
    "As an example, here is the content of a simple CSV file (don't worry about the details of the code; we don't expect you to read a file as plain text in this course):"
   ]
  },
  {
   "cell_type": "code",
   "execution_count": 13,
   "id": "ae9776e0-54a8-4d39-876e-c4aacc8ecd05",
   "metadata": {},
   "outputs": [
    {
     "name": "stdout",
     "output_type": "stream",
     "text": [
      "# Two lines of metadata, \n",
      "# followed by an empty line\n",
      "\n",
      "A,B,C,D\n",
      "m,g,cm,L\n",
      "1,3.2,4,2\n",
      "2,7.9,7,5\n",
      "2,-999,5,3\n"
     ]
    }
   ],
   "source": [
    "with open(\"data/header_example.csv\") as infile:\n",
    "    print(infile.read())"
   ]
  },
  {
   "cell_type": "markdown",
   "id": "3917bae8-5916-4ac9-aacf-63653ca46fb9",
   "metadata": {},
   "source": [
    "Suppose we learned that \"-999\" is the code for missing value, and that we want yo skip the metadata lines (indices 0, 1), the empty line (index 2), and the units line (index 4), and read only the columns \"A\", \"B\", and \"D\", we may do:"
   ]
  },
  {
   "cell_type": "code",
   "execution_count": 14,
   "id": "713de007-ee1e-45ae-a332-cf06cb8ce321",
   "metadata": {},
   "outputs": [
    {
     "data": {
      "text/html": [
       "<div>\n",
       "<style scoped>\n",
       "    .dataframe tbody tr th:only-of-type {\n",
       "        vertical-align: middle;\n",
       "    }\n",
       "\n",
       "    .dataframe tbody tr th {\n",
       "        vertical-align: top;\n",
       "    }\n",
       "\n",
       "    .dataframe thead th {\n",
       "        text-align: right;\n",
       "    }\n",
       "</style>\n",
       "<table border=\"1\" class=\"dataframe\">\n",
       "  <thead>\n",
       "    <tr style=\"text-align: right;\">\n",
       "      <th></th>\n",
       "      <th>A</th>\n",
       "      <th>B</th>\n",
       "      <th>D</th>\n",
       "    </tr>\n",
       "  </thead>\n",
       "  <tbody>\n",
       "    <tr>\n",
       "      <th>0</th>\n",
       "      <td>1</td>\n",
       "      <td>3.2</td>\n",
       "      <td>2</td>\n",
       "    </tr>\n",
       "    <tr>\n",
       "      <th>1</th>\n",
       "      <td>2</td>\n",
       "      <td>7.9</td>\n",
       "      <td>5</td>\n",
       "    </tr>\n",
       "    <tr>\n",
       "      <th>2</th>\n",
       "      <td>2</td>\n",
       "      <td>NaN</td>\n",
       "      <td>3</td>\n",
       "    </tr>\n",
       "  </tbody>\n",
       "</table>\n",
       "</div>"
      ],
      "text/plain": [
       "   A    B  D\n",
       "0  1  3.2  2\n",
       "1  2  7.9  5\n",
       "2  2  NaN  3"
      ]
     },
     "execution_count": 14,
     "metadata": {},
     "output_type": "execute_result"
    }
   ],
   "source": [
    "pd.read_csv(\n",
    "    \"data/header_example.csv\", \n",
    "    skiprows=[0, 1, 2, 4], \n",
    "    usecols=[\"A\", \"B\", \"D\"], \n",
    "    na_values=\"-999\"\n",
    ")"
   ]
  },
  {
   "cell_type": "markdown",
   "id": "3356534a-f1e3-475b-8422-6ff3c32f303b",
   "metadata": {},
   "source": [
    "As a second example, consider the Seattle tide prediction data from Jan 1, 2025 to Jan 31, 2025, obtained from [NOAA](https://tidesandcurrents.noaa.gov/noaatidepredictions.html?id=9447130) (a copy of the file can be found [here](https://github.com/OCEAN-215-2025/preclass/tree/main/week_06/data/tide_prediction_2025-01.txt)) If you open the file in Jupyter Hub, you'll find that this is a text file with 13 lines of metadata, followed by header at line 14, and data from that point all. Note also that the data is separated by white spaces (actually tabs). We can load this file as a pandas DataFrame like so:"
   ]
  },
  {
   "cell_type": "code",
   "execution_count": 15,
   "id": "eb4f6c4e-492c-4d47-9f38-2e0c7b8978da",
   "metadata": {},
   "outputs": [
    {
     "data": {
      "text/html": [
       "<div>\n",
       "<style scoped>\n",
       "    .dataframe tbody tr th:only-of-type {\n",
       "        vertical-align: middle;\n",
       "    }\n",
       "\n",
       "    .dataframe tbody tr th {\n",
       "        vertical-align: top;\n",
       "    }\n",
       "\n",
       "    .dataframe thead th {\n",
       "        text-align: right;\n",
       "    }\n",
       "</style>\n",
       "<table border=\"1\" class=\"dataframe\">\n",
       "  <thead>\n",
       "    <tr style=\"text-align: right;\">\n",
       "      <th></th>\n",
       "      <th>Date</th>\n",
       "      <th>Day</th>\n",
       "      <th>Time</th>\n",
       "      <th>Pred</th>\n",
       "      <th>High/Low</th>\n",
       "    </tr>\n",
       "  </thead>\n",
       "  <tbody>\n",
       "    <tr>\n",
       "      <th>2025/01/01</th>\n",
       "      <td>Wed</td>\n",
       "      <td>06:58</td>\n",
       "      <td>AM</td>\n",
       "      <td>3.80</td>\n",
       "      <td>H</td>\n",
       "    </tr>\n",
       "    <tr>\n",
       "      <th>2025/01/01</th>\n",
       "      <td>Wed</td>\n",
       "      <td>12:17</td>\n",
       "      <td>PM</td>\n",
       "      <td>2.47</td>\n",
       "      <td>L</td>\n",
       "    </tr>\n",
       "    <tr>\n",
       "      <th>2025/01/01</th>\n",
       "      <td>Wed</td>\n",
       "      <td>04:41</td>\n",
       "      <td>PM</td>\n",
       "      <td>3.19</td>\n",
       "      <td>H</td>\n",
       "    </tr>\n",
       "    <tr>\n",
       "      <th>2025/01/01</th>\n",
       "      <td>Wed</td>\n",
       "      <td>11:54</td>\n",
       "      <td>PM</td>\n",
       "      <td>-0.73</td>\n",
       "      <td>L</td>\n",
       "    </tr>\n",
       "    <tr>\n",
       "      <th>2025/01/02</th>\n",
       "      <td>Thu</td>\n",
       "      <td>07:28</td>\n",
       "      <td>AM</td>\n",
       "      <td>3.83</td>\n",
       "      <td>H</td>\n",
       "    </tr>\n",
       "    <tr>\n",
       "      <th>...</th>\n",
       "      <td>...</td>\n",
       "      <td>...</td>\n",
       "      <td>...</td>\n",
       "      <td>...</td>\n",
       "      <td>...</td>\n",
       "    </tr>\n",
       "    <tr>\n",
       "      <th>2025/01/30</th>\n",
       "      <td>Thu</td>\n",
       "      <td>04:44</td>\n",
       "      <td>PM</td>\n",
       "      <td>3.28</td>\n",
       "      <td>H</td>\n",
       "    </tr>\n",
       "    <tr>\n",
       "      <th>2025/01/30</th>\n",
       "      <td>Thu</td>\n",
       "      <td>11:36</td>\n",
       "      <td>PM</td>\n",
       "      <td>-0.57</td>\n",
       "      <td>L</td>\n",
       "    </tr>\n",
       "    <tr>\n",
       "      <th>2025/01/31</th>\n",
       "      <td>Fri</td>\n",
       "      <td>06:45</td>\n",
       "      <td>AM</td>\n",
       "      <td>3.84</td>\n",
       "      <td>H</td>\n",
       "    </tr>\n",
       "    <tr>\n",
       "      <th>2025/01/31</th>\n",
       "      <td>Fri</td>\n",
       "      <td>12:29</td>\n",
       "      <td>PM</td>\n",
       "      <td>1.68</td>\n",
       "      <td>L</td>\n",
       "    </tr>\n",
       "    <tr>\n",
       "      <th>2025/01/31</th>\n",
       "      <td>Fri</td>\n",
       "      <td>05:38</td>\n",
       "      <td>PM</td>\n",
       "      <td>3.22</td>\n",
       "      <td>H</td>\n",
       "    </tr>\n",
       "  </tbody>\n",
       "</table>\n",
       "<p>119 rows × 5 columns</p>\n",
       "</div>"
      ],
      "text/plain": [
       "           Date    Day Time  Pred High/Low\n",
       "2025/01/01  Wed  06:58   AM  3.80        H\n",
       "2025/01/01  Wed  12:17   PM  2.47        L\n",
       "2025/01/01  Wed  04:41   PM  3.19        H\n",
       "2025/01/01  Wed  11:54   PM -0.73        L\n",
       "2025/01/02  Thu  07:28   AM  3.83        H\n",
       "...         ...    ...  ...   ...      ...\n",
       "2025/01/30  Thu  04:44   PM  3.28        H\n",
       "2025/01/30  Thu  11:36   PM -0.57        L\n",
       "2025/01/31  Fri  06:45   AM  3.84        H\n",
       "2025/01/31  Fri  12:29   PM  1.68        L\n",
       "2025/01/31  Fri  05:38   PM  3.22        H\n",
       "\n",
       "[119 rows x 5 columns]"
      ]
     },
     "metadata": {},
     "output_type": "display_data"
    }
   ],
   "source": [
    "tides = pd.read_csv(\n",
    "    \"data/tide_prediction_2025-01.txt\", \n",
    "    sep=\"\\\\s+\", skiprows=13\n",
    ")\n",
    "\n",
    "display(tides)"
   ]
  },
  {
   "cell_type": "markdown",
   "id": "fbf0a4a3-5b51-476d-ae5c-5d4c1f6f2944",
   "metadata": {},
   "source": [
    "In the above, `sep = \\\\s+` tells pandas that the entries are separated by one or more \"white-space like characters\". Unfortunately, the precise formatting of this file causes pandas to turn the first column into the index of the DataFrame. To deal with this, we use `.reset_index()` to turn the index back into a regular column:"
   ]
  },
  {
   "cell_type": "code",
   "execution_count": 16,
   "id": "a11a3e8f-c35a-49db-9873-2fe7ebc61b72",
   "metadata": {},
   "outputs": [
    {
     "data": {
      "text/html": [
       "<div>\n",
       "<style scoped>\n",
       "    .dataframe tbody tr th:only-of-type {\n",
       "        vertical-align: middle;\n",
       "    }\n",
       "\n",
       "    .dataframe tbody tr th {\n",
       "        vertical-align: top;\n",
       "    }\n",
       "\n",
       "    .dataframe thead th {\n",
       "        text-align: right;\n",
       "    }\n",
       "</style>\n",
       "<table border=\"1\" class=\"dataframe\">\n",
       "  <thead>\n",
       "    <tr style=\"text-align: right;\">\n",
       "      <th></th>\n",
       "      <th>index</th>\n",
       "      <th>Date</th>\n",
       "      <th>Day</th>\n",
       "      <th>Time</th>\n",
       "      <th>Pred</th>\n",
       "      <th>High/Low</th>\n",
       "    </tr>\n",
       "  </thead>\n",
       "  <tbody>\n",
       "    <tr>\n",
       "      <th>0</th>\n",
       "      <td>2025/01/01</td>\n",
       "      <td>Wed</td>\n",
       "      <td>06:58</td>\n",
       "      <td>AM</td>\n",
       "      <td>3.80</td>\n",
       "      <td>H</td>\n",
       "    </tr>\n",
       "    <tr>\n",
       "      <th>1</th>\n",
       "      <td>2025/01/01</td>\n",
       "      <td>Wed</td>\n",
       "      <td>12:17</td>\n",
       "      <td>PM</td>\n",
       "      <td>2.47</td>\n",
       "      <td>L</td>\n",
       "    </tr>\n",
       "    <tr>\n",
       "      <th>2</th>\n",
       "      <td>2025/01/01</td>\n",
       "      <td>Wed</td>\n",
       "      <td>04:41</td>\n",
       "      <td>PM</td>\n",
       "      <td>3.19</td>\n",
       "      <td>H</td>\n",
       "    </tr>\n",
       "    <tr>\n",
       "      <th>3</th>\n",
       "      <td>2025/01/01</td>\n",
       "      <td>Wed</td>\n",
       "      <td>11:54</td>\n",
       "      <td>PM</td>\n",
       "      <td>-0.73</td>\n",
       "      <td>L</td>\n",
       "    </tr>\n",
       "    <tr>\n",
       "      <th>4</th>\n",
       "      <td>2025/01/02</td>\n",
       "      <td>Thu</td>\n",
       "      <td>07:28</td>\n",
       "      <td>AM</td>\n",
       "      <td>3.83</td>\n",
       "      <td>H</td>\n",
       "    </tr>\n",
       "    <tr>\n",
       "      <th>...</th>\n",
       "      <td>...</td>\n",
       "      <td>...</td>\n",
       "      <td>...</td>\n",
       "      <td>...</td>\n",
       "      <td>...</td>\n",
       "      <td>...</td>\n",
       "    </tr>\n",
       "    <tr>\n",
       "      <th>114</th>\n",
       "      <td>2025/01/30</td>\n",
       "      <td>Thu</td>\n",
       "      <td>04:44</td>\n",
       "      <td>PM</td>\n",
       "      <td>3.28</td>\n",
       "      <td>H</td>\n",
       "    </tr>\n",
       "    <tr>\n",
       "      <th>115</th>\n",
       "      <td>2025/01/30</td>\n",
       "      <td>Thu</td>\n",
       "      <td>11:36</td>\n",
       "      <td>PM</td>\n",
       "      <td>-0.57</td>\n",
       "      <td>L</td>\n",
       "    </tr>\n",
       "    <tr>\n",
       "      <th>116</th>\n",
       "      <td>2025/01/31</td>\n",
       "      <td>Fri</td>\n",
       "      <td>06:45</td>\n",
       "      <td>AM</td>\n",
       "      <td>3.84</td>\n",
       "      <td>H</td>\n",
       "    </tr>\n",
       "    <tr>\n",
       "      <th>117</th>\n",
       "      <td>2025/01/31</td>\n",
       "      <td>Fri</td>\n",
       "      <td>12:29</td>\n",
       "      <td>PM</td>\n",
       "      <td>1.68</td>\n",
       "      <td>L</td>\n",
       "    </tr>\n",
       "    <tr>\n",
       "      <th>118</th>\n",
       "      <td>2025/01/31</td>\n",
       "      <td>Fri</td>\n",
       "      <td>05:38</td>\n",
       "      <td>PM</td>\n",
       "      <td>3.22</td>\n",
       "      <td>H</td>\n",
       "    </tr>\n",
       "  </tbody>\n",
       "</table>\n",
       "<p>119 rows × 6 columns</p>\n",
       "</div>"
      ],
      "text/plain": [
       "          index Date    Day Time  Pred High/Low\n",
       "0    2025/01/01  Wed  06:58   AM  3.80        H\n",
       "1    2025/01/01  Wed  12:17   PM  2.47        L\n",
       "2    2025/01/01  Wed  04:41   PM  3.19        H\n",
       "3    2025/01/01  Wed  11:54   PM -0.73        L\n",
       "4    2025/01/02  Thu  07:28   AM  3.83        H\n",
       "..          ...  ...    ...  ...   ...      ...\n",
       "114  2025/01/30  Thu  04:44   PM  3.28        H\n",
       "115  2025/01/30  Thu  11:36   PM -0.57        L\n",
       "116  2025/01/31  Fri  06:45   AM  3.84        H\n",
       "117  2025/01/31  Fri  12:29   PM  1.68        L\n",
       "118  2025/01/31  Fri  05:38   PM  3.22        H\n",
       "\n",
       "[119 rows x 6 columns]"
      ]
     },
     "metadata": {},
     "output_type": "display_data"
    }
   ],
   "source": [
    "tides = tides.reset_index()\n",
    "display(tides)"
   ]
  },
  {
   "cell_type": "markdown",
   "id": "bb05cab5-67e2-4ae8-bdb7-d6ba8a6710ee",
   "metadata": {},
   "source": [
    "Additional clean up will be needed to fix the header row, etc, and you will learn some of these in the later parts of this week's readings"
   ]
  },
  {
   "cell_type": "markdown",
   "id": "ad73aec9-82a8-4b0d-adf0-fec69d1bb618",
   "metadata": {},
   "source": [
    "Incidentally, pandas can also be used to read Microsoft Excel file. The relevant function is `pd.read_excel()`, with is documented at [https://pandas.pydata.org/docs/reference/api/pandas.read_excel.html](https://pandas.pydata.org/docs/reference/api/pandas.read_excel.html). Most of its arguments are the same as `pd.read_csv()`, with the notable except of the `sheet_name` argument, which is used to specify the sheet to load the data from.\n",
    "\n",
    "As an example, the CalCOFI data is also saved as an Excel .xlsx document (which you can find [here](https://github.com/OCEAN-215-2025/preclass/tree/main/week_06/data/CalCOFI_subset.xlsx)), and we can load it as such:"
   ]
  },
  {
   "cell_type": "code",
   "execution_count": 18,
   "id": "361f2d98-5b69-440b-b078-9d748685e3a3",
   "metadata": {},
   "outputs": [
    {
     "data": {
      "text/html": [
       "<div>\n",
       "<style scoped>\n",
       "    .dataframe tbody tr th:only-of-type {\n",
       "        vertical-align: middle;\n",
       "    }\n",
       "\n",
       "    .dataframe tbody tr th {\n",
       "        vertical-align: top;\n",
       "    }\n",
       "\n",
       "    .dataframe thead th {\n",
       "        text-align: right;\n",
       "    }\n",
       "</style>\n",
       "<table border=\"1\" class=\"dataframe\">\n",
       "  <thead>\n",
       "    <tr style=\"text-align: right;\">\n",
       "      <th></th>\n",
       "      <th>Cast_Count</th>\n",
       "      <th>Station_ID</th>\n",
       "      <th>Datetime</th>\n",
       "      <th>Depth_m</th>\n",
       "      <th>T_degC</th>\n",
       "      <th>Salinity</th>\n",
       "      <th>SigmaTheta</th>\n",
       "    </tr>\n",
       "  </thead>\n",
       "  <tbody>\n",
       "    <tr>\n",
       "      <th>0</th>\n",
       "      <td>992</td>\n",
       "      <td>090.0 070.0</td>\n",
       "      <td>1950-02-06 19:54:00</td>\n",
       "      <td>0</td>\n",
       "      <td>14.040</td>\n",
       "      <td>33.1700</td>\n",
       "      <td>24.76600</td>\n",
       "    </tr>\n",
       "    <tr>\n",
       "      <th>1</th>\n",
       "      <td>992</td>\n",
       "      <td>090.0 070.0</td>\n",
       "      <td>1950-02-06 19:54:00</td>\n",
       "      <td>10</td>\n",
       "      <td>13.950</td>\n",
       "      <td>33.2100</td>\n",
       "      <td>24.81500</td>\n",
       "    </tr>\n",
       "    <tr>\n",
       "      <th>2</th>\n",
       "      <td>992</td>\n",
       "      <td>090.0 070.0</td>\n",
       "      <td>1950-02-06 19:54:00</td>\n",
       "      <td>20</td>\n",
       "      <td>13.900</td>\n",
       "      <td>33.2100</td>\n",
       "      <td>24.82600</td>\n",
       "    </tr>\n",
       "    <tr>\n",
       "      <th>3</th>\n",
       "      <td>992</td>\n",
       "      <td>090.0 070.0</td>\n",
       "      <td>1950-02-06 19:54:00</td>\n",
       "      <td>23</td>\n",
       "      <td>13.880</td>\n",
       "      <td>33.2100</td>\n",
       "      <td>24.83000</td>\n",
       "    </tr>\n",
       "    <tr>\n",
       "      <th>4</th>\n",
       "      <td>992</td>\n",
       "      <td>090.0 070.0</td>\n",
       "      <td>1950-02-06 19:54:00</td>\n",
       "      <td>30</td>\n",
       "      <td>13.810</td>\n",
       "      <td>33.2180</td>\n",
       "      <td>24.85100</td>\n",
       "    </tr>\n",
       "    <tr>\n",
       "      <th>...</th>\n",
       "      <td>...</td>\n",
       "      <td>...</td>\n",
       "      <td>...</td>\n",
       "      <td>...</td>\n",
       "      <td>...</td>\n",
       "      <td>...</td>\n",
       "      <td>...</td>\n",
       "    </tr>\n",
       "    <tr>\n",
       "      <th>10052</th>\n",
       "      <td>35578</td>\n",
       "      <td>090.0 070.0</td>\n",
       "      <td>2021-01-21 13:36:00</td>\n",
       "      <td>300</td>\n",
       "      <td>7.692</td>\n",
       "      <td>34.1712</td>\n",
       "      <td>26.67697</td>\n",
       "    </tr>\n",
       "    <tr>\n",
       "      <th>10053</th>\n",
       "      <td>35578</td>\n",
       "      <td>090.0 070.0</td>\n",
       "      <td>2021-01-21 13:36:00</td>\n",
       "      <td>381</td>\n",
       "      <td>7.144</td>\n",
       "      <td>34.2443</td>\n",
       "      <td>26.81386</td>\n",
       "    </tr>\n",
       "    <tr>\n",
       "      <th>10054</th>\n",
       "      <td>35578</td>\n",
       "      <td>090.0 070.0</td>\n",
       "      <td>2021-01-21 13:36:00</td>\n",
       "      <td>400</td>\n",
       "      <td>7.031</td>\n",
       "      <td>34.2746</td>\n",
       "      <td>26.85372</td>\n",
       "    </tr>\n",
       "    <tr>\n",
       "      <th>10055</th>\n",
       "      <td>35578</td>\n",
       "      <td>090.0 070.0</td>\n",
       "      <td>2021-01-21 13:36:00</td>\n",
       "      <td>500</td>\n",
       "      <td>6.293</td>\n",
       "      <td>34.3126</td>\n",
       "      <td>26.98372</td>\n",
       "    </tr>\n",
       "    <tr>\n",
       "      <th>10056</th>\n",
       "      <td>35578</td>\n",
       "      <td>090.0 070.0</td>\n",
       "      <td>2021-01-21 13:36:00</td>\n",
       "      <td>515</td>\n",
       "      <td>6.155</td>\n",
       "      <td>34.2903</td>\n",
       "      <td>26.98398</td>\n",
       "    </tr>\n",
       "  </tbody>\n",
       "</table>\n",
       "<p>10057 rows × 7 columns</p>\n",
       "</div>"
      ],
      "text/plain": [
       "       Cast_Count   Station_ID            Datetime  Depth_m  T_degC  Salinity  \\\n",
       "0             992  090.0 070.0 1950-02-06 19:54:00        0  14.040   33.1700   \n",
       "1             992  090.0 070.0 1950-02-06 19:54:00       10  13.950   33.2100   \n",
       "2             992  090.0 070.0 1950-02-06 19:54:00       20  13.900   33.2100   \n",
       "3             992  090.0 070.0 1950-02-06 19:54:00       23  13.880   33.2100   \n",
       "4             992  090.0 070.0 1950-02-06 19:54:00       30  13.810   33.2180   \n",
       "...           ...          ...                 ...      ...     ...       ...   \n",
       "10052       35578  090.0 070.0 2021-01-21 13:36:00      300   7.692   34.1712   \n",
       "10053       35578  090.0 070.0 2021-01-21 13:36:00      381   7.144   34.2443   \n",
       "10054       35578  090.0 070.0 2021-01-21 13:36:00      400   7.031   34.2746   \n",
       "10055       35578  090.0 070.0 2021-01-21 13:36:00      500   6.293   34.3126   \n",
       "10056       35578  090.0 070.0 2021-01-21 13:36:00      515   6.155   34.2903   \n",
       "\n",
       "       SigmaTheta  \n",
       "0        24.76600  \n",
       "1        24.81500  \n",
       "2        24.82600  \n",
       "3        24.83000  \n",
       "4        24.85100  \n",
       "...           ...  \n",
       "10052    26.67697  \n",
       "10053    26.81386  \n",
       "10054    26.85372  \n",
       "10055    26.98372  \n",
       "10056    26.98398  \n",
       "\n",
       "[10057 rows x 7 columns]"
      ]
     },
     "metadata": {},
     "output_type": "display_data"
    }
   ],
   "source": [
    "CalCOFI_2 = pd.read_excel(\"data/CalCOFI_subset.xlsx\", sheet_name=\"Sheet1\")\n",
    "display(CalCOFI_2)"
   ]
  },
  {
   "cell_type": "markdown",
   "id": "adf72aaa-d255-40ec-bfcb-ead1da59b5c5",
   "metadata": {},
   "source": [
    "## Combining multiple dataframes"
   ]
  },
  {
   "cell_type": "markdown",
   "id": "58915a92-1060-44b3-87c2-b3218393b7df",
   "metadata": {},
   "source": [
    "Sometimes it is necessary to first save data is separate file then combine them during analysis. For example, suppose we are interested in tide measurement. The [NOAA](https://tidesandcurrents.noaa.gov/noaatidepredictions.html?id=9447130) interface only let us download 31 days of data every time. So if you want to analyze tide patterns from January to March of 2025, your data will consist of 3 files:"
   ]
  },
  {
   "cell_type": "code",
   "execution_count": 19,
   "id": "80576c95-288a-49dd-8f9b-e9afb1248171",
   "metadata": {},
   "outputs": [],
   "source": [
    "tides_Jan = pd.read_csv(\n",
    "    \"data/tide_prediction_2025-01.txt\", \n",
    "    sep=\"\\\\s+\", skiprows=13\n",
    ").reset_index()\n",
    "\n",
    "tides_Feb = pd.read_csv(\n",
    "    \"data/tide_prediction_2025-02.txt\", \n",
    "    sep=\"\\\\s+\", skiprows=13\n",
    ").reset_index()\n",
    "\n",
    "tides_Mar = pd.read_csv(\n",
    "    \"data/tide_prediction_2025-03.txt\", \n",
    "    sep=\"\\\\s+\", skiprows=13\n",
    ").reset_index()"
   ]
  },
  {
   "cell_type": "markdown",
   "id": "c30f57f1-6318-4731-9c8e-2cb381b1983f",
   "metadata": {},
   "source": [
    "(As in above, to be useful these need some further manipulation. Nevertheless, since the 3 dataframes are at least *consistent* in their column names we can proceed to combine them)\n",
    "\n",
    "We can combine the three dataframes into a single one using `pd.concat()`:"
   ]
  },
  {
   "cell_type": "code",
   "execution_count": 20,
   "id": "a90f8c71-377b-4a36-8016-a352c3464170",
   "metadata": {},
   "outputs": [
    {
     "data": {
      "text/html": [
       "<div>\n",
       "<style scoped>\n",
       "    .dataframe tbody tr th:only-of-type {\n",
       "        vertical-align: middle;\n",
       "    }\n",
       "\n",
       "    .dataframe tbody tr th {\n",
       "        vertical-align: top;\n",
       "    }\n",
       "\n",
       "    .dataframe thead th {\n",
       "        text-align: right;\n",
       "    }\n",
       "</style>\n",
       "<table border=\"1\" class=\"dataframe\">\n",
       "  <thead>\n",
       "    <tr style=\"text-align: right;\">\n",
       "      <th></th>\n",
       "      <th>index</th>\n",
       "      <th>Date</th>\n",
       "      <th>Day</th>\n",
       "      <th>Time</th>\n",
       "      <th>Pred</th>\n",
       "      <th>High/Low</th>\n",
       "    </tr>\n",
       "  </thead>\n",
       "  <tbody>\n",
       "    <tr>\n",
       "      <th>0</th>\n",
       "      <td>2025/01/01</td>\n",
       "      <td>Wed</td>\n",
       "      <td>06:58</td>\n",
       "      <td>AM</td>\n",
       "      <td>3.80</td>\n",
       "      <td>H</td>\n",
       "    </tr>\n",
       "    <tr>\n",
       "      <th>1</th>\n",
       "      <td>2025/01/01</td>\n",
       "      <td>Wed</td>\n",
       "      <td>12:17</td>\n",
       "      <td>PM</td>\n",
       "      <td>2.47</td>\n",
       "      <td>L</td>\n",
       "    </tr>\n",
       "    <tr>\n",
       "      <th>2</th>\n",
       "      <td>2025/01/01</td>\n",
       "      <td>Wed</td>\n",
       "      <td>04:41</td>\n",
       "      <td>PM</td>\n",
       "      <td>3.19</td>\n",
       "      <td>H</td>\n",
       "    </tr>\n",
       "    <tr>\n",
       "      <th>3</th>\n",
       "      <td>2025/01/01</td>\n",
       "      <td>Wed</td>\n",
       "      <td>11:54</td>\n",
       "      <td>PM</td>\n",
       "      <td>-0.73</td>\n",
       "      <td>L</td>\n",
       "    </tr>\n",
       "    <tr>\n",
       "      <th>4</th>\n",
       "      <td>2025/01/02</td>\n",
       "      <td>Thu</td>\n",
       "      <td>07:28</td>\n",
       "      <td>AM</td>\n",
       "      <td>3.83</td>\n",
       "      <td>H</td>\n",
       "    </tr>\n",
       "    <tr>\n",
       "      <th>...</th>\n",
       "      <td>...</td>\n",
       "      <td>...</td>\n",
       "      <td>...</td>\n",
       "      <td>...</td>\n",
       "      <td>...</td>\n",
       "      <td>...</td>\n",
       "    </tr>\n",
       "    <tr>\n",
       "      <th>114</th>\n",
       "      <td>2025/03/30</td>\n",
       "      <td>Sun</td>\n",
       "      <td>06:52</td>\n",
       "      <td>PM</td>\n",
       "      <td>3.46</td>\n",
       "      <td>H</td>\n",
       "    </tr>\n",
       "    <tr>\n",
       "      <th>115</th>\n",
       "      <td>2025/03/31</td>\n",
       "      <td>Mon</td>\n",
       "      <td>12:37</td>\n",
       "      <td>AM</td>\n",
       "      <td>1.10</td>\n",
       "      <td>L</td>\n",
       "    </tr>\n",
       "    <tr>\n",
       "      <th>116</th>\n",
       "      <td>2025/03/31</td>\n",
       "      <td>Mon</td>\n",
       "      <td>06:25</td>\n",
       "      <td>AM</td>\n",
       "      <td>3.70</td>\n",
       "      <td>H</td>\n",
       "    </tr>\n",
       "    <tr>\n",
       "      <th>117</th>\n",
       "      <td>2025/03/31</td>\n",
       "      <td>Mon</td>\n",
       "      <td>01:09</td>\n",
       "      <td>PM</td>\n",
       "      <td>-0.48</td>\n",
       "      <td>L</td>\n",
       "    </tr>\n",
       "    <tr>\n",
       "      <th>118</th>\n",
       "      <td>2025/03/31</td>\n",
       "      <td>Mon</td>\n",
       "      <td>07:52</td>\n",
       "      <td>PM</td>\n",
       "      <td>3.48</td>\n",
       "      <td>H</td>\n",
       "    </tr>\n",
       "  </tbody>\n",
       "</table>\n",
       "<p>347 rows × 6 columns</p>\n",
       "</div>"
      ],
      "text/plain": [
       "          index Date    Day Time  Pred High/Low\n",
       "0    2025/01/01  Wed  06:58   AM  3.80        H\n",
       "1    2025/01/01  Wed  12:17   PM  2.47        L\n",
       "2    2025/01/01  Wed  04:41   PM  3.19        H\n",
       "3    2025/01/01  Wed  11:54   PM -0.73        L\n",
       "4    2025/01/02  Thu  07:28   AM  3.83        H\n",
       "..          ...  ...    ...  ...   ...      ...\n",
       "114  2025/03/30  Sun  06:52   PM  3.46        H\n",
       "115  2025/03/31  Mon  12:37   AM  1.10        L\n",
       "116  2025/03/31  Mon  06:25   AM  3.70        H\n",
       "117  2025/03/31  Mon  01:09   PM -0.48        L\n",
       "118  2025/03/31  Mon  07:52   PM  3.48        H\n",
       "\n",
       "[347 rows x 6 columns]"
      ]
     },
     "execution_count": 20,
     "metadata": {},
     "output_type": "execute_result"
    }
   ],
   "source": [
    "pd.concat([tides_Jan, tides_Feb, tides_Mar])"
   ]
  },
  {
   "cell_type": "markdown",
   "id": "6f64ec80-361a-436c-8e87-b2edd7b043fe",
   "metadata": {},
   "source": [
    "## Writing dataframe to file"
   ]
  },
  {
   "cell_type": "markdown",
   "id": "f5ed57c4-c8f3-43a8-b2ed-e49957ea9020",
   "metadata": {},
   "source": [
    "Sometimes it is useful to save your intermediate data into a new file (e.g., so that other people can access it outside of python, or so that you don't have to carry out the same data cleaning step when every time). To export your DataFrame into a csv file, all you need to do is to call the `.to_csv()` method on it. For example:"
   ]
  },
  {
   "cell_type": "code",
   "execution_count": 21,
   "id": "9ad5fcff-5f03-4250-a8c3-9d5922c12eaf",
   "metadata": {},
   "outputs": [],
   "source": [
    "# generate a new dataframe\n",
    "\n",
    "df = pd.DataFrame(\n",
    "    {\n",
    "        \"A\": [1, 2, 3, 4],\n",
    "        \"B\": [\"this\", \"that\", \"here\", \"there\"],\n",
    "        \"C\": [1.3, 2.4, 7.5, 8.1]\n",
    "    }, index=[\"2017\", \"2018\", \"2019\", \"2020\"]\n",
    ")\n",
    "\n",
    "# export to a csv file named \"new_data.csv\"\n",
    "# NOTE: the output folder needs to already exist\n",
    "df.to_csv(\"output/new_data.csv\")"
   ]
  },
  {
   "cell_type": "code",
   "execution_count": null,
   "id": "2034495c-2213-4758-98fa-8cd5c26f5ec7",
   "metadata": {},
   "outputs": [],
   "source": []
  }
 ],
 "metadata": {
  "kernelspec": {
   "display_name": "Python 3 (ipykernel)",
   "language": "python",
   "name": "python3"
  },
  "language_info": {
   "codemirror_mode": {
    "name": "ipython",
    "version": 3
   },
   "file_extension": ".py",
   "mimetype": "text/x-python",
   "name": "python",
   "nbconvert_exporter": "python",
   "pygments_lexer": "ipython3",
   "version": "3.12.10"
  }
 },
 "nbformat": 4,
 "nbformat_minor": 5
}
