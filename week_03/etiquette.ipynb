{
 "cells": [
  {
   "cell_type": "markdown",
   "id": "41f7078e-edde-48fd-84eb-1c3407c3dce7",
   "metadata": {},
   "source": [
    "# Coding etiquette"
   ]
  },
  {
   "cell_type": "markdown",
   "id": "252b16eb-4617-4ec9-a1ef-6c4ca81698b0",
   "metadata": {},
   "source": [
    "So far we have been talking about writing codes that works for the computer (i.e., codes that executes smoothly without triggering an error from python). But codes need to work for human too. In particular, it is important to write codes that are **readable** to human.\n",
    "\n",
    "Readable codes are important even if you are the only person who will use your codes, because you don't know when you need to come back to it. If your code is poorly written (for the human, not for the computer per se), you will have a hard time taking off from where you left your code.\n",
    "\n",
    "To help you develop good code hygiene / etiquette, we ask you to follow the 3 rules below:\n",
    "\n",
    "1. Make sure that your variable names are _meaningful_\n",
    "2. Format your code _consistently_\n",
    "3. Add comments to document your intention, as well as (less commonly) tricky implementation"
   ]
  },
  {
   "cell_type": "markdown",
   "id": "ae85cc17-47f4-4ff7-8ff0-0baa2348d4d2",
   "metadata": {},
   "source": [
    "Here is an example of poorly written code:"
   ]
  },
  {
   "cell_type": "code",
   "execution_count": 4,
   "id": "ec03102e-c3c5-4bf2-9567-bf09af680966",
   "metadata": {},
   "outputs": [
    {
     "name": "stdout",
     "output_type": "stream",
     "text": [
      "[4.9, 44.1, 78.4, 122.5, 240.1]\n"
     ]
    }
   ],
   "source": [
    "x = [1,3, 4,5, 7]\n",
    "y = 9.8\n",
    "z = []\n",
    "for w in x:\n",
    "    z.append(round(0.5 * y*w ** 2, 2))\n",
    "print(z)"
   ]
  },
  {
   "cell_type": "markdown",
   "id": "a0179b50-2295-417b-a937-c1c52e0bf5c2",
   "metadata": {},
   "source": [
    "There is no documentation, and the variable names are not self-evident. Moreover, spaces between syntactical elements are inconsistent."
   ]
  },
  {
   "cell_type": "markdown",
   "id": "9aabbee3-76ab-4a1a-b963-0fec069e3541",
   "metadata": {},
   "source": [
    "A cleaned up version of the above codes looks like:"
   ]
  },
  {
   "cell_type": "code",
   "execution_count": 1,
   "id": "951edc40-2717-4223-a677-c613e31aa13c",
   "metadata": {},
   "outputs": [
    {
     "name": "stdout",
     "output_type": "stream",
     "text": [
      "[4.9, 44.1, 78.4, 122.5, 240.1]\n"
     ]
    }
   ],
   "source": [
    "# time point (in second) to evaluate\n",
    "time = [1, 3, 4, 5, 7]\n",
    "\n",
    "g = 9.8 # gravitational constant (m/s^2)\n",
    "\n",
    "# calculate the corresponding vertical displacements (m)\n",
    "y = []\n",
    "for t in time:\n",
    "    y.append(round(0.5 * g * t**2, 2))\n",
    "\n",
    "print(y)"
   ]
  },
  {
   "cell_type": "markdown",
   "id": "1eaeeb74-57f9-4325-9478-23bfac21ca08",
   "metadata": {},
   "source": [
    "Usually, if your variable names are well chosen, you do not need to comment very often. In long codes, you may need a comment only every 5 - 15 lines"
   ]
  },
  {
   "cell_type": "code",
   "execution_count": null,
   "id": "8bef97d6-bf36-4cbf-8757-3030d0846e3c",
   "metadata": {},
   "outputs": [],
   "source": []
  }
 ],
 "metadata": {
  "kernelspec": {
   "display_name": "Python 3 (ipykernel)",
   "language": "python",
   "name": "python3"
  },
  "language_info": {
   "codemirror_mode": {
    "name": "ipython",
    "version": 3
   },
   "file_extension": ".py",
   "mimetype": "text/x-python",
   "name": "python",
   "nbconvert_exporter": "python",
   "pygments_lexer": "ipython3",
   "version": "3.12.8"
  }
 },
 "nbformat": 4,
 "nbformat_minor": 5
}
