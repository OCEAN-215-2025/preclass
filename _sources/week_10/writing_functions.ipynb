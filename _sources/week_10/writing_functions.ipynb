{
 "cells": [
  {
   "cell_type": "markdown",
   "id": "ad694e68-250e-44f4-8f08-fdd05231fe76",
   "metadata": {},
   "source": [
    "# Writing your own functions in python"
   ]
  },
  {
   "cell_type": "markdown",
   "id": "bee47574-b2de-4902-a321-4da4f5cacdb9",
   "metadata": {},
   "source": [
    "_Note_: in this section we will stay within core python and avoid using _any_ third party modules such as numpy.\n",
    "\n",
    "Up to this point we have been using functions written by someone else. What do we need to do to create our own functions? And when do we want to do it?"
   ]
  },
  {
   "cell_type": "markdown",
   "id": "8e7af6d7-86af-498f-9306-ef9c29ba8989",
   "metadata": {},
   "source": [
    "## Why write your own functions?"
   ]
  },
  {
   "cell_type": "markdown",
   "id": "b0c39319-b037-44f6-bfad-c14316d1d329",
   "metadata": {},
   "source": [
    "The main reason to write a function is the same main reason to use a for loop: you avoid repeating yourself. As an example, suppose you have a list of floats call `float_values` and you want to print each number out after rounding them to 2 decimal points, we can do so using the for loop below:"
   ]
  },
  {
   "cell_type": "code",
   "execution_count": 1,
   "id": "cd0a4e86-1275-4ae4-87e4-56729d669e0d",
   "metadata": {},
   "outputs": [],
   "source": [
    "# define a list of floats\n",
    "float_values = [1.3546, 2.8452, 7.3137, 4.5606, 4.5517]"
   ]
  },
  {
   "cell_type": "code",
   "execution_count": 2,
   "id": "22cd0492-2d04-41dc-a357-136ae08f288d",
   "metadata": {},
   "outputs": [
    {
     "name": "stdout",
     "output_type": "stream",
     "text": [
      "1.35 2.85 7.31 4.56 4.55 "
     ]
    }
   ],
   "source": [
    "# print out each number after rounded to 2 decimal points. Use \" \" as separator\n",
    "for x in float_values:\n",
    "    x = round(x, 2)\n",
    "    print(x, end=\" \")"
   ]
  },
  {
   "cell_type": "markdown",
   "id": "9bb551fb-064d-405b-bacc-31b6f373dab5",
   "metadata": {},
   "source": [
    "Let's suppose later on in the code you run into the same basic problem, but this time the list is called floats, you'll then have to make another code block:"
   ]
  },
  {
   "cell_type": "code",
   "execution_count": 3,
   "id": "56010839-a4dd-4c0e-a8ca-d86326be14a3",
   "metadata": {},
   "outputs": [],
   "source": [
    "# another list of floats\n",
    "floats = [1.1764, 5.1505 , 2.9198, 4.0561, 5.1616, 4.1885, 6.6322, 9.1152]"
   ]
  },
  {
   "cell_type": "code",
   "execution_count": 4,
   "id": "d7da1a85-fa14-49b5-9a62-b925d4579fb0",
   "metadata": {},
   "outputs": [
    {
     "name": "stdout",
     "output_type": "stream",
     "text": [
      "1.18 5.15 2.92 4.06 5.16 4.19 6.63 9.12 "
     ]
    }
   ],
   "source": [
    "for x in floats:\n",
    "    x = round(x, 2)\n",
    "    print(x, end=\" \")"
   ]
  },
  {
   "cell_type": "markdown",
   "id": "db58524c-3efe-45b5-9749-ee5be4283578",
   "metadata": {},
   "source": [
    "By doing so, what amounts to the same piece of code will show up in more than one places. In addition to repeating yourself, this creates problem when you decide to round to 1 decimal points instead of 2, for then you'll have to hunt down every instance where this piece of code is used and change everyone of them."
   ]
  },
  {
   "cell_type": "markdown",
   "id": "f15b19fb-b6de-40bb-b085-48b7ed204172",
   "metadata": {},
   "source": [
    "The upshot is this: if you are using the same piece of codes (except for minor modifications) multiple times, consider writing a function for the general task, then call it every time a when specific case of the task needs to be performed."
   ]
  },
  {
   "cell_type": "markdown",
   "id": "42e53195-69f6-4ebf-9559-542ab5bf1efe",
   "metadata": {},
   "source": [
    "## Writing python functions"
   ]
  },
  {
   "cell_type": "markdown",
   "id": "91aba9af-5d2a-47c7-8c15-97838219ab24",
   "metadata": {},
   "source": [
    "In python, a definition of function starts with the keyword `def`, followed by the name of the function and the comma-separated sequence of parameters placed inside parentheses, then followed by the ending colon `:`. As an example, we may write a function called `print2dp` that print out floats to 2 decimal place (*note*: the rules for allowed function names are exactly the same as the rules for allowed variable names):"
   ]
  },
  {
   "cell_type": "code",
   "execution_count": 5,
   "id": "67848a86-b26d-47d7-b7e8-9908eac7a968",
   "metadata": {},
   "outputs": [],
   "source": [
    "def print2dp(float_list):\n",
    "    for x in float_list:\n",
    "        x = round(x, 2)\n",
    "        print(x, end=\" \")"
   ]
  },
  {
   "cell_type": "markdown",
   "id": "5941ccee-256a-4aa1-b46f-b104cc84bbaa",
   "metadata": {},
   "source": [
    "As defined, the function `print2dp` takes one input argument `float_list`. Note that the input argument is essentially a *place holder*. It does not correspond to any concrete values. Instead, when you call the function, the variable `float_list` is assigned the values of the input at the start of the execution of the **function body**.\n",
    "\n",
    "In addition, note that the `for...:` line is indented. This is again a _syntax feature_ of python. Basically, after the `def` line, the body of the function needs to be indented by one level. Because our function has a for loop that requires indention on *its* body, the `x = round(x, 2)` and `print(x, end=\" \")` lines are now indented twice."
   ]
  },
  {
   "cell_type": "markdown",
   "id": "7234aac6-01ee-4eb5-9c0a-fca74dc686a7",
   "metadata": {},
   "source": [
    "Once our function is defined, it can be called like any other functions you have encountered. For example, now we can print out our two lists to 2 decimal points via:"
   ]
  },
  {
   "cell_type": "code",
   "execution_count": 6,
   "id": "4bcbcc4c-5ece-4dc8-b997-6b58a8199534",
   "metadata": {},
   "outputs": [
    {
     "name": "stdout",
     "output_type": "stream",
     "text": [
      "1.35 2.85 7.31 4.56 4.55 "
     ]
    }
   ],
   "source": [
    "print2dp(float_values)"
   ]
  },
  {
   "cell_type": "code",
   "execution_count": 7,
   "id": "eb65d4ef-6eb5-46ce-8a38-176a3db4754f",
   "metadata": {
    "editable": true,
    "slideshow": {
     "slide_type": ""
    },
    "tags": []
   },
   "outputs": [
    {
     "name": "stdout",
     "output_type": "stream",
     "text": [
      "1.18 5.15 2.92 4.06 5.16 4.19 6.63 9.12 "
     ]
    }
   ],
   "source": [
    "print2dp(floats)"
   ]
  },
  {
   "cell_type": "markdown",
   "id": "16b9721a-40c9-42f4-baa6-a834f0d5e68e",
   "metadata": {},
   "source": [
    "## Local versus global variables"
   ]
  },
  {
   "cell_type": "markdown",
   "id": "d03e22a8-3838-4edf-812c-8187254ba889",
   "metadata": {},
   "source": [
    "There is one more important difference between rerunning the same piece of codes versus writing a function to complete the same task. When the block of code is not placed inside a function body, the variables defined during the execution of the code will overwrite variables of the same name already defined, and are accessible after the block of code executes:"
   ]
  },
  {
   "cell_type": "code",
   "execution_count": 8,
   "id": "7a38bae2-d42c-4cd0-b033-82ad65fc2515",
   "metadata": {},
   "outputs": [
    {
     "name": "stdout",
     "output_type": "stream",
     "text": [
      "1.18 5.15 2.92 4.06 5.16 4.19 6.63 9.12 \n",
      "9.12\n"
     ]
    }
   ],
   "source": [
    "x = 0\n",
    "\n",
    "for x in floats:\n",
    "    x = round(x, 2)\n",
    "    print(x, end=\" \")\n",
    "\n",
    "print()\n",
    "print(x)"
   ]
  },
  {
   "cell_type": "markdown",
   "id": "53b34e00-11ff-4409-b08d-f9269ae0f16c",
   "metadata": {},
   "source": [
    "We call the variable `x` in this case a **global** variable since it can be accessed globally (= anywhere in the code after it is defined)."
   ]
  },
  {
   "cell_type": "markdown",
   "id": "a192abd2-9bdd-4410-b34c-eb7e1564fe8b",
   "metadata": {},
   "source": [
    "In contrast, when you placed the code block inside a function, the variables the block defines are **local** to the function and cannot be accessed outside. For our example:"
   ]
  },
  {
   "cell_type": "code",
   "execution_count": 9,
   "id": "b53f1448-ca39-41c0-9824-9e3823b67b00",
   "metadata": {},
   "outputs": [
    {
     "name": "stdout",
     "output_type": "stream",
     "text": [
      "1.18 5.15 2.92 4.06 5.16 4.19 6.63 9.12 \n",
      "0\n"
     ]
    }
   ],
   "source": [
    "x = 0 # global variable x\n",
    "\n",
    "def print2dp(float_list):\n",
    "\n",
    "    for x in float_list: # x is local variable here\n",
    "        x = round(x, 2)\n",
    "        print(x, end=\" \")\n",
    "\n",
    "    # the local `x` is destroyed upon function exit\n",
    "\n",
    "print2dp(floats)\n",
    "print()\n",
    "print(x) # print out the global x"
   ]
  },
  {
   "cell_type": "markdown",
   "id": "609ddbeb-c233-4df6-b128-f7e948b069ba",
   "metadata": {},
   "source": [
    "Similarly, the input arguments of your functions are local. They can take the same name as a global variable but they are always assigned the values of the inputs when you call the function, and the global variable will remain unchanged."
   ]
  },
  {
   "cell_type": "code",
   "execution_count": 3,
   "id": "e11d1c2c-6af8-4c84-a5e8-e680f2f8cce8",
   "metadata": {},
   "outputs": [
    {
     "name": "stdout",
     "output_type": "stream",
     "text": [
      "4\n",
      "0\n"
     ]
    }
   ],
   "source": [
    "x = 0 # global variable x\n",
    "\n",
    "def square(x): # local place-holder x\n",
    "    x = x**2 # reassign the value of local x\n",
    "    print(x) # print the value of local x\n",
    "\n",
    "square(2) # substitute x = 2 as the function starts executing\n",
    "print(x) # print out global value of x"
   ]
  },
  {
   "cell_type": "markdown",
   "id": "999e8e0f-96a6-4f01-acf4-13059b12a0ba",
   "metadata": {},
   "source": [
    "The existence of local scope is a feature, not a bug. It allows you to hide implementation details of your function and control what object is exposed to the outside. It also makes the global scope less cluttered when the function body generates a lot of intermediate variables.<br><br>"
   ]
  },
  {
   "cell_type": "markdown",
   "id": "ea8e2863-4396-43ff-b43a-e6594177df4d",
   "metadata": {},
   "source": [
    "What if a variable is defined in the global scope but not in the local scope? What if we use such variables inside the function body? Answer: when python can't find the variable in the local scope it will interpret the variable as being a global variable. Here is an example:"
   ]
  },
  {
   "cell_type": "code",
   "execution_count": 11,
   "id": "bb7b3d98-5ea5-4e33-bd99-56394cd6025d",
   "metadata": {},
   "outputs": [
    {
     "name": "stdout",
     "output_type": "stream",
     "text": [
      "6\n",
      "2\n",
      "1\n"
     ]
    }
   ],
   "source": [
    "x = 2\n",
    "y = 1\n",
    "\n",
    "def print_x_add_y(x):\n",
    "    print(x + y)\n",
    "\n",
    "print_x_add_y(5)\n",
    "print(x)\n",
    "print(y)"
   ]
  },
  {
   "cell_type": "markdown",
   "id": "2488cdc9-c74c-43b0-b2f6-5ef7ccb77615",
   "metadata": {},
   "source": [
    "In the above function, when the `print(x + y)` line is reached, the value of `x` comes from the placeholder, i.e., from the value you input into the function when calling it, while the value of `y` comes from the global scope."
   ]
  },
  {
   "cell_type": "markdown",
   "id": "84026cfb-8fe7-4bed-ba7b-a63faa69886d",
   "metadata": {},
   "source": [
    "Note that by design, you can *use* a global variable in a function but cannot *reassign* it. In particular, the code below will result in an error:"
   ]
  },
  {
   "cell_type": "code",
   "execution_count": 12,
   "id": "14f2fb3f-a953-4c77-8b58-13db8c020ce0",
   "metadata": {
    "editable": true,
    "slideshow": {
     "slide_type": ""
    },
    "tags": [
     "raises-exception"
    ]
   },
   "outputs": [
    {
     "ename": "UnboundLocalError",
     "evalue": "cannot access local variable 'y' where it is not associated with a value",
     "output_type": "error",
     "traceback": [
      "\u001b[1;31m---------------------------------------------------------------------------\u001b[0m",
      "\u001b[1;31mUnboundLocalError\u001b[0m                         Traceback (most recent call last)",
      "Cell \u001b[1;32mIn[12], line 8\u001b[0m\n\u001b[0;32m      5\u001b[0m     y \u001b[38;5;241m=\u001b[39m \u001b[38;5;241m2\u001b[39m \u001b[38;5;241m*\u001b[39m y \u001b[38;5;66;03m# planted an error: cannot reassign global y\u001b[39;00m\n\u001b[0;32m      6\u001b[0m     \u001b[38;5;28mprint\u001b[39m(x \u001b[38;5;241m+\u001b[39m y) \n\u001b[1;32m----> 8\u001b[0m \u001b[43mprint_x_add_y\u001b[49m\u001b[43m(\u001b[49m\u001b[38;5;241;43m2\u001b[39;49m\u001b[43m)\u001b[49m \u001b[38;5;66;03m# when the error is actually triggered\u001b[39;00m\n",
      "Cell \u001b[1;32mIn[12], line 5\u001b[0m, in \u001b[0;36mprint_x_add_y\u001b[1;34m(x)\u001b[0m\n\u001b[0;32m      4\u001b[0m \u001b[38;5;28;01mdef\u001b[39;00m\u001b[38;5;250m \u001b[39m\u001b[38;5;21mprint_x_add_y\u001b[39m(x):\n\u001b[1;32m----> 5\u001b[0m     y \u001b[38;5;241m=\u001b[39m \u001b[38;5;241m2\u001b[39m \u001b[38;5;241m*\u001b[39m \u001b[43my\u001b[49m \u001b[38;5;66;03m# planted an error: cannot reassign global y\u001b[39;00m\n\u001b[0;32m      6\u001b[0m     \u001b[38;5;28mprint\u001b[39m(x \u001b[38;5;241m+\u001b[39m y)\n",
      "\u001b[1;31mUnboundLocalError\u001b[0m: cannot access local variable 'y' where it is not associated with a value"
     ]
    }
   ],
   "source": [
    "x = 2\n",
    "y = 1\n",
    "\n",
    "def print_x_add_y(x):\n",
    "    y = 2 * y # planted an error: cannot reassign global y\n",
    "    print(x + y) \n",
    "\n",
    "print_x_add_y(2) # when the error is actually triggered"
   ]
  },
  {
   "cell_type": "markdown",
   "id": "e2ed3554-7b2e-4f11-bb4d-bb6861532acc",
   "metadata": {},
   "source": [
    "## Returns versus side effects"
   ]
  },
  {
   "cell_type": "markdown",
   "id": "780e0ee9-2e78-4a4a-94d8-5fea732bc11c",
   "metadata": {},
   "source": [
    "It is worth noting that `print2dp` works by side effect: It does not return any object that can be assigned to the left hand side. Instead, numbers are printed out over the course of its execution. In contrast, we can also define a function that returns value. \n",
    "\n",
    "For example, suppose we want our function to round every number in a list to 2 decimal places, but we want the list of rounded number to be returned rather than printed out. We may modify our function to:"
   ]
  },
  {
   "cell_type": "code",
   "execution_count": 13,
   "id": "b908cc09-e47c-44a0-be52-129d3d75fffa",
   "metadata": {},
   "outputs": [],
   "source": [
    "def round2dp(float_list):\n",
    "\n",
    "    out = []\n",
    "    \n",
    "    for x in float_list:\n",
    "        x = round(x, 2)\n",
    "        out.append(x)\n",
    "\n",
    "    return out"
   ]
  },
  {
   "cell_type": "markdown",
   "id": "768da91d-97a7-4471-ab43-3b06ecb0a73a",
   "metadata": {},
   "source": [
    "Note that this time we have to define a new list called `out` at the beginning of the code, and **returns** it at the end. By returning a variable, the result can be assigned and used in the global scope, even though the name `out` remains local:"
   ]
  },
  {
   "cell_type": "code",
   "execution_count": 14,
   "id": "97c3a84d-8e0c-47be-9b38-7fc890cd3b00",
   "metadata": {},
   "outputs": [
    {
     "name": "stdout",
     "output_type": "stream",
     "text": [
      "[1.18, 5.15, 2.92, 4.06, 5.16, 4.19, 6.63, 9.12]\n",
      "[]\n"
     ]
    }
   ],
   "source": [
    "out = [] # global out\n",
    "\n",
    "result = round2dp(floats) # global `result` assigned return value of round2dp\n",
    "\n",
    "print(result)\n",
    "print(out) # global `out` is unchanged"
   ]
  },
  {
   "cell_type": "markdown",
   "id": "0b17c23a-6f36-4be1-bd4f-04e4d94f3d0a",
   "metadata": {},
   "source": [
    "## Functions with optional arguments"
   ]
  },
  {
   "cell_type": "markdown",
   "id": "750cb3f8-d688-4ceb-a07d-ae1ea4be5966",
   "metadata": {},
   "source": [
    "It is easy to extend what we have learned and write functions that take multiple arguments. For example, suppose we generalized the `print2dp()` to a function `print_n_dp()` that allow you to supply how many decimal places you want to keep:"
   ]
  },
  {
   "cell_type": "code",
   "execution_count": 15,
   "id": "efad669f-8885-4354-aa5f-a24487ffb1d2",
   "metadata": {},
   "outputs": [],
   "source": [
    "def print_n_dp(float_list, n):\n",
    "\n",
    "    for x in float_list:\n",
    "        x = round(x, n)\n",
    "        print(x, end=\" \")"
   ]
  },
  {
   "cell_type": "code",
   "execution_count": 16,
   "id": "7b23b923-32ef-4bc2-a172-b51e718dc485",
   "metadata": {},
   "outputs": [
    {
     "name": "stdout",
     "output_type": "stream",
     "text": [
      "1.2 5.2 2.9 4.1 5.2 4.2 6.6 9.1 "
     ]
    }
   ],
   "source": [
    "print_n_dp(floats, 1)"
   ]
  },
  {
   "cell_type": "markdown",
   "id": "c0fd4e01-0ccb-4f7e-9ab5-84c4b70d1371",
   "metadata": {},
   "source": [
    "This may be useful, but if you use cases mostly centered on printing to 2 decimal point, you may want to define 2 to be the default value of `n`. To do so, we follow the argument name with the equal sign and the default value:"
   ]
  },
  {
   "cell_type": "code",
   "execution_count": 17,
   "id": "c032fa8d-2951-44b3-9323-017475b8159a",
   "metadata": {},
   "outputs": [],
   "source": [
    "def print_n_dp(float_list, n = 2):\n",
    "\n",
    "    for x in float_list:\n",
    "        x = round(x, n)\n",
    "        print(x, end=\" \")"
   ]
  },
  {
   "cell_type": "markdown",
   "id": "5124ba6a-ea15-4df8-98dd-647dae42c636",
   "metadata": {},
   "source": [
    "Then we can use the function without supplying `n`, and in that case, the default value will be used: "
   ]
  },
  {
   "cell_type": "code",
   "execution_count": 18,
   "id": "5cc9bf71-920d-4593-9949-673d2179ce1b",
   "metadata": {},
   "outputs": [
    {
     "name": "stdout",
     "output_type": "stream",
     "text": [
      "1.18 5.15 2.92 4.06 5.16 4.19 6.63 9.12 "
     ]
    }
   ],
   "source": [
    "print_n_dp(floats)"
   ]
  },
  {
   "cell_type": "markdown",
   "id": "f7040bfb-ca42-4601-8769-3a2bb5f6ccb9",
   "metadata": {},
   "source": [
    "Importantly, you must write down arguments *without* defaults before you write down those that *has* defaults. For example, the following function will raise an error at definition time: "
   ]
  },
  {
   "cell_type": "code",
   "execution_count": 19,
   "id": "8df34e17-0cf5-45c5-b222-d805b3ac8bbb",
   "metadata": {
    "editable": true,
    "slideshow": {
     "slide_type": ""
    },
    "tags": [
     "raises-exception"
    ]
   },
   "outputs": [
    {
     "ename": "SyntaxError",
     "evalue": "parameter without a default follows parameter with a default (683151872.py, line 1)",
     "output_type": "error",
     "traceback": [
      "\u001b[1;36m  Cell \u001b[1;32mIn[19], line 1\u001b[1;36m\u001b[0m\n\u001b[1;33m    def print_dp_n(n = 2, float_list):\u001b[0m\n\u001b[1;37m                          ^\u001b[0m\n\u001b[1;31mSyntaxError\u001b[0m\u001b[1;31m:\u001b[0m parameter without a default follows parameter with a default\n"
     ]
    }
   ],
   "source": [
    "def print_dp_n(n = 2, float_list):\n",
    "\n",
    "    for x in float_list:\n",
    "        x = round(x, n)\n",
    "        print(x, end=\" \")"
   ]
  },
  {
   "cell_type": "code",
   "execution_count": null,
   "id": "8d627269-4e51-4ef5-bf7d-2df7917cd164",
   "metadata": {},
   "outputs": [],
   "source": []
  }
 ],
 "metadata": {
  "kernelspec": {
   "display_name": "Python 3 (ipykernel)",
   "language": "python",
   "name": "python3"
  },
  "language_info": {
   "codemirror_mode": {
    "name": "ipython",
    "version": 3
   },
   "file_extension": ".py",
   "mimetype": "text/x-python",
   "name": "python",
   "nbconvert_exporter": "python",
   "pygments_lexer": "ipython3",
   "version": "3.12.10"
  }
 },
 "nbformat": 4,
 "nbformat_minor": 5
}
