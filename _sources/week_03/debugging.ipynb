{
 "cells": [
  {
   "cell_type": "markdown",
   "id": "ef181401-6a58-4751-9c63-837cfc5931af",
   "metadata": {},
   "source": [
    "# Bugs and debugging"
   ]
  },
  {
   "cell_type": "markdown",
   "id": "70bd2da1-c381-4b87-a259-842b217bc78d",
   "metadata": {},
   "source": [
    "## Error and traceback"
   ]
  },
  {
   "cell_type": "markdown",
   "id": "ba644af3-e9da-46d5-ace4-69b6185bfc96",
   "metadata": {},
   "source": [
    "So far in our examples we have executed codes without any errors. If you are new to python, this is probably not your experience. For instance, you may forget that the `:` is part of the syntax of `for`:"
   ]
  },
  {
   "cell_type": "code",
   "execution_count": 1,
   "id": "9a103c8f-d6c4-403f-84cd-75dd8ea52651",
   "metadata": {},
   "outputs": [
    {
     "ename": "SyntaxError",
     "evalue": "expected ':' (298098744.py, line 1)",
     "output_type": "error",
     "traceback": [
      "\u001b[1;36m  Cell \u001b[1;32mIn[1], line 1\u001b[1;36m\u001b[0m\n\u001b[1;33m    for x in range(4)\u001b[0m\n\u001b[1;37m                     ^\u001b[0m\n\u001b[1;31mSyntaxError\u001b[0m\u001b[1;31m:\u001b[0m expected ':'\n"
     ]
    }
   ],
   "source": [
    "for x in range(4)\n",
    "    print(x)"
   ]
  },
  {
   "cell_type": "markdown",
   "id": "0ff9936c-fce5-4777-81fd-a857f7db9a6e",
   "metadata": {},
   "source": [
    "When you try to execute the above code (as illustrated), python will give you an error message, and also give you some information about where the error is located, so that you can start **debugging** it"
   ]
  },
  {
   "cell_type": "markdown",
   "id": "2c760da9-a3a7-43ba-a563-aec45e12038e",
   "metadata": {},
   "source": [
    "More often, especially when you are using 3rd-party modules (which we'll get to in week 4), you can a more complicated error message. For example (don't worry about the `import` line, we'll talk more about that in week 4)"
   ]
  },
  {
   "cell_type": "code",
   "execution_count": 24,
   "id": "d8a4191a-788d-4ae6-9c71-d03182d4a1ab",
   "metadata": {},
   "outputs": [
    {
     "ename": "TypeError",
     "evalue": "'>=' not supported between instances of 'int' and 'NoneType'",
     "output_type": "error",
     "traceback": [
      "\u001b[1;31m---------------------------------------------------------------------------\u001b[0m",
      "\u001b[1;31mTypeError\u001b[0m                                 Traceback (most recent call last)",
      "Cell \u001b[1;32mIn[24], line 4\u001b[0m\n\u001b[0;32m      1\u001b[0m \u001b[38;5;28;01mimport\u001b[39;00m\u001b[38;5;250m \u001b[39m\u001b[38;5;21;01mnumpy\u001b[39;00m\u001b[38;5;250m \u001b[39m\u001b[38;5;28;01mas\u001b[39;00m\u001b[38;5;250m \u001b[39m\u001b[38;5;21;01mnp\u001b[39;00m\n\u001b[0;32m      3\u001b[0m x_list \u001b[38;5;241m=\u001b[39m [\u001b[38;5;241m1\u001b[39m, \u001b[38;5;241m7\u001b[39m, \u001b[38;5;241m5\u001b[39m, \u001b[38;5;28;01mNone\u001b[39;00m, \u001b[38;5;241m8\u001b[39m]\n\u001b[1;32m----> 4\u001b[0m \u001b[43mnp\u001b[49m\u001b[38;5;241;43m.\u001b[39;49m\u001b[43mmax\u001b[49m\u001b[43m(\u001b[49m\u001b[43mx_list\u001b[49m\u001b[43m)\u001b[49m\n",
      "File \u001b[1;32m~\\miniforge3\\envs\\learn\\Lib\\site-packages\\numpy\\core\\fromnumeric.py:2810\u001b[0m, in \u001b[0;36mmax\u001b[1;34m(a, axis, out, keepdims, initial, where)\u001b[0m\n\u001b[0;32m   2692\u001b[0m \u001b[38;5;129m@array_function_dispatch\u001b[39m(_max_dispatcher)\n\u001b[0;32m   2693\u001b[0m \u001b[38;5;129m@set_module\u001b[39m(\u001b[38;5;124m'\u001b[39m\u001b[38;5;124mnumpy\u001b[39m\u001b[38;5;124m'\u001b[39m)\n\u001b[0;32m   2694\u001b[0m \u001b[38;5;28;01mdef\u001b[39;00m\u001b[38;5;250m \u001b[39m\u001b[38;5;21mmax\u001b[39m(a, axis\u001b[38;5;241m=\u001b[39m\u001b[38;5;28;01mNone\u001b[39;00m, out\u001b[38;5;241m=\u001b[39m\u001b[38;5;28;01mNone\u001b[39;00m, keepdims\u001b[38;5;241m=\u001b[39mnp\u001b[38;5;241m.\u001b[39m_NoValue, initial\u001b[38;5;241m=\u001b[39mnp\u001b[38;5;241m.\u001b[39m_NoValue,\n\u001b[0;32m   2695\u001b[0m          where\u001b[38;5;241m=\u001b[39mnp\u001b[38;5;241m.\u001b[39m_NoValue):\n\u001b[0;32m   2696\u001b[0m \u001b[38;5;250m    \u001b[39m\u001b[38;5;124;03m\"\"\"\u001b[39;00m\n\u001b[0;32m   2697\u001b[0m \u001b[38;5;124;03m    Return the maximum of an array or maximum along an axis.\u001b[39;00m\n\u001b[0;32m   2698\u001b[0m \n\u001b[1;32m   (...)\u001b[0m\n\u001b[0;32m   2808\u001b[0m \u001b[38;5;124;03m    5\u001b[39;00m\n\u001b[0;32m   2809\u001b[0m \u001b[38;5;124;03m    \"\"\"\u001b[39;00m\n\u001b[1;32m-> 2810\u001b[0m     \u001b[38;5;28;01mreturn\u001b[39;00m \u001b[43m_wrapreduction\u001b[49m\u001b[43m(\u001b[49m\u001b[43ma\u001b[49m\u001b[43m,\u001b[49m\u001b[43m \u001b[49m\u001b[43mnp\u001b[49m\u001b[38;5;241;43m.\u001b[39;49m\u001b[43mmaximum\u001b[49m\u001b[43m,\u001b[49m\u001b[43m \u001b[49m\u001b[38;5;124;43m'\u001b[39;49m\u001b[38;5;124;43mmax\u001b[39;49m\u001b[38;5;124;43m'\u001b[39;49m\u001b[43m,\u001b[49m\u001b[43m \u001b[49m\u001b[43maxis\u001b[49m\u001b[43m,\u001b[49m\u001b[43m \u001b[49m\u001b[38;5;28;43;01mNone\u001b[39;49;00m\u001b[43m,\u001b[49m\u001b[43m \u001b[49m\u001b[43mout\u001b[49m\u001b[43m,\u001b[49m\n\u001b[0;32m   2811\u001b[0m \u001b[43m                          \u001b[49m\u001b[43mkeepdims\u001b[49m\u001b[38;5;241;43m=\u001b[39;49m\u001b[43mkeepdims\u001b[49m\u001b[43m,\u001b[49m\u001b[43m \u001b[49m\u001b[43minitial\u001b[49m\u001b[38;5;241;43m=\u001b[39;49m\u001b[43minitial\u001b[49m\u001b[43m,\u001b[49m\u001b[43m \u001b[49m\u001b[43mwhere\u001b[49m\u001b[38;5;241;43m=\u001b[39;49m\u001b[43mwhere\u001b[49m\u001b[43m)\u001b[49m\n",
      "File \u001b[1;32m~\\miniforge3\\envs\\learn\\Lib\\site-packages\\numpy\\core\\fromnumeric.py:88\u001b[0m, in \u001b[0;36m_wrapreduction\u001b[1;34m(obj, ufunc, method, axis, dtype, out, **kwargs)\u001b[0m\n\u001b[0;32m     85\u001b[0m         \u001b[38;5;28;01melse\u001b[39;00m:\n\u001b[0;32m     86\u001b[0m             \u001b[38;5;28;01mreturn\u001b[39;00m reduction(axis\u001b[38;5;241m=\u001b[39maxis, out\u001b[38;5;241m=\u001b[39mout, \u001b[38;5;241m*\u001b[39m\u001b[38;5;241m*\u001b[39mpasskwargs)\n\u001b[1;32m---> 88\u001b[0m \u001b[38;5;28;01mreturn\u001b[39;00m \u001b[43mufunc\u001b[49m\u001b[38;5;241;43m.\u001b[39;49m\u001b[43mreduce\u001b[49m\u001b[43m(\u001b[49m\u001b[43mobj\u001b[49m\u001b[43m,\u001b[49m\u001b[43m \u001b[49m\u001b[43maxis\u001b[49m\u001b[43m,\u001b[49m\u001b[43m \u001b[49m\u001b[43mdtype\u001b[49m\u001b[43m,\u001b[49m\u001b[43m \u001b[49m\u001b[43mout\u001b[49m\u001b[43m,\u001b[49m\u001b[43m \u001b[49m\u001b[38;5;241;43m*\u001b[39;49m\u001b[38;5;241;43m*\u001b[39;49m\u001b[43mpasskwargs\u001b[49m\u001b[43m)\u001b[49m\n",
      "\u001b[1;31mTypeError\u001b[0m: '>=' not supported between instances of 'int' and 'NoneType'"
     ]
    }
   ],
   "source": [
    "import numpy as np\n",
    "\n",
    "x_list = [1, 7, 5, None, 8]\n",
    "np.max(x_list)"
   ]
  },
  {
   "cell_type": "markdown",
   "id": "accc7c62-881f-4760-8983-56ce00a86c4e",
   "metadata": {},
   "source": [
    "This is a lot of information, but we can peel it off step by step. \n",
    "\n",
    "First, we focus our attention to the bottom of the error message, where the error type is indicated (`TypeError`). More importantly, the message give you a clue of **what** went wrong: You are trying to compare an `int` type with a `None` type, which is not allowed.\n",
    "\n",
    "Now you **what** went wrong the next step is to figure out **where** it went wrong. Going from the bottom towards the top, you encounter unfamiliar codes from unfamiliar files in the middle. These you can ignore because these are codes written by someone else for the numpy package (again, more on this on week 4). These are **not your code**. Your code is actually close to the top, where something trigger the error downstream.\n",
    "\n",
    "At the top you see that the `np.max()` code is being highlighted. The execution of the `np.max()` function triggers the error downstream. But there is nothing wrong with the _function_ itself... So we look into the arguments you supplied to the function.\n",
    "\n",
    "And there we finally understand what went wrong. The source data that is fed into the code is problematic. So the line that you'll likely have to fix is the definition of `x_list`"
   ]
  },
  {
   "cell_type": "markdown",
   "id": "4af8c391-bccb-403b-8168-4b6f228ada52",
   "metadata": {},
   "source": [
    "## Debugging strategies"
   ]
  },
  {
   "cell_type": "markdown",
   "id": "be6aad8e-9138-4dec-9d88-9d33cf6f1afd",
   "metadata": {},
   "source": [
    "What if you have complicated blocks of codes and you can't easily tell where the error comes from? Say, for example, you have the following block:"
   ]
  },
  {
   "cell_type": "code",
   "execution_count": 25,
   "id": "91168be3-8c31-47c3-8dcf-38cfbefbea31",
   "metadata": {},
   "outputs": [
    {
     "ename": "ZeroDivisionError",
     "evalue": "division by zero",
     "output_type": "error",
     "traceback": [
      "\u001b[1;31m---------------------------------------------------------------------------\u001b[0m",
      "\u001b[1;31mZeroDivisionError\u001b[0m                         Traceback (most recent call last)",
      "Cell \u001b[1;32mIn[25], line 9\u001b[0m\n\u001b[0;32m      7\u001b[0m out \u001b[38;5;241m=\u001b[39m []\n\u001b[0;32m      8\u001b[0m \u001b[38;5;28;01mfor\u001b[39;00m i, val \u001b[38;5;129;01min\u001b[39;00m \u001b[38;5;28menumerate\u001b[39m(y):\n\u001b[1;32m----> 9\u001b[0m     out\u001b[38;5;241m.\u001b[39mappend(\u001b[43mval\u001b[49m\u001b[43m \u001b[49m\u001b[38;5;241;43m/\u001b[39;49m\u001b[43m \u001b[49m\u001b[43mx\u001b[49m\u001b[43m[\u001b[49m\u001b[43mi\u001b[49m\u001b[43m]\u001b[49m)\n",
      "\u001b[1;31mZeroDivisionError\u001b[0m: division by zero"
     ]
    }
   ],
   "source": [
    "x = list(range(15))\n",
    "y = list(range(1, 16))\n",
    "\n",
    "for i, val in enumerate(x):\n",
    "    y[i] = y[i] - val\n",
    "\n",
    "out = []\n",
    "for i, val in enumerate(y):\n",
    "    out.append(val / x[i])"
   ]
  },
  {
   "cell_type": "markdown",
   "id": "e0ecf0cd-a5b6-413e-9675-4467ad973815",
   "metadata": {},
   "source": [
    "Here are some suggestions:\n",
    "+ If you code is in a large / long cell, see if you can break the cell into smaller pieces, and isolated the piece from which the error was triggered.\n",
    "+ You may want to comment out part of the code and see how it affects the error. Again, this can provide useful information about where the error occured.\n",
    "+ Finally, if you know roughly where the error occured, insert `print()` statement(s) shortly before that location to give you some information about the **states of the variables** before the python was tripped."
   ]
  },
  {
   "cell_type": "markdown",
   "id": "066a200f-31f2-412d-a8a9-0b567fc39b19",
   "metadata": {},
   "source": [
    "In our example, we can break the code above into 3 smaller pieces, only the last of which triggers error:"
   ]
  },
  {
   "cell_type": "code",
   "execution_count": 26,
   "id": "69520fcd-df9a-4681-9826-209a5fa2929b",
   "metadata": {},
   "outputs": [],
   "source": [
    "x = list(range(15))\n",
    "y = list(range(1, 16))"
   ]
  },
  {
   "cell_type": "code",
   "execution_count": 27,
   "id": "dd070d73-f41e-4f95-b602-d9fba75c6ee5",
   "metadata": {},
   "outputs": [],
   "source": [
    "for i, val in enumerate(x):\n",
    "    y[i] = y[i] - val"
   ]
  },
  {
   "cell_type": "code",
   "execution_count": 28,
   "id": "043db67a-5222-48b5-b3b4-d1c2ba8294fd",
   "metadata": {},
   "outputs": [
    {
     "ename": "ZeroDivisionError",
     "evalue": "division by zero",
     "output_type": "error",
     "traceback": [
      "\u001b[1;31m---------------------------------------------------------------------------\u001b[0m",
      "\u001b[1;31mZeroDivisionError\u001b[0m                         Traceback (most recent call last)",
      "Cell \u001b[1;32mIn[28], line 3\u001b[0m\n\u001b[0;32m      1\u001b[0m out \u001b[38;5;241m=\u001b[39m []\n\u001b[0;32m      2\u001b[0m \u001b[38;5;28;01mfor\u001b[39;00m i, val \u001b[38;5;129;01min\u001b[39;00m \u001b[38;5;28menumerate\u001b[39m(y):\n\u001b[1;32m----> 3\u001b[0m     out\u001b[38;5;241m.\u001b[39mappend(\u001b[43mval\u001b[49m\u001b[43m \u001b[49m\u001b[38;5;241;43m/\u001b[39;49m\u001b[43m \u001b[49m\u001b[43mx\u001b[49m\u001b[43m[\u001b[49m\u001b[43mi\u001b[49m\u001b[43m]\u001b[49m)\n",
      "\u001b[1;31mZeroDivisionError\u001b[0m: division by zero"
     ]
    }
   ],
   "source": [
    "out = []\n",
    "for i, val in enumerate(y):\n",
    "    out.append(val / x[i])"
   ]
  },
  {
   "cell_type": "markdown",
   "id": "a487e61a-b569-4f64-8202-11ad6cc0cf66",
   "metadata": {},
   "source": [
    "Next, we print out the values of `i`, `val`, and `x[i]` right before the error occurs:"
   ]
  },
  {
   "cell_type": "code",
   "execution_count": 29,
   "id": "9ff4f5e4-cb20-4fe1-a271-b1cf8adbec43",
   "metadata": {},
   "outputs": [
    {
     "name": "stdout",
     "output_type": "stream",
     "text": [
      "0 1 0\n"
     ]
    },
    {
     "ename": "ZeroDivisionError",
     "evalue": "division by zero",
     "output_type": "error",
     "traceback": [
      "\u001b[1;31m---------------------------------------------------------------------------\u001b[0m",
      "\u001b[1;31mZeroDivisionError\u001b[0m                         Traceback (most recent call last)",
      "Cell \u001b[1;32mIn[29], line 4\u001b[0m\n\u001b[0;32m      2\u001b[0m \u001b[38;5;28;01mfor\u001b[39;00m i, val \u001b[38;5;129;01min\u001b[39;00m \u001b[38;5;28menumerate\u001b[39m(y):\n\u001b[0;32m      3\u001b[0m     \u001b[38;5;28mprint\u001b[39m(i, val, x[i])\n\u001b[1;32m----> 4\u001b[0m     out\u001b[38;5;241m.\u001b[39mappend(\u001b[43mval\u001b[49m\u001b[43m \u001b[49m\u001b[38;5;241;43m/\u001b[39;49m\u001b[43m \u001b[49m\u001b[43mx\u001b[49m\u001b[43m[\u001b[49m\u001b[43mi\u001b[49m\u001b[43m]\u001b[49m)\n",
      "\u001b[1;31mZeroDivisionError\u001b[0m: division by zero"
     ]
    }
   ],
   "source": [
    "out = []\n",
    "for i, val in enumerate(y):\n",
    "    print(i, val, x[i])\n",
    "    out.append(val / x[i])"
   ]
  },
  {
   "cell_type": "markdown",
   "id": "2f6473c0-aca6-44e2-bcb0-9dc27eb648ce",
   "metadata": {},
   "source": [
    "We see that the error happens at index `i` = 0, where `val` = 1 and `x[i]` = 0, and we recognize that it is the last part, that `x[0]` = 0, that causes of our problem."
   ]
  },
  {
   "cell_type": "markdown",
   "id": "ae4b82c7-7cb2-4e80-b9d4-d7ab17ccc3f0",
   "metadata": {},
   "source": [
    "## Logic error and sanity check"
   ]
  },
  {
   "cell_type": "markdown",
   "id": "76f5bc57-97ae-4fcc-bcb5-782d136d732b",
   "metadata": {},
   "source": [
    "So far we have discussed errors that python **can** catch (which we will refer to as **syntax errors**, using the term loosely). However, there are also errors and mistakes that python **cannot** catch. In these cases, your code runs and, say, generated some output. What you haven't noticed is that the code is not doing what you have **in mind**. These are called **logic errors**. Take the `if`-`elif`-`else` example from the last section. Suppose we have:"
   ]
  },
  {
   "cell_type": "code",
   "execution_count": 30,
   "id": "4872f123-cf71-4992-8e38-bcd201b17e14",
   "metadata": {},
   "outputs": [],
   "source": [
    "# define a temperature\n",
    "temp = 22"
   ]
  },
  {
   "cell_type": "code",
   "execution_count": 31,
   "id": "50b029c0-dd55-4d17-af35-2c854a1c57a9",
   "metadata": {},
   "outputs": [
    {
     "name": "stdout",
     "output_type": "stream",
     "text": [
      "Temperature 22 is normal\n"
     ]
    }
   ],
   "source": [
    "if temp > 35:\n",
    "    print(\"Dire warning: Temperature \" + str(temp) + \" is above the threshold of 35 deg C\")\n",
    "else:\n",
    "    print(\"Temperature \" + str(temp) + \" deg C is normal\")\n",
    "    \n",
    "if temp < 10:\n",
    "    print(\"Warning: Temperature \" + str(temp) + \" is close to the threshold of 35 deg C\")"
   ]
  },
  {
   "cell_type": "markdown",
   "id": "b6f76bb1-e361-4330-ab71-ff5af684d7d8",
   "metadata": {},
   "source": [
    "The code seems to be working fine, until you supply a value of `temp` that is below 10:"
   ]
  },
  {
   "cell_type": "code",
   "execution_count": 32,
   "id": "74a9be7b-9d36-4a76-8d9a-01b88285d067",
   "metadata": {},
   "outputs": [],
   "source": [
    "# define a temperature\n",
    "temp = -5"
   ]
  },
  {
   "cell_type": "code",
   "execution_count": 33,
   "id": "10696313-b9e7-47b9-8e6f-7cc9063da852",
   "metadata": {},
   "outputs": [
    {
     "name": "stdout",
     "output_type": "stream",
     "text": [
      "Temperature -5 is normal\n",
      "Warning: Temperature -5 is close to the threshold of 35 deg C\n"
     ]
    }
   ],
   "source": [
    "if temp > 35:\n",
    "    print(\"Dire warning: Temperature \" + str(temp) + \" is above the threshold of 35 deg C\")\n",
    "else:\n",
    "    print(\"Temperature \" + str(temp) + \" deg C is normal\")\n",
    "    \n",
    "if temp < 10:\n",
    "    print(\"Warning: Temperature \" + str(temp) + \" is close to the threshold of 35 deg C\")"
   ]
  },
  {
   "cell_type": "markdown",
   "id": "8d8842ff-4c4a-4068-a055-bacbf84b93b8",
   "metadata": {},
   "source": [
    "Now the code print twice. This is an example of **logic error**, which, again, arise because you **intended** to carry out some operations but instead instructed python to do something **else**."
   ]
  },
  {
   "cell_type": "markdown",
   "id": "e974e45c-e688-4cb0-8394-b46e939d13b9",
   "metadata": {},
   "source": [
    "One good guard against logic error is **sanity checks**. Basically, you feed your code some data for which you **know** what answer should come out, and check if the output is indeed what you expect. If not, you will have to use the debug strategies mentioned above to locate where the error(s) occur and what went wrong, this time without python's help via error messages."
   ]
  },
  {
   "cell_type": "code",
   "execution_count": null,
   "id": "62800c91-7449-4515-adb1-ce6dc180ff9d",
   "metadata": {},
   "outputs": [],
   "source": []
  }
 ],
 "metadata": {
  "execution": {
   "allow_errors": true
  },
  "kernelspec": {
   "display_name": "Python 3 (ipykernel)",
   "language": "python",
   "name": "python3"
  },
  "language_info": {
   "codemirror_mode": {
    "name": "ipython",
    "version": 3
   },
   "file_extension": ".py",
   "mimetype": "text/x-python",
   "name": "python",
   "nbconvert_exporter": "python",
   "pygments_lexer": "ipython3",
   "version": "3.12.10"
  }
 },
 "nbformat": 4,
 "nbformat_minor": 5
}
