{
 "cells": [
  {
   "cell_type": "markdown",
   "id": "1872d28b-ce3f-4dd2-9c80-c12048a2d377",
   "metadata": {},
   "source": [
    "# Conditional statements"
   ]
  },
  {
   "cell_type": "markdown",
   "id": "26521106-8dbf-40d9-8dbe-dab174b542e7",
   "metadata": {},
   "source": [
    "## `if` statements"
   ]
  },
  {
   "cell_type": "markdown",
   "id": "dc340b40-da6d-48e0-a526-0f6114a2c103",
   "metadata": {},
   "source": [
    "Sometimes, when we loop through a list, the action we want to perform depends on the value of the current item. For example, let's suppose the list `temp_list` represents a sequence of temperatures (in Celsius), and we want to print a warning message when the temperature is above 35°C. The `for` loop may look like the following:"
   ]
  },
  {
   "cell_type": "code",
   "execution_count": 1,
   "id": "986c39d8-c182-4de5-97b8-715e537f130f",
   "metadata": {},
   "outputs": [],
   "source": [
    "# list of temperature in Celsius\n",
    "temp_list = [28, 34, 19, 22, 25, 37, 15, 18, 9, 4, 17]"
   ]
  },
  {
   "cell_type": "code",
   "execution_count": 2,
   "id": "5779ac9a-ae15-4f71-8f71-fd184443a2d0",
   "metadata": {},
   "outputs": [
    {
     "name": "stdout",
     "output_type": "stream",
     "text": [
      "Temperature 37 is above the threshold of 35 deg C\n"
     ]
    }
   ],
   "source": [
    "# print a warning message ONLY IF the temperature is above 35\n",
    "for temp in temp_list:\n",
    "    if temp > 35:\n",
    "        print(\"Temperature \" + str(temp) + \" is above the threshold of 35 deg C\")"
   ]
  },
  {
   "cell_type": "markdown",
   "id": "0905935a-ba9b-4fbb-bcec-20a8deae453d",
   "metadata": {},
   "source": [
    "The new structure of the above code is the `if` conditional. You can also use it outside of the for loop (although, for now, this usage is pretty unnecessary):"
   ]
  },
  {
   "cell_type": "code",
   "execution_count": 7,
   "id": "95ccdef4-4f76-47c9-b69d-b1fa5b7dd300",
   "metadata": {},
   "outputs": [],
   "source": [
    "# set the temperature variable\n",
    "temp = 16\n",
    "\n",
    "# conditional print\n",
    "if temp > 35:\n",
    "    print(\"Temperature \" + str(temp) + \" is above the threshold of 35 deg C\")"
   ]
  },
  {
   "cell_type": "markdown",
   "id": "48eb6ba3-0dd4-4e55-82e4-8e3ac33d94f2",
   "metadata": {},
   "source": [
    "Note that nothing is printed out in the above code, since the value of the variable `temp` is, indeed, below 35"
   ]
  },
  {
   "cell_type": "markdown",
   "id": "88dc1867-730e-41b1-b693-c94d8a9d7912",
   "metadata": {},
   "source": [
    "As with the `for` loop, the indent and the colon are parts of the syntax. The indentation tells python which block of codes should be executed only conditionally. Also note that in the example where the `if` conditional is nested inside a `for` loop, the inner-most statement is doubly-indented, since it is the block that executes only if **the condition is true** (`if`), and it is checked for **every value in `temp_list`** (`for`)."
   ]
  },
  {
   "cell_type": "markdown",
   "id": "ffdcb3c8-b572-451d-9ca5-c8c9a9f16ea0",
   "metadata": {},
   "source": [
    "There is nothing wrong about putting in multiple `if` statement inside a `for` loop. For example, if we want to **also** print out a warning if the temperature is too low, we may do:"
   ]
  },
  {
   "cell_type": "code",
   "execution_count": 3,
   "id": "332afa99-d2d4-41f8-b271-114aa47c18db",
   "metadata": {},
   "outputs": [
    {
     "name": "stdout",
     "output_type": "stream",
     "text": [
      "Temperature 37 is above the threshold of 35 deg C\n",
      "Temperature 9 is below the threshold of 10 deg C\n",
      "Temperature 4 is below the threshold of 10 deg C\n"
     ]
    }
   ],
   "source": [
    "# print a warning message ONLY IF the temperature is above 35\n",
    "for temp in temp_list:\n",
    "    \n",
    "    if temp > 35:\n",
    "        print(\"Temperature \" + str(temp) + \" is above the threshold of 35 deg C\")\n",
    "\n",
    "    if temp < 10:\n",
    "        print(\"Temperature \" + str(temp) + \" is below the threshold of 10 deg C\")"
   ]
  },
  {
   "cell_type": "markdown",
   "id": "0ed4d3f4-8f21-44d5-8fdc-34307fc6dcb4",
   "metadata": {},
   "source": [
    "## `if`-`else` statements"
   ]
  },
  {
   "cell_type": "markdown",
   "id": "44e6fb85-331a-48e9-aef7-619bfc6bbb29",
   "metadata": {},
   "source": [
    "Returning to the case where we print out a warning message only if the temperature is too high. What if we also want to print out temperature that are normal, just without the warning? We can tag an `else` statement after the `if`:"
   ]
  },
  {
   "cell_type": "code",
   "execution_count": 12,
   "id": "5aa315bf-306b-465a-8a1d-1046156e28c0",
   "metadata": {},
   "outputs": [
    {
     "name": "stdout",
     "output_type": "stream",
     "text": [
      "Temperature 28 is normal\n",
      "Temperature 34 is normal\n",
      "Temperature 19 is normal\n",
      "Temperature 22 is normal\n",
      "Temperature 25 is normal\n",
      "Temperature 37 is above the threshold of 35 deg C\n",
      "Temperature 15 is normal\n",
      "Temperature 18 is normal\n",
      "Temperature 9 is normal\n",
      "Temperature 4 is normal\n",
      "Temperature 17 is normal\n"
     ]
    }
   ],
   "source": [
    "for temp in temp_list:\n",
    "    if temp > 35:\n",
    "        print(\"Temperature \" + str(temp) + \" is above the threshold of 35 deg C\")\n",
    "    else:\n",
    "        print(\"Temperature \" + str(temp) + \" deg C is normal\")"
   ]
  },
  {
   "cell_type": "markdown",
   "id": "268f9e28-29b7-4e0c-b15a-bbc12781c824",
   "metadata": {},
   "source": [
    "Some notable observations from the above code:\n",
    "+ Both the `if` and the `else` are at the **same** indentation level\n",
    "+ Both the `if` line and the `else` line are followed by further indented blocks\n",
    "+ At every step of the loop, **either** the `if` block is executed **or** the `else` block is executed"
   ]
  },
  {
   "cell_type": "markdown",
   "id": "4b477fc0-9de4-45aa-9f9f-4c1f0a7f6487",
   "metadata": {},
   "source": [
    "## `if`-`elif`-`else` statements"
   ]
  },
  {
   "cell_type": "markdown",
   "id": "4dfb5570-d898-4338-8d56-db6233f36b08",
   "metadata": {},
   "source": [
    "What if we also want to warn that the temperature is too low? Well, at any given step of the loop, we want exactly **one of three things below** to happen:\n",
    "+ Temperature is printed out with no warning\n",
    "+ Temperature is printed out with an \"above threshold\" warning\n",
    "+ Temperature is printed out with a \"below threshold\" warning"
   ]
  },
  {
   "cell_type": "markdown",
   "id": "72ab4bbb-ac5c-449b-8d79-1be116bcd57a",
   "metadata": {},
   "source": [
    "To make sure that exactly one of the 3 cases is executed, we need an `if`-`elif`-`else` statement (\"elif\" here means  \"else if\")"
   ]
  },
  {
   "cell_type": "code",
   "execution_count": 13,
   "id": "10b88a7a-b5c5-434e-a965-9b59854043cc",
   "metadata": {},
   "outputs": [
    {
     "name": "stdout",
     "output_type": "stream",
     "text": [
      "Temperature 28 is normal\n",
      "Temperature 34 is normal\n",
      "Temperature 19 is normal\n",
      "Temperature 22 is normal\n",
      "Temperature 25 is normal\n",
      "Temperature 37 is above the threshold of 35 deg C\n",
      "Temperature 15 is normal\n",
      "Temperature 18 is normal\n",
      "Temperature 9 is below the threshold of 10 deg C\n",
      "Temperature 4 is below the threshold of 10 deg C\n",
      "Temperature 17 is normal\n"
     ]
    }
   ],
   "source": [
    "for temp in temp_list:\n",
    "    if temp > 35:\n",
    "        print(\"Temperature \" + str(temp) + \" is above the threshold of 35 deg C\")\n",
    "    elif temp < 10:\n",
    "        print(\"Temperature \" + str(temp) + \" is below the threshold of 10 deg C\")\n",
    "    else:\n",
    "        print(\"Temperature \" + str(temp) + \" deg C is normal\")"
   ]
  },
  {
   "cell_type": "markdown",
   "id": "3ad246f6-ded1-4cd7-b901-d472e3c59beb",
   "metadata": {},
   "source": [
    "Note that the **order matters** here. Python will first check the `if` condition. If that condition is true, it executes the `if` block and **omit the remaining codes**. Similarly, if the `if` condition is false and the `elif` condition is true, the `elif` block is executed and the `else` block is completely ignored.\n",
    "\n",
    "This hierarchy is sometimes useful when you have to stack condition in the same direction. Example:"
   ]
  },
  {
   "cell_type": "code",
   "execution_count": 14,
   "id": "ebdebbb7-3bd9-4f40-8330-9f50f12f0084",
   "metadata": {},
   "outputs": [
    {
     "name": "stdout",
     "output_type": "stream",
     "text": [
      "Temperature 28 is normal\n",
      "Warning: Temperature 34 is close to the threshold of 35 deg C\n",
      "Temperature 19 is normal\n",
      "Temperature 22 is normal\n",
      "Temperature 25 is normal\n",
      "Dire warning: Temperature 37 is above the threshold of 35 deg C\n",
      "Temperature 15 is normal\n",
      "Temperature 18 is normal\n",
      "Temperature 9 is normal\n",
      "Temperature 4 is normal\n",
      "Temperature 17 is normal\n"
     ]
    }
   ],
   "source": [
    "for temp in temp_list:\n",
    "    if temp > 35:\n",
    "        print(\"Dire warning: Temperature \" + str(temp) + \" is above the threshold of 35 deg C\")\n",
    "    elif temp > 30:\n",
    "        print(\"Warning: Temperature \" + str(temp) + \" is close to the threshold of 35 deg C\")\n",
    "    else:\n",
    "        print(\"Temperature \" + str(temp) + \" deg C is normal\")"
   ]
  },
  {
   "cell_type": "markdown",
   "id": "bc4f90ef-dfd6-4645-b2e6-2c12ea107651",
   "metadata": {},
   "source": [
    "Note that even though the value 37 satisfies both the `if` conditional and the `elif` conditional, only the `if` block is executed."
   ]
  },
  {
   "cell_type": "markdown",
   "id": "3514e05f-9c79-4bbb-bbd4-b051b6777d9a",
   "metadata": {},
   "source": [
    "By the way, by inserting multiple `elif` you can check an arbitrary hierarchy of conditions. For example:"
   ]
  },
  {
   "cell_type": "code",
   "execution_count": 16,
   "id": "aa51e3bb-775d-4cfc-b587-0b7a2ab43a19",
   "metadata": {},
   "outputs": [
    {
     "name": "stdout",
     "output_type": "stream",
     "text": [
      "Temperature 28 is normal\n",
      "Warning: Temperature 34 is close to the threshold of 35 deg C\n",
      "Temperature 19 is normal\n",
      "Temperature 22 is normal\n",
      "Temperature 25 is normal\n",
      "Dire warning: Temperature 37 is above the threshold of 35 deg C\n",
      "Temperature 15 is normal\n",
      "Temperature 18 is normal\n",
      "Warning: Temperature 9 is close to the threshold of 5 deg C\n",
      "Dire warning: Temperature 4 is below the threshold of 5 deg C\n",
      "Temperature 17 is normal\n"
     ]
    }
   ],
   "source": [
    "for temp in temp_list:\n",
    "    if temp > 35:\n",
    "        print(\"Dire warning: Temperature \" + str(temp) + \" is above the threshold of 35 deg C\")\n",
    "    elif temp > 30:\n",
    "        print(\"Warning: Temperature \" + str(temp) + \" is close to the threshold of 35 deg C\")\n",
    "    elif temp < 5:\n",
    "        print(\"Dire warning: Temperature \" + str(temp) + \" is below the threshold of 5 deg C\")\n",
    "    elif temp < 10:\n",
    "        print(\"Warning: Temperature \" + str(temp) + \" is close to the threshold of 5 deg C\")\n",
    "    else:\n",
    "        print(\"Temperature \" + str(temp) + \" deg C is normal\")"
   ]
  },
  {
   "cell_type": "code",
   "execution_count": null,
   "id": "a8a1f52a-7a32-450a-99e0-5cc12caf37bd",
   "metadata": {},
   "outputs": [],
   "source": []
  }
 ],
 "metadata": {
  "kernelspec": {
   "display_name": "Python 3 (ipykernel)",
   "language": "python",
   "name": "python3"
  },
  "language_info": {
   "codemirror_mode": {
    "name": "ipython",
    "version": 3
   },
   "file_extension": ".py",
   "mimetype": "text/x-python",
   "name": "python",
   "nbconvert_exporter": "python",
   "pygments_lexer": "ipython3",
   "version": "3.12.8"
  }
 },
 "nbformat": 4,
 "nbformat_minor": 5
}
