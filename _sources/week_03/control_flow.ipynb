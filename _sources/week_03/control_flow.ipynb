{
 "cells": [
  {
   "cell_type": "markdown",
   "id": "65486c00-e2ea-40a8-bb8c-5c5529fd98ef",
   "metadata": {},
   "source": [
    "# For loops"
   ]
  },
  {
   "cell_type": "markdown",
   "id": "02f3e5a6-5449-4e0e-a2a4-805a894c5a09",
   "metadata": {},
   "source": [
    "## Using for loops"
   ]
  },
  {
   "cell_type": "markdown",
   "id": "dc8191e9-a182-459d-8406-9321da3fa3d8",
   "metadata": {},
   "source": [
    "The main advantage of computer over human is that it can do repetitive tasks really well. So to realize the full power of python we need a way to ask a computer to repeat itself without repeating ourselves. The simplest way to achieve this is via a `for` loop."
   ]
  },
  {
   "cell_type": "markdown",
   "id": "3765ac73-dc7e-480c-91f7-3af8a3109bfc",
   "metadata": {},
   "source": [
    "Let's say we have a list `a_list = [1, 3, 7]`, and we want to print out the values of the list one by one. Our code may look like this:"
   ]
  },
  {
   "cell_type": "code",
   "execution_count": 2,
   "id": "751bd32d-1aa1-4862-83c4-56c87760adb4",
   "metadata": {},
   "outputs": [],
   "source": [
    "# define our list of values\n",
    "a_list = [1, 3, 7]"
   ]
  },
  {
   "cell_type": "code",
   "execution_count": 3,
   "id": "6927117f-f7b1-4a2b-a467-12254564d8b6",
   "metadata": {},
   "outputs": [
    {
     "name": "stdout",
     "output_type": "stream",
     "text": [
      "1\n",
      "3\n",
      "7\n"
     ]
    }
   ],
   "source": [
    "# print out values one by one\n",
    "print(a_list[0])\n",
    "print(a_list[1])\n",
    "print(a_list[2])"
   ]
  },
  {
   "cell_type": "markdown",
   "id": "e712ab0d-5b0d-42a4-b580-0de99cea65c0",
   "metadata": {},
   "source": [
    "Instead, we may ask python to \"go through\" the numbers in `a_list` one by one, and, **at each step**, print out the value of the current number. To put this idea into codes we need to use a `for` loop, like so:"
   ]
  },
  {
   "cell_type": "code",
   "execution_count": 4,
   "id": "fdda273a-1764-4562-a023-ea1aec9f7939",
   "metadata": {},
   "outputs": [
    {
     "name": "stdout",
     "output_type": "stream",
     "text": [
      "1\n",
      "3\n",
      "7\n"
     ]
    }
   ],
   "source": [
    "for val in a_list:\n",
    "    print(val)"
   ]
  },
  {
   "cell_type": "markdown",
   "id": "4281dd31-4d91-4057-84fe-2dc809cfbd71",
   "metadata": {},
   "source": [
    "Conceptually, what python does given the above code is the following:\n",
    "1. It starts with the first element of `a_list` and assign it to `val`\n",
    "2. It performs the action specified in the indented block, using the current value of `val`\n",
    "3. Once it finishes executing the indented block, it steps into the next element of `a_list` and assign it to `val`\n",
    "4. It then repeat step 2, i.e., perform the action specified in the indented block\n",
    "5. Steps 3 and 4 are then repeated until all values in `a_list` are exhausted."
   ]
  },
  {
   "cell_type": "markdown",
   "id": "96bf61a8-a934-455c-b257-fa857232f351",
   "metadata": {},
   "source": [
    "Notably:\n",
    "+ The colon `:` is part of the syntax. You must end the first line of the `for` loop with a colon.\n",
    "+ We specify a dummy variable `val` in the unindented line of the `for` loop, whose value changes every time we \"step forward\" in the loop\n",
    "+ The `print()` statement is indented. This is necessary so that python knows that the `print()` statement needs to be executed **every time** we make a step forward\n"
   ]
  },
  {
   "cell_type": "markdown",
   "id": "4f9ebb47-62ad-4218-b72c-c8f0abc8a258",
   "metadata": {},
   "source": [
    "As another example, let's say you want to add all the values in `a_list` together. To do so, we need to define a variable to hold the partial sum, and increment it every time we step through the loop. The resulting codes may look like this:"
   ]
  },
  {
   "cell_type": "code",
   "execution_count": 5,
   "id": "0856d746-c853-4c1a-92b7-7bcca27e5f4e",
   "metadata": {},
   "outputs": [
    {
     "name": "stdout",
     "output_type": "stream",
     "text": [
      "11\n"
     ]
    }
   ],
   "source": [
    "total = 0\n",
    "for val in a_list:\n",
    "    total = total + val\n",
    "\n",
    "print(total)"
   ]
  },
  {
   "cell_type": "markdown",
   "id": "50accced-473e-4aa2-87b7-622e71979711",
   "metadata": {},
   "source": [
    "(NOTE: python actually has a built-in function `sum()` for this. The above is for illustrative purpose only)"
   ]
  },
  {
   "cell_type": "markdown",
   "id": "c28a5e35-21af-4da0-bb0d-c7f9b4a2a8ff",
   "metadata": {},
   "source": [
    "Notice that:\n",
    "+ We need to initialize our `total` variable before stepping into the loop. The right value for our purpose is `total = 0`\n",
    "+ We again define a variable `val` to store the current member in the list that we are \"stepping through\"\n",
    "+ The line `total = total + val` is part of the loop. It says that at every step, we add the current value of `total` and the current value of `val` together, then reassign the result to `total`\n",
    "+ The line `print(total)` is **outside** of the loop. It is executed once after we finished looping through `a_list`"
   ]
  },
  {
   "cell_type": "markdown",
   "id": "c1cd575b-adca-481d-b4c7-0fef0aa8f93e",
   "metadata": {},
   "source": [
    "As a final example, let's say you want to create a new list called `sq_list`, such that every member is the square of the corresponding value in `a_list`. Here is a `for` loop that performs such a task:"
   ]
  },
  {
   "cell_type": "code",
   "execution_count": 6,
   "id": "b43514b6-3723-458f-a751-fb60e27ed012",
   "metadata": {},
   "outputs": [
    {
     "name": "stdout",
     "output_type": "stream",
     "text": [
      "[1, 9, 49]\n"
     ]
    }
   ],
   "source": [
    "sq_list = []\n",
    "for val in a_list:\n",
    "    sq_list.append(val**2)\n",
    "\n",
    "print(sq_list)"
   ]
  },
  {
   "cell_type": "markdown",
   "id": "2081abe1-d7c6-4a0c-bc81-53e901536276",
   "metadata": {},
   "source": [
    "I will let you figure out how to interpret the above codes yourself."
   ]
  },
  {
   "cell_type": "markdown",
   "id": "e2adeca6-5073-433e-b536-43b26658c5ec",
   "metadata": {},
   "source": [
    "## Enumerate as you loop"
   ]
  },
  {
   "cell_type": "markdown",
   "id": "9e2c6cd2-35ab-461e-b0dd-154d715b391c",
   "metadata": {},
   "source": [
    "Sometimes when you go through a list, you want to know the index of the current element in addition to its value. The `enumerate()` function can help you in such circumstance. An example:"
   ]
  },
  {
   "cell_type": "code",
   "execution_count": 14,
   "id": "8e7092b6-fe10-44ca-b703-d32b31c9b43f",
   "metadata": {},
   "outputs": [
    {
     "name": "stdout",
     "output_type": "stream",
     "text": [
      "At index 0 we get the value 1\n",
      "At index 1 we get the value 3\n",
      "At index 2 we get the value 7\n"
     ]
    }
   ],
   "source": [
    "for index, val in enumerate(a_list):\n",
    "    print(\"At index \" + str(index) + \" we get the value \" + str(val))"
   ]
  },
  {
   "cell_type": "markdown",
   "id": "4ecc48b8-3707-4a90-aa92-b9565d6b3d81",
   "metadata": {},
   "source": [
    "Note that we defined **two** dummy variables on the same starting line of the loop. The `index` variable corresponds to the index of the current element (a count that starts from 0 and increase by 1 every time you step through the loop), while the `val` variable corresponds to the value of the current element"
   ]
  },
  {
   "cell_type": "markdown",
   "id": "14a26a5e-6825-46be-9f21-6e0ce140d7ec",
   "metadata": {},
   "source": [
    "## Range objects"
   ]
  },
  {
   "cell_type": "markdown",
   "id": "ebfd47aa-8a3e-4d33-bf04-249d4426f026",
   "metadata": {},
   "source": [
    "We have learned how to step through a list using a `for` loop, but up to now we have to construct the list by hands, which somewhat defeat the purpose of a loop. A better way to generate a regular sequence to loop through is to use of the `range()` objects.\n",
    "\n",
    "The `range()` object can take between 1 to 3 arguments, each of which must be an integer. The meanings of the arguments are as follows:\n",
    "+ if `range()` is supplied with 1 argument, that argument is interpreted as the (exclusive) endpoint, and the sequence will start from 0 and increase by 1 until it hits the endpoint.\n",
    "+ if `range()` is supplied with 2 arguments, the first argument is interpreted as the (inclusive) starting point and the second argument is interpreted as the (exclusive) end point\n",
    "+ if `range()` is supplied with 3 arguments, then the first two arguments are interpreted as above, while the last argument is interpreted as the step between consecutive outputs.\n",
    "\n",
    "(Note that the arguments of `range()` resemble the syntax of the slicing object _start_:_stop_:_step_)\n",
    "\n",
    "Some examples:"
   ]
  },
  {
   "cell_type": "code",
   "execution_count": 8,
   "id": "8f1aaa49-85e7-46b8-9721-2b017b03f38b",
   "metadata": {},
   "outputs": [
    {
     "name": "stdout",
     "output_type": "stream",
     "text": [
      "0\n",
      "1\n",
      "2\n",
      "3\n",
      "4\n",
      "5\n"
     ]
    }
   ],
   "source": [
    "# start with 0, end with 6 (exclusive), incrementing in step of 1\n",
    "for x in range(6):\n",
    "    print(x)"
   ]
  },
  {
   "cell_type": "code",
   "execution_count": 9,
   "id": "293a9e34-e17f-4d84-a1df-b36dafa67d8d",
   "metadata": {},
   "outputs": [
    {
     "name": "stdout",
     "output_type": "stream",
     "text": [
      "1\n",
      "2\n",
      "3\n",
      "4\n",
      "5\n"
     ]
    }
   ],
   "source": [
    "# start with 1, end with 5:\n",
    "for x in range(1, 6):\n",
    "    print(x)"
   ]
  },
  {
   "cell_type": "code",
   "execution_count": 10,
   "id": "30d27208-de24-4ff7-b421-e58245749498",
   "metadata": {},
   "outputs": [
    {
     "name": "stdout",
     "output_type": "stream",
     "text": [
      "1\n",
      "3\n",
      "5\n"
     ]
    }
   ],
   "source": [
    "# start with 1, end with 5, increment in step of 2:\n",
    "for x in range(1, 6, 2):\n",
    "    print(x)"
   ]
  },
  {
   "cell_type": "markdown",
   "id": "30005889-c225-48f2-8dcd-a9a0c18f3c5f",
   "metadata": {},
   "source": [
    "It should be noted that a `range()` object has a different internal representation than a `list()` object. If you really want to convert a range object into a list, you'll need to wrap it around a `list()` call. For example:"
   ]
  },
  {
   "cell_type": "code",
   "execution_count": 11,
   "id": "39a32315-611b-4d72-ac43-c685e8f598e3",
   "metadata": {},
   "outputs": [
    {
     "name": "stdout",
     "output_type": "stream",
     "text": [
      "range(1, 6, 2)\n"
     ]
    }
   ],
   "source": [
    "# the range object has a different internal representation and does not print out its value\n",
    "print(range(1, 6, 2))"
   ]
  },
  {
   "cell_type": "code",
   "execution_count": 12,
   "id": "e8b980e1-f60f-4c9f-8165-8bb36cade138",
   "metadata": {},
   "outputs": [],
   "source": [
    "# define a list by converting from a range object\n",
    "a_list = list(range(1, 6, 2))"
   ]
  },
  {
   "cell_type": "code",
   "execution_count": 13,
   "id": "0ef7a6f8-5e9b-4f4b-bb56-824e8113e608",
   "metadata": {},
   "outputs": [
    {
     "name": "stdout",
     "output_type": "stream",
     "text": [
      "[1, 3, 5]\n"
     ]
    }
   ],
   "source": [
    "# The results behave like the list we know, e.g.,\n",
    "print(a_list)"
   ]
  },
  {
   "cell_type": "code",
   "execution_count": null,
   "id": "8524d092-8bf1-4ff2-a0b1-114e68c1d8aa",
   "metadata": {},
   "outputs": [],
   "source": []
  }
 ],
 "metadata": {
  "kernelspec": {
   "display_name": "Python 3 (ipykernel)",
   "language": "python",
   "name": "python3"
  },
  "language_info": {
   "codemirror_mode": {
    "name": "ipython",
    "version": 3
   },
   "file_extension": ".py",
   "mimetype": "text/x-python",
   "name": "python",
   "nbconvert_exporter": "python",
   "pygments_lexer": "ipython3",
   "version": "3.12.8"
  }
 },
 "nbformat": 4,
 "nbformat_minor": 5
}
