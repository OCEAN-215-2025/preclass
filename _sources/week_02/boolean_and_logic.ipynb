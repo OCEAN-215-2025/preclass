{
 "cells": [
  {
   "cell_type": "markdown",
   "id": "80efd5c4-f487-4317-9279-0428e21a9b3b",
   "metadata": {},
   "source": [
    "# Boolean and None types; Logical expressions"
   ]
  },
  {
   "cell_type": "markdown",
   "id": "e0820d11-9e86-4608-9a82-f5dab96e3f68",
   "metadata": {},
   "source": [
    "## Boolean and None types"
   ]
  },
  {
   "cell_type": "markdown",
   "id": "2c4fdb77-04ef-4d6e-97d2-52b695a7e4d5",
   "metadata": {},
   "source": [
    "So far we have seen `str`, `int`, and `float` types in python. There are two more \"simple\" types, namely the `bool` type and the `None` type."
   ]
  },
  {
   "cell_type": "markdown",
   "id": "31cdbf77-32a1-4787-906a-20d7ca71619f",
   "metadata": {},
   "source": [
    "The boolean (`bool`) type consists of two symbols: `True` and `False`:"
   ]
  },
  {
   "cell_type": "code",
   "execution_count": 1,
   "id": "8bcaff03-93ff-4a2d-b11f-9c61c833933d",
   "metadata": {},
   "outputs": [
    {
     "data": {
      "text/plain": [
       "True"
      ]
     },
     "execution_count": 1,
     "metadata": {},
     "output_type": "execute_result"
    }
   ],
   "source": [
    "True"
   ]
  },
  {
   "cell_type": "code",
   "execution_count": 2,
   "id": "f3c0d2d4-c1ae-44c5-90c1-bb75333d4d25",
   "metadata": {},
   "outputs": [
    {
     "data": {
      "text/plain": [
       "False"
      ]
     },
     "execution_count": 2,
     "metadata": {},
     "output_type": "execute_result"
    }
   ],
   "source": [
    "False"
   ]
  },
  {
   "cell_type": "markdown",
   "id": "58fb43ae-607f-4773-8da4-e7dffb0d348d",
   "metadata": {},
   "source": [
    "While the `None` type consists of a single speical symbol `None`, which is sometimes used in data science to represent missing values (note that jupyter notebook do not print out `None`'s):"
   ]
  },
  {
   "cell_type": "code",
   "execution_count": 3,
   "id": "3c451c15-e7d0-4cdf-add7-97bb214581c2",
   "metadata": {},
   "outputs": [],
   "source": [
    "None"
   ]
  },
  {
   "cell_type": "markdown",
   "id": "1725374f-d9eb-496e-b3a7-f69180dbb873",
   "metadata": {},
   "source": [
    "## Simple logical expression"
   ]
  },
  {
   "cell_type": "markdown",
   "id": "506fd8ba-c9c9-437d-98d8-17ed8ecc8799",
   "metadata": {},
   "source": [
    "The most common way to produce a `bool` type is via logical (or boolean) expressions. For example, let's say you want to check whether a variable named `x` is equal to zero, you do:"
   ]
  },
  {
   "cell_type": "code",
   "execution_count": 5,
   "id": "bd57507b-91ff-48b9-8f8a-883da9062753",
   "metadata": {},
   "outputs": [
    {
     "data": {
      "text/plain": [
       "False"
      ]
     },
     "execution_count": 5,
     "metadata": {},
     "output_type": "execute_result"
    }
   ],
   "source": [
    "# assign the value of x to 2\n",
    "x = 2\n",
    "\n",
    "# CHECK if x is EQUAL TO zero\n",
    "x == 0"
   ]
  },
  {
   "cell_type": "markdown",
   "id": "85f3d97a-7b12-40ee-ba0e-b1d433de3586",
   "metadata": {},
   "source": [
    "(Note that we have **two** equal sign juxtapose with each other to represent the concept of \"equal to\") "
   ]
  },
  {
   "cell_type": "markdown",
   "id": "9b8b895c-2c53-482a-896b-c340232b0f2d",
   "metadata": {},
   "source": [
    "For numerical values, we have the following comparison operators:\n",
    "\n",
    "+ `==` for equality\n",
    "+ `!=` for _in_equality\n",
    "+ `>` for bigger than\n",
    "+ `<` for less than\n",
    "+ `>=` for bigger than or equal to\n",
    "+ `<=` for less than or equal to"
   ]
  },
  {
   "cell_type": "markdown",
   "id": "0aef54e1-bc08-40a5-8c3b-45f92efd3428",
   "metadata": {},
   "source": [
    "For example:"
   ]
  },
  {
   "cell_type": "code",
   "execution_count": 6,
   "id": "f042efa6-049f-4ff9-84e6-191339253374",
   "metadata": {},
   "outputs": [],
   "source": [
    "# assign the values of x, y, and z\n",
    "x = 2\n",
    "y = 2\n",
    "z = 3"
   ]
  },
  {
   "cell_type": "code",
   "execution_count": 7,
   "id": "c80e0b57-e0d7-4009-be96-03409fe6a6f0",
   "metadata": {},
   "outputs": [
    {
     "data": {
      "text/plain": [
       "False"
      ]
     },
     "execution_count": 7,
     "metadata": {},
     "output_type": "execute_result"
    }
   ],
   "source": [
    "x > y"
   ]
  },
  {
   "cell_type": "code",
   "execution_count": 8,
   "id": "669a404f-63dc-43d4-af9c-bd6e20b5fd4e",
   "metadata": {},
   "outputs": [
    {
     "data": {
      "text/plain": [
       "True"
      ]
     },
     "execution_count": 8,
     "metadata": {},
     "output_type": "execute_result"
    }
   ],
   "source": [
    "x >= y"
   ]
  },
  {
   "cell_type": "code",
   "execution_count": 9,
   "id": "159ced4f-be8c-421a-ab7c-123da1ed65aa",
   "metadata": {},
   "outputs": [
    {
     "data": {
      "text/plain": [
       "True"
      ]
     },
     "execution_count": 9,
     "metadata": {},
     "output_type": "execute_result"
    }
   ],
   "source": [
    "x != z"
   ]
  },
  {
   "cell_type": "markdown",
   "id": "cd80cbe5-b78d-4a56-82f8-455c5a725f0e",
   "metadata": {},
   "source": [
    "For strings, we can do `==` and `!=` comparisons just like numerical values. In addition, a useful comparison operator is `in`, where `x in y` checks whether the string `y` contains `x` as a ***sub*string**"
   ]
  },
  {
   "cell_type": "code",
   "execution_count": 11,
   "id": "e0a61d81-d204-4fdd-9fde-7ff2ec623665",
   "metadata": {},
   "outputs": [],
   "source": [
    "# define two string variables\n",
    "word = \"apple\"\n",
    "sentence = \"this is an apple\""
   ]
  },
  {
   "cell_type": "code",
   "execution_count": 12,
   "id": "e9bcf366-7238-49f8-80c5-84883f6e5013",
   "metadata": {},
   "outputs": [
    {
     "data": {
      "text/plain": [
       "False"
      ]
     },
     "execution_count": 12,
     "metadata": {},
     "output_type": "execute_result"
    }
   ],
   "source": [
    "# the two strings are not eqaul\n",
    "word == sentence"
   ]
  },
  {
   "cell_type": "code",
   "execution_count": 13,
   "id": "c52136af-b153-453e-83bc-a3ffdd984ba6",
   "metadata": {},
   "outputs": [
    {
     "data": {
      "text/plain": [
       "True"
      ]
     },
     "execution_count": 13,
     "metadata": {},
     "output_type": "execute_result"
    }
   ],
   "source": [
    "# But the sentence contains the word\n",
    "word in sentence"
   ]
  },
  {
   "cell_type": "code",
   "execution_count": 15,
   "id": "495b0cda-2692-4aef-9969-7af9704db417",
   "metadata": {},
   "outputs": [
    {
     "data": {
      "text/plain": [
       "False"
      ]
     },
     "execution_count": 15,
     "metadata": {},
     "output_type": "execute_result"
    }
   ],
   "source": [
    "# The negation of `in` is `not in`\n",
    "word not in sentence"
   ]
  },
  {
   "cell_type": "markdown",
   "id": "68ea4208-b2a4-4e76-9bb6-6063df67bd7f",
   "metadata": {},
   "source": [
    "## Compound logical statements"
   ]
  },
  {
   "cell_type": "markdown",
   "id": "a63e832a-a9b6-4a23-a1aa-e41a19760fe4",
   "metadata": {},
   "source": [
    "We can join more than one boolean expression together using the logical operators `and`, `or`, and `not`. For example, let's suppose we want to check if $1 < x < 3$:"
   ]
  },
  {
   "cell_type": "code",
   "execution_count": 18,
   "id": "61d85093-0dad-4151-a05f-d7ae852abe57",
   "metadata": {},
   "outputs": [],
   "source": [
    "# define a value for x\n",
    "x = 2"
   ]
  },
  {
   "cell_type": "code",
   "execution_count": 19,
   "id": "fa42ba62-0c3e-4011-b18d-3e78856d1a51",
   "metadata": {},
   "outputs": [
    {
     "data": {
      "text/plain": [
       "True"
      ]
     },
     "execution_count": 19,
     "metadata": {},
     "output_type": "execute_result"
    }
   ],
   "source": [
    "# check the pair of inequality using `and`\n",
    "1 < x and x < 3"
   ]
  },
  {
   "cell_type": "markdown",
   "id": "959ede5c-3c26-49d3-ae9e-cf4fb2204965",
   "metadata": {},
   "source": [
    "Note that `or` means \"non-exclusive or\" here. Example:"
   ]
  },
  {
   "cell_type": "code",
   "execution_count": 20,
   "id": "48df6528-a32a-41b2-a37a-4db301c0a112",
   "metadata": {},
   "outputs": [
    {
     "data": {
      "text/plain": [
       "True"
      ]
     },
     "execution_count": 20,
     "metadata": {},
     "output_type": "execute_result"
    }
   ],
   "source": [
    "1 < x or x < 3"
   ]
  },
  {
   "cell_type": "code",
   "execution_count": 22,
   "id": "990e6e63-f1fd-4213-87b8-6512d1668c53",
   "metadata": {},
   "outputs": [
    {
     "data": {
      "text/plain": [
       "True"
      ]
     },
     "execution_count": 22,
     "metadata": {},
     "output_type": "execute_result"
    }
   ],
   "source": [
    "x >= 5 or x <=2"
   ]
  },
  {
   "cell_type": "markdown",
   "id": "25b51848-d246-46dc-9d02-26054729c400",
   "metadata": {},
   "source": [
    "For an example of `not`, consider De Morgan's Laws:"
   ]
  },
  {
   "cell_type": "code",
   "execution_count": 23,
   "id": "b56ae342-df93-41a2-8425-3aad925b5bc5",
   "metadata": {},
   "outputs": [],
   "source": [
    "# assign the values of x, y, and z\n",
    "x = 2\n",
    "y = 2\n",
    "z = 3"
   ]
  },
  {
   "cell_type": "code",
   "execution_count": 25,
   "id": "b32e71d7-e9ca-46ed-8500-817637e0ad63",
   "metadata": {},
   "outputs": [
    {
     "data": {
      "text/plain": [
       "True"
      ]
     },
     "execution_count": 25,
     "metadata": {},
     "output_type": "execute_result"
    }
   ],
   "source": [
    "# \"or\" of two negations\n",
    "x != y or x != z"
   ]
  },
  {
   "cell_type": "code",
   "execution_count": 26,
   "id": "717d1b1a-0c08-41c0-becd-5fb4122e2250",
   "metadata": {},
   "outputs": [
    {
     "data": {
      "text/plain": [
       "True"
      ]
     },
     "execution_count": 26,
     "metadata": {},
     "output_type": "execute_result"
    }
   ],
   "source": [
    "# negation of \"and\". Should be equivalent to above\n",
    "not (x == y and x == z)"
   ]
  },
  {
   "cell_type": "markdown",
   "id": "a85ce497-af19-4197-a05b-becbf359f8c0",
   "metadata": {},
   "source": [
    "## Checking if a value is None"
   ]
  },
  {
   "cell_type": "markdown",
   "id": "6bb79569-2690-4730-9b88-f105aa6f3b9d",
   "metadata": {},
   "source": [
    "There is a special rule for checking if a value is `None`. Instead of `x == None`, you should use `x is None`:"
   ]
  },
  {
   "cell_type": "code",
   "execution_count": 2,
   "id": "42f14f6a-a282-407a-81a1-40e6befa0b68",
   "metadata": {},
   "outputs": [],
   "source": [
    "x = 5"
   ]
  },
  {
   "cell_type": "code",
   "execution_count": 3,
   "id": "2b1c6b16-5996-442a-8f57-e83649cfac10",
   "metadata": {},
   "outputs": [
    {
     "data": {
      "text/plain": [
       "False"
      ]
     },
     "execution_count": 3,
     "metadata": {},
     "output_type": "execute_result"
    }
   ],
   "source": [
    "x is None"
   ]
  },
  {
   "cell_type": "markdown",
   "id": "c3f04d11-bbd6-4d95-b93c-0635dc551776",
   "metadata": {},
   "source": [
    "The negation of `is` is `is not`:"
   ]
  },
  {
   "cell_type": "code",
   "execution_count": 4,
   "id": "d3f06469-6459-470b-b84e-3c78c15861a7",
   "metadata": {},
   "outputs": [
    {
     "data": {
      "text/plain": [
       "True"
      ]
     },
     "execution_count": 4,
     "metadata": {},
     "output_type": "execute_result"
    }
   ],
   "source": [
    "x is not None"
   ]
  },
  {
   "cell_type": "code",
   "execution_count": null,
   "id": "5fafcef4-41ea-4710-bac8-36ab77d99638",
   "metadata": {},
   "outputs": [],
   "source": []
  }
 ],
 "metadata": {
  "kernelspec": {
   "display_name": "Python 3 (ipykernel)",
   "language": "python",
   "name": "python3"
  },
  "language_info": {
   "codemirror_mode": {
    "name": "ipython",
    "version": 3
   },
   "file_extension": ".py",
   "mimetype": "text/x-python",
   "name": "python",
   "nbconvert_exporter": "python",
   "pygments_lexer": "ipython3",
   "version": "3.12.10"
  }
 },
 "nbformat": 4,
 "nbformat_minor": 5
}
