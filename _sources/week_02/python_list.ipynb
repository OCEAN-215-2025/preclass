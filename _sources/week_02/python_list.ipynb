{
 "cells": [
  {
   "cell_type": "markdown",
   "id": "7670740e-672f-4125-ae44-f8737bf06496",
   "metadata": {},
   "source": [
    "# Collection type: python list"
   ]
  },
  {
   "cell_type": "markdown",
   "id": "3dbb1d56-2712-4198-8eed-fad57b3cb046",
   "metadata": {},
   "source": [
    "## Creating a python list"
   ]
  },
  {
   "cell_type": "markdown",
   "id": "0010d204-1abc-4e68-8c82-ed56b70dd3f7",
   "metadata": {},
   "source": [
    "A literal python list is created by surrounding a collection of comma (`,`) separated items with square brackets `[]`. An example:"
   ]
  },
  {
   "cell_type": "code",
   "execution_count": 1,
   "id": "3e02c5a3-2f45-4c81-a875-234a90c19f2e",
   "metadata": {},
   "outputs": [
    {
     "data": {
      "text/plain": [
       "[1, 2, 3]"
      ]
     },
     "execution_count": 1,
     "metadata": {},
     "output_type": "execute_result"
    }
   ],
   "source": [
    "[1, 2, 3]"
   ]
  },
  {
   "cell_type": "markdown",
   "id": "3046141e-a54a-46e1-a237-e704eafc945f",
   "metadata": {},
   "source": [
    "A python list can be **heterogeneous**. In other words, it can contain values of different types:"
   ]
  },
  {
   "cell_type": "code",
   "execution_count": 2,
   "id": "e14d06b5-a5fe-45d1-9aa1-ad782ac09f37",
   "metadata": {},
   "outputs": [
    {
     "data": {
      "text/plain": [
       "[1, 1.5, 'word']"
      ]
     },
     "execution_count": 2,
     "metadata": {},
     "output_type": "execute_result"
    }
   ],
   "source": [
    "[1, 1.5, \"word\"]"
   ]
  },
  {
   "cell_type": "markdown",
   "id": "e794d55c-6d7d-4f8a-90de-cbee0d970440",
   "metadata": {},
   "source": [
    "As usual, you can assign a list to a variable, and the list defined on the RHS can contain variables, which will be evaluated when the list is created:"
   ]
  },
  {
   "cell_type": "code",
   "execution_count": 3,
   "id": "f37aeae8-8076-4b9a-877d-aff69800aa51",
   "metadata": {},
   "outputs": [
    {
     "name": "stdout",
     "output_type": "stream",
     "text": [
      "[7.5, 10.5]\n"
     ]
    }
   ],
   "source": [
    "x = 7.5\n",
    "a_list = [x, x + 3]\n",
    "print(a_list)"
   ]
  },
  {
   "cell_type": "markdown",
   "id": "b34241bb-ebf3-4801-93df-f6b26526fc5c",
   "metadata": {},
   "source": [
    "## Extracting elements"
   ]
  },
  {
   "cell_type": "markdown",
   "id": "872473c8-7376-49cf-8001-3bbbb44c92a4",
   "metadata": {},
   "source": [
    "To extract a single element from a python list, use the square bracket `[]` with an integer indicating the **index** of the element. In python, the index **starts with 0** from the left and increment as you goes to the right. Example:"
   ]
  },
  {
   "cell_type": "code",
   "execution_count": 4,
   "id": "f893ef67-fd29-4b5a-9197-a8d170e7649c",
   "metadata": {},
   "outputs": [],
   "source": [
    "x = [1, 7, 5, 4, 2, 9]"
   ]
  },
  {
   "cell_type": "code",
   "execution_count": 5,
   "id": "fdeb4f4e-f19c-4385-8497-1e6d7205efb2",
   "metadata": {},
   "outputs": [
    {
     "data": {
      "text/plain": [
       "1"
      ]
     },
     "execution_count": 5,
     "metadata": {},
     "output_type": "execute_result"
    }
   ],
   "source": [
    "# Extract the first element (index = 0)\n",
    "x[0]"
   ]
  },
  {
   "cell_type": "code",
   "execution_count": 6,
   "id": "c60ac31e-566a-4a18-bd9d-e17a7a7293b3",
   "metadata": {},
   "outputs": [
    {
     "data": {
      "text/plain": [
       "2"
      ]
     },
     "execution_count": 6,
     "metadata": {},
     "output_type": "execute_result"
    }
   ],
   "source": [
    "# Extract the fifth element (index = 4)\n",
    "x[4]"
   ]
  },
  {
   "cell_type": "markdown",
   "id": "e9dd6f6f-f161-4485-9804-2607ccfeb6f4",
   "metadata": {},
   "source": [
    "You can also extract element using negative index, which counts from the right starting -1:"
   ]
  },
  {
   "cell_type": "code",
   "execution_count": 7,
   "id": "64a9e344-4e9b-4bb5-9e73-d8ff2500bdf5",
   "metadata": {},
   "outputs": [
    {
     "data": {
      "text/plain": [
       "9"
      ]
     },
     "execution_count": 7,
     "metadata": {},
     "output_type": "execute_result"
    }
   ],
   "source": [
    "# Extract the last element\n",
    "x[-1]"
   ]
  },
  {
   "cell_type": "code",
   "execution_count": 8,
   "id": "8699fbd0-b6c7-4260-a051-9ccb5699bfe8",
   "metadata": {},
   "outputs": [
    {
     "data": {
      "text/plain": [
       "4"
      ]
     },
     "execution_count": 8,
     "metadata": {},
     "output_type": "execute_result"
    }
   ],
   "source": [
    "# Extract the third element, counting from the right\n",
    "x[-3]"
   ]
  },
  {
   "cell_type": "markdown",
   "id": "d8174ee1-33cc-4042-9b5c-7df7882d4ab1",
   "metadata": {},
   "source": [
    "## Subsetting via slices"
   ]
  },
  {
   "cell_type": "markdown",
   "id": "2d2a7d6a-0be4-4bb2-b258-e5669b35bb85",
   "metadata": {},
   "source": [
    "To subset a list (which produces another list), use the slice object of the form _start_:_stop_ or _start_:_stop_:_step_. Notice that in python the selection is **right endpoint exclusive**:"
   ]
  },
  {
   "cell_type": "code",
   "execution_count": 9,
   "id": "ffadce72-72c5-4deb-a492-5c1705afbefa",
   "metadata": {},
   "outputs": [],
   "source": [
    "x = [1, 7, 5, 4, 2, 9]"
   ]
  },
  {
   "cell_type": "code",
   "execution_count": 10,
   "id": "4f86b7ad-a4e4-4b87-a80a-83c408f1fae4",
   "metadata": {},
   "outputs": [
    {
     "data": {
      "text/plain": [
       "[1, 7]"
      ]
     },
     "execution_count": 10,
     "metadata": {},
     "output_type": "execute_result"
    }
   ],
   "source": [
    "# extract elements at indices 0 through 1\n",
    "x[0:2]"
   ]
  },
  {
   "cell_type": "code",
   "execution_count": 11,
   "id": "6681e89e-5af0-44f2-a703-c1377b9155fa",
   "metadata": {},
   "outputs": [
    {
     "data": {
      "text/plain": [
       "[4, 2]"
      ]
     },
     "execution_count": 11,
     "metadata": {},
     "output_type": "execute_result"
    }
   ],
   "source": [
    "# extract elements from index -3 through index -2\n",
    "x[-3:-1]"
   ]
  },
  {
   "cell_type": "markdown",
   "id": "5ceb8782-3e2f-42af-99e0-07a49d69030b",
   "metadata": {},
   "source": [
    "Note that the length of a python list is conveniently given by the `len()`:"
   ]
  },
  {
   "cell_type": "code",
   "execution_count": 12,
   "id": "4a0c2c5b-979c-449a-a13d-65c38bf0c2a3",
   "metadata": {},
   "outputs": [
    {
     "data": {
      "text/plain": [
       "6"
      ]
     },
     "execution_count": 12,
     "metadata": {},
     "output_type": "execute_result"
    }
   ],
   "source": [
    "len(x)"
   ]
  },
  {
   "cell_type": "markdown",
   "id": "44538ba9-6f0f-4bdc-b748-228143a1b1b4",
   "metadata": {},
   "source": [
    "And so, to extract the last three elements (including the last one):"
   ]
  },
  {
   "cell_type": "code",
   "execution_count": 13,
   "id": "9f5933c1-65fb-48fd-96e8-3a4fcbb9af7e",
   "metadata": {},
   "outputs": [
    {
     "data": {
      "text/plain": [
       "[4, 2, 9]"
      ]
     },
     "execution_count": 13,
     "metadata": {},
     "output_type": "execute_result"
    }
   ],
   "source": [
    "x[-3:len(x)]"
   ]
  },
  {
   "cell_type": "markdown",
   "id": "e7411308-4265-4529-9356-94427950d2f0",
   "metadata": {},
   "source": [
    "So far we've only used the _start_:_stop_ version of the slicing object. Here is an example of the _start_:_stop_:_step_ version, where we skip a number every time we make a step:"
   ]
  },
  {
   "cell_type": "code",
   "execution_count": 14,
   "id": "839c4af4-3cb9-4e8c-a557-0a50684d448f",
   "metadata": {},
   "outputs": [
    {
     "data": {
      "text/plain": [
       "[1, 5, 2]"
      ]
     },
     "execution_count": 14,
     "metadata": {},
     "output_type": "execute_result"
    }
   ],
   "source": [
    "x[0:len(x):2]"
   ]
  },
  {
   "cell_type": "markdown",
   "id": "38a4fd2e-e05c-4429-a27c-59ef5778fa48",
   "metadata": {},
   "source": [
    "Finally, we can omit a starting index of if we want to start from the first element, and we can omit the ending index if we want stop at the last element. So the above line is equivalent to:"
   ]
  },
  {
   "cell_type": "code",
   "execution_count": 15,
   "id": "fdd98513-05c9-4427-9b49-c808c47c0e45",
   "metadata": {},
   "outputs": [
    {
     "data": {
      "text/plain": [
       "[1, 5, 2]"
      ]
     },
     "execution_count": 15,
     "metadata": {},
     "output_type": "execute_result"
    }
   ],
   "source": [
    "x[::2]"
   ]
  },
  {
   "cell_type": "markdown",
   "id": "afeb3e93-9732-487e-834a-1255094414dd",
   "metadata": {},
   "source": [
    "Notably, the step value can be negative to subset from right to left (in such case, an omitted starting index indicates that we want to start at the last element while an omitted ending index indicates we want to stop at the first element). This provides a quick way to reverse a list:"
   ]
  },
  {
   "cell_type": "code",
   "execution_count": 16,
   "id": "bf0823b5-d4fe-4f64-b46c-1030f1b5b7aa",
   "metadata": {},
   "outputs": [
    {
     "data": {
      "text/plain": [
       "[9, 2, 4, 5, 7, 1]"
      ]
     },
     "execution_count": 16,
     "metadata": {},
     "output_type": "execute_result"
    }
   ],
   "source": [
    "x[::-1]"
   ]
  },
  {
   "cell_type": "markdown",
   "id": "6d8798b6-198f-4748-afaf-a23469f73118",
   "metadata": {},
   "source": [
    "## Assigning values through indexing and slicing"
   ]
  },
  {
   "cell_type": "markdown",
   "id": "2d851b8a-2868-4444-9fae-54bb6337bada",
   "metadata": {},
   "source": [
    "The indexing notation can also be used to assign value to a particular slot of the list. For example, let's say we define `x` as before:"
   ]
  },
  {
   "cell_type": "code",
   "execution_count": 17,
   "id": "01065806-7f71-47e7-bf75-b934d32c52ff",
   "metadata": {},
   "outputs": [],
   "source": [
    "x = [1, 7, 5, 4, 2, 9]"
   ]
  },
  {
   "cell_type": "markdown",
   "id": "60c2a67e-3a2c-4839-b52c-55955fc662f7",
   "metadata": {},
   "source": [
    "And suppose we want to reassign the value of the third element (index = 2) to -1. What we have to do is:"
   ]
  },
  {
   "cell_type": "code",
   "execution_count": 18,
   "id": "af8ad2b4-396c-4ab2-b1a1-b182cfb20544",
   "metadata": {},
   "outputs": [
    {
     "name": "stdout",
     "output_type": "stream",
     "text": [
      "[1, 7, -1, 4, 2, 9]\n"
     ]
    }
   ],
   "source": [
    "# reassign value to the third element of x\n",
    "x[2] = -1\n",
    "\n",
    "# print out the results\n",
    "print(x)"
   ]
  },
  {
   "cell_type": "markdown",
   "id": "857370eb-f802-4551-9a11-7ecdbcedfc7b",
   "metadata": {},
   "source": [
    "Slicing can also be used for assignment. For example, let's say we want to modify the values at index 3 (4th element) and 5 (last element). We may do:"
   ]
  },
  {
   "cell_type": "code",
   "execution_count": 19,
   "id": "aa60bab5-eff2-4ff2-bab5-98366eb1567a",
   "metadata": {},
   "outputs": [
    {
     "name": "stdout",
     "output_type": "stream",
     "text": [
      "[1, 7, -1, 8, 2, -5]\n"
     ]
    }
   ],
   "source": [
    "x[3::2] = [8, -5]\n",
    "print(x)"
   ]
  },
  {
   "cell_type": "markdown",
   "id": "37fe2090-f99d-4838-88c5-679cfe2576b0",
   "metadata": {},
   "source": [
    "## Appending to a python list"
   ]
  },
  {
   "cell_type": "markdown",
   "id": "0fb27d57-6ac0-413d-946a-617edbd0ce95",
   "metadata": {},
   "source": [
    "To append an element to the end of a python list, use the `.append()` method. Notice that this method modifies the list object itself:"
   ]
  },
  {
   "cell_type": "code",
   "execution_count": 20,
   "id": "b222082e-0399-4d66-b967-549d339fa5df",
   "metadata": {},
   "outputs": [
    {
     "name": "stdout",
     "output_type": "stream",
     "text": [
      "[1, 3, 4, 5]\n"
     ]
    }
   ],
   "source": [
    "x = [1, 3, 4]\n",
    "\n",
    "x.append(5)\n",
    "\n",
    "print(x)"
   ]
  },
  {
   "cell_type": "markdown",
   "id": "d96fd220-28ed-485e-95c3-2021667c61d1",
   "metadata": {},
   "source": [
    "To append multiple elements to the end of a python list, put them into a list and use the `.extend()` method. Again the list itself is being modified:"
   ]
  },
  {
   "cell_type": "code",
   "execution_count": 21,
   "id": "a8d7f3f8-c990-449b-af9e-3815d3e2006d",
   "metadata": {},
   "outputs": [
    {
     "name": "stdout",
     "output_type": "stream",
     "text": [
      "[1, 3, 4, 9, 11]\n"
     ]
    }
   ],
   "source": [
    "x = [1, 3, 4]\n",
    "\n",
    "x.extend([9, 11])\n",
    "\n",
    "print(x)"
   ]
  },
  {
   "cell_type": "markdown",
   "id": "ecc2c379-cb2f-42b4-942a-fb7cb96cf46a",
   "metadata": {},
   "source": [
    "## Finding the index of an element"
   ]
  },
  {
   "cell_type": "markdown",
   "id": "bc43c8d7-e030-4a86-a0f7-3e95f2ab8c84",
   "metadata": {},
   "source": [
    "If you want to find the index of an element, you can use the `.index()` method. For example, with the same python list `x`:"
   ]
  },
  {
   "cell_type": "code",
   "execution_count": 22,
   "id": "30069e41-72c7-4da7-84dc-dfb33e69ea84",
   "metadata": {},
   "outputs": [],
   "source": [
    "x = [1, 7, 5, 4, 2, 9]"
   ]
  },
  {
   "cell_type": "markdown",
   "id": "35120423-626b-450f-b085-45ed721904ae",
   "metadata": {},
   "source": [
    "We can find out where the value 2 occurs with:"
   ]
  },
  {
   "cell_type": "code",
   "execution_count": 23,
   "id": "49f181b1-4076-4949-ae07-1f2b59ed47ec",
   "metadata": {},
   "outputs": [
    {
     "data": {
      "text/plain": [
       "4"
      ]
     },
     "execution_count": 23,
     "metadata": {},
     "output_type": "execute_result"
    }
   ],
   "source": [
    "x.index(2)"
   ]
  },
  {
   "cell_type": "markdown",
   "id": "2fe2ad18-4484-41e9-9e50-c40d0b847138",
   "metadata": {},
   "source": [
    "Note that if the value does not exists, the `.index()` method will raise an error."
   ]
  },
  {
   "cell_type": "code",
   "execution_count": 24,
   "id": "523f738b-f987-4897-b8ed-4a0dc9c69039",
   "metadata": {
    "editable": true,
    "slideshow": {
     "slide_type": ""
    },
    "tags": [
     "raises-exception"
    ]
   },
   "outputs": [
    {
     "ename": "ValueError",
     "evalue": "-1 is not in list",
     "output_type": "error",
     "traceback": [
      "\u001b[31m---------------------------------------------------------------------------\u001b[39m",
      "\u001b[31mValueError\u001b[39m                                Traceback (most recent call last)",
      "\u001b[36mCell\u001b[39m\u001b[36m \u001b[39m\u001b[32mIn[24]\u001b[39m\u001b[32m, line 1\u001b[39m\n\u001b[32m----> \u001b[39m\u001b[32m1\u001b[39m \u001b[43mx\u001b[49m\u001b[43m.\u001b[49m\u001b[43mindex\u001b[49m\u001b[43m(\u001b[49m\u001b[43m-\u001b[49m\u001b[32;43m1\u001b[39;49m\u001b[43m)\u001b[49m\n",
      "\u001b[31mValueError\u001b[39m: -1 is not in list"
     ]
    }
   ],
   "source": [
    "x.index(-1)"
   ]
  },
  {
   "cell_type": "markdown",
   "id": "067f5b56-a36b-4101-a3b0-4f258c10989b",
   "metadata": {},
   "source": [
    "## Note: functions versus methods"
   ]
  },
  {
   "cell_type": "markdown",
   "id": "bc44d272-f2c8-4b91-8167-4fe0f20f975e",
   "metadata": {},
   "source": [
    "A **function** is invoked by its name, followed by the parentheses within which the **arguments** to the function is supplied. The `abs()` function is an example:"
   ]
  },
  {
   "cell_type": "code",
   "execution_count": 25,
   "id": "4a9b8fad-2b5f-4c9c-8fcc-bf78a33a874e",
   "metadata": {},
   "outputs": [
    {
     "data": {
      "text/plain": [
       "5"
      ]
     },
     "execution_count": 25,
     "metadata": {},
     "output_type": "execute_result"
    }
   ],
   "source": [
    "abs(-5)"
   ]
  },
  {
   "cell_type": "markdown",
   "id": "9b277e51-f60f-42a0-84ce-a680f840e4cd",
   "metadata": {},
   "source": [
    "In contrast, a **method** is invoked from an object using a `.`, followed by the method name. In general, a method has access to the data in the calling object. An example is the `.append()` method, which **returns** nothing but modify the calling object in-place:"
   ]
  },
  {
   "cell_type": "code",
   "execution_count": 26,
   "id": "6677b669-0d8a-4b94-b363-390d69fa93cf",
   "metadata": {},
   "outputs": [],
   "source": [
    "x = [1, 3, 4]\n",
    "x.append(5)"
   ]
  },
  {
   "cell_type": "code",
   "execution_count": 27,
   "id": "99ed14e1-0faf-4d25-8d11-e4ea9ca9c5c9",
   "metadata": {},
   "outputs": [
    {
     "data": {
      "text/plain": [
       "[1, 3, 4, 5]"
      ]
     },
     "execution_count": 27,
     "metadata": {},
     "output_type": "execute_result"
    }
   ],
   "source": [
    "x"
   ]
  },
  {
   "cell_type": "markdown",
   "id": "05a0815e-56a8-41ea-8c96-a9a98f383ccb",
   "metadata": {},
   "source": [
    "There are, however, methods that return values. An example is the `.index()` method of list, which returns the index for which a value is found:"
   ]
  },
  {
   "cell_type": "code",
   "execution_count": 28,
   "id": "58d1949e-cae8-4d4d-b230-437ff397adee",
   "metadata": {},
   "outputs": [
    {
     "data": {
      "text/plain": [
       "1"
      ]
     },
     "execution_count": 28,
     "metadata": {},
     "output_type": "execute_result"
    }
   ],
   "source": [
    "x = [1, 3, 4]\n",
    "x.index(3)"
   ]
  },
  {
   "cell_type": "code",
   "execution_count": null,
   "id": "9a8e41a7-f1fd-415a-84ee-1fba02c08d2b",
   "metadata": {
    "editable": true,
    "slideshow": {
     "slide_type": ""
    },
    "tags": []
   },
   "outputs": [],
   "source": []
  }
 ],
 "metadata": {
  "kernelspec": {
   "display_name": "Python 3 (ipykernel)",
   "language": "python",
   "name": "python3"
  },
  "language_info": {
   "codemirror_mode": {
    "name": "ipython",
    "version": 3
   },
   "file_extension": ".py",
   "mimetype": "text/x-python",
   "name": "python",
   "nbconvert_exporter": "python",
   "pygments_lexer": "ipython3",
   "version": "3.12.10"
  }
 },
 "nbformat": 4,
 "nbformat_minor": 5
}
