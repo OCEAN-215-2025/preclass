{
 "cells": [
  {
   "cell_type": "markdown",
   "id": "b97b5f84-714c-4ee3-8e94-cff25d78162b",
   "metadata": {},
   "source": [
    "# Mapping and reduction functions in numpy"
   ]
  },
  {
   "cell_type": "code",
   "execution_count": 2,
   "id": "9395ed18-a2be-4171-adee-0c1942196107",
   "metadata": {},
   "outputs": [],
   "source": [
    "# initialization: make numpy available\n",
    "import numpy as np"
   ]
  },
  {
   "cell_type": "markdown",
   "id": "13474c80-4867-4030-8b5c-ebc7377baf3f",
   "metadata": {},
   "source": [
    "## Numpy mapping functions"
   ]
  },
  {
   "cell_type": "markdown",
   "id": "3c28c5bc-84ee-442d-a90d-22dcbefbb41d",
   "metadata": {},
   "source": [
    "A vast number of numpy functions apply a mathematical mapping on each element of the array. Here we list some of the familiar ones and illustrate each group with some examples"
   ]
  },
  {
   "cell_type": "markdown",
   "id": "ef28b57d-0a58-49e8-951f-97671b67e8c7",
   "metadata": {},
   "source": [
    "Power, exponential and logarithmic functions:\n",
    "\n",
    "+ `np.sqrt()` for calculating square root\n",
    "+ `np.exp()` for exponentiation\n",
    "+ `np.log()` for natural logarithm\n",
    "+ `np.log10()` for base-10 logarithm\n",
    "+ `np.log2()` for base-2 logrithm\n",
    "\n",
    "Examples:"
   ]
  },
  {
   "cell_type": "code",
   "execution_count": 3,
   "id": "7c17640c-d36e-45d7-a748-c542f47cc006",
   "metadata": {},
   "outputs": [
    {
     "data": {
      "text/plain": [
       "array([ 2.71828183,  7.3890561 , 20.08553692])"
      ]
     },
     "execution_count": 3,
     "metadata": {},
     "output_type": "execute_result"
    }
   ],
   "source": [
    "x = np.array([1, 2, 3])\n",
    "np.exp(x)"
   ]
  },
  {
   "cell_type": "code",
   "execution_count": 4,
   "id": "cdcea245-598b-4349-80dd-d6e62c57ce61",
   "metadata": {},
   "outputs": [
    {
     "data": {
      "text/plain": [
       "array([ 0.,  1., -1.])"
      ]
     },
     "execution_count": 4,
     "metadata": {},
     "output_type": "execute_result"
    }
   ],
   "source": [
    "x = np.array([1, 10, 0.1])\n",
    "np.log10(x)"
   ]
  },
  {
   "cell_type": "markdown",
   "id": "3520dc47-076b-4134-9a1c-27ab7f55d64f",
   "metadata": {},
   "source": [
    "Trigonometric functions (note that angles are expressed in radians):\n",
    "\n",
    "+ `np.sin()`: sine function\n",
    "+ `np.cos()`: cosine function\n",
    "+ `np.tan()`: tangent function\n",
    "+ `np.arcsin()`: arcsine (inverse sine) function\n",
    "+ `np.arccos()`: arccosine (inverse consine) function\n",
    "+ `np.arctan()`: arctangent (inverse tangent) function\n",
    "+ `np.arctan2()`: arctangent function accepting both `x` and `y` as arguments\n",
    "\n",
    "Moreover, the following convenient helper functions are defined:\n",
    "+ `deg2rad()`: convert degrees to radians\n",
    "+ `rad2deg()`: convert radians to degrees\n",
    "\n",
    "Examples:"
   ]
  },
  {
   "cell_type": "code",
   "execution_count": 5,
   "id": "6be2d10c-1c50-4afe-ba70-dcc92ea77d54",
   "metadata": {},
   "outputs": [
    {
     "data": {
      "text/plain": [
       "0.0015926529164868282"
      ]
     },
     "execution_count": 5,
     "metadata": {},
     "output_type": "execute_result"
    }
   ],
   "source": [
    "np.sin(3.14)"
   ]
  },
  {
   "cell_type": "code",
   "execution_count": 10,
   "id": "3cea2386-0cce-4b44-9b36-d63bc371b206",
   "metadata": {},
   "outputs": [
    {
     "data": {
      "text/plain": [
       "-2.6179938779914944"
      ]
     },
     "execution_count": 10,
     "metadata": {},
     "output_type": "execute_result"
    }
   ],
   "source": [
    "np.arctan2(-1, -np.sqrt(3))"
   ]
  },
  {
   "cell_type": "markdown",
   "id": "1e3d19b0-3c56-41c3-b3b5-80e169d0cb18",
   "metadata": {},
   "source": [
    "Rounding functions:\n",
    "\n",
    "+ `np.round()`: round values to fixed decimal point\n",
    "+ `np.floor()`: round *down* to the nearest integer\n",
    "+ `np.ceil()`: round *up* to the nearest integer\n",
    "\n",
    "Examples:"
   ]
  },
  {
   "cell_type": "code",
   "execution_count": 12,
   "id": "17dbb7c4-2fc4-45b3-88b9-c4ac9aededa0",
   "metadata": {},
   "outputs": [
    {
     "data": {
      "text/plain": [
       "array([3.142, 2.718])"
      ]
     },
     "execution_count": 12,
     "metadata": {},
     "output_type": "execute_result"
    }
   ],
   "source": [
    "x = np.array([3.1415926, 2.718281828])\n",
    "np.round(x, 3)"
   ]
  },
  {
   "cell_type": "code",
   "execution_count": 13,
   "id": "37aa0fb1-4253-49b0-9192-88a14a43386d",
   "metadata": {},
   "outputs": [
    {
     "data": {
      "text/plain": [
       "array([4., 3.])"
      ]
     },
     "execution_count": 13,
     "metadata": {},
     "output_type": "execute_result"
    }
   ],
   "source": [
    "np.ceil(x)"
   ]
  },
  {
   "cell_type": "markdown",
   "id": "1c497186-b659-4300-ac4c-61c90ae5144e",
   "metadata": {},
   "source": [
    "Miscellaneous functions:\n",
    "\n",
    "+ `np.fabs()`: absolute value\n",
    "\n",
    "Example:"
   ]
  },
  {
   "cell_type": "code",
   "execution_count": 16,
   "id": "f270e9bd-8cd5-4710-9a17-5984232cf641",
   "metadata": {},
   "outputs": [
    {
     "data": {
      "text/plain": [
       "array([2., 1., 0., 1., 2.])"
      ]
     },
     "execution_count": 16,
     "metadata": {},
     "output_type": "execute_result"
    }
   ],
   "source": [
    "x = np.array([-2, -1, 0, 1, 2])\n",
    "np.fabs(x)"
   ]
  },
  {
   "cell_type": "markdown",
   "id": "f9dde1dc-1352-4787-82d3-fb3ad2d8ffb5",
   "metadata": {},
   "source": [
    "## Remarks: constants in numpy"
   ]
  },
  {
   "cell_type": "markdown",
   "id": "a5b5e9e6-3c50-469d-8224-39c38da3b7f9",
   "metadata": {},
   "source": [
    "In addition to functions, numpy also come with a few constants. The most notable ones are `np.pi` (for $\\pi$) and `np.e` (for the natural / Euler / exponential number). Moreover, there is also the \"not a number\" value `np.nan`. Note that mathematical operations on `np.nan` generally results in `np.nan`"
   ]
  },
  {
   "cell_type": "code",
   "execution_count": 17,
   "id": "d55228f6-7ba3-4cbc-8b3b-c0baa3890747",
   "metadata": {},
   "outputs": [
    {
     "data": {
      "text/plain": [
       "1.2246467991473532e-16"
      ]
     },
     "execution_count": 17,
     "metadata": {},
     "output_type": "execute_result"
    }
   ],
   "source": [
    "np.sin(np.pi)"
   ]
  },
  {
   "cell_type": "code",
   "execution_count": 18,
   "id": "cea15b62-2a2c-42f7-bc0a-6b38da13205b",
   "metadata": {},
   "outputs": [
    {
     "data": {
      "text/plain": [
       "1.0"
      ]
     },
     "execution_count": 18,
     "metadata": {},
     "output_type": "execute_result"
    }
   ],
   "source": [
    "np.log(np.e)"
   ]
  },
  {
   "cell_type": "code",
   "execution_count": 19,
   "id": "420c0855-954a-41e9-8e54-00c48ecbbb35",
   "metadata": {},
   "outputs": [
    {
     "data": {
      "text/plain": [
       "nan"
      ]
     },
     "execution_count": 19,
     "metadata": {},
     "output_type": "execute_result"
    }
   ],
   "source": [
    "np.nan * 2"
   ]
  },
  {
   "cell_type": "markdown",
   "id": "793501ea-908b-40a2-b260-6fa82c4c9599",
   "metadata": {},
   "source": [
    "## Reduction functions"
   ]
  },
  {
   "cell_type": "markdown",
   "id": "2d5d1718-1817-46f3-bf7e-646482058f28",
   "metadata": {},
   "source": [
    "Other than mapping functions, numpy also implements a number of reduction functions. In brief, these are functions that \"reduce\" a (1-dimensional) numpy array to a single number. Below we list some familiar ones:"
   ]
  },
  {
   "cell_type": "markdown",
   "id": "423ae49f-eb9b-4ce3-a6fd-222a01a3b94b",
   "metadata": {},
   "source": [
    "Statistics functions:\n",
    "\n",
    "+ `np.mean()`: the average of an array, $\\overline{x} = (x_1 + \\ldots + x_n) / n$\n",
    "+ `np.var()`: the variance of an array, $\\operatorname{var}(\\{x_i\\}) = [(x_1 - \\overline{x})^2 + \\ldots + (x_n - \\overline{x})^2]/n $\n",
    "+ `np.std()`: the standard deviation of an array, $\\operatorname{std}(\\{x_i\\}) = \\sqrt{\\operatorname{var}(\\{x_i\\})}$\n",
    "+ `np.median()`: the median of an array (the element that ranks half the way between the smallest and the largest values)\n",
    "\n",
    "Examples:"
   ]
  },
  {
   "cell_type": "code",
   "execution_count": 21,
   "id": "2da41861-1eb6-4233-ac1c-e0df9de33207",
   "metadata": {},
   "outputs": [],
   "source": [
    "x = np.array([7, 4, 6, 5, 2])"
   ]
  },
  {
   "cell_type": "code",
   "execution_count": 22,
   "id": "7f7f8940-1ba4-4f7d-a2b9-3f6ceec07d20",
   "metadata": {},
   "outputs": [
    {
     "data": {
      "text/plain": [
       "4.8"
      ]
     },
     "execution_count": 22,
     "metadata": {},
     "output_type": "execute_result"
    }
   ],
   "source": [
    "np.mean(x)"
   ]
  },
  {
   "cell_type": "code",
   "execution_count": 24,
   "id": "0cb4ec57-67dd-458b-ae7c-c7165d24dca2",
   "metadata": {},
   "outputs": [
    {
     "data": {
      "text/plain": [
       "1.7204650534085253"
      ]
     },
     "execution_count": 24,
     "metadata": {},
     "output_type": "execute_result"
    }
   ],
   "source": [
    "np.std(x)"
   ]
  },
  {
   "cell_type": "markdown",
   "id": "77b30c4f-06a1-430b-9446-db62ddde1641",
   "metadata": {},
   "source": [
    "Accumulation functions:\n",
    "\n",
    "+ `np.prod()`: product of all elements in the array\n",
    "+ `np.sum()`: sum of all elements in the array\n",
    "\n",
    "Examples:"
   ]
  },
  {
   "cell_type": "code",
   "execution_count": 25,
   "id": "b48bd47c-677f-4681-bbbf-4843fbb862d5",
   "metadata": {},
   "outputs": [],
   "source": [
    "x = np.array([1, 1.5, 2, 2.5, 3])"
   ]
  },
  {
   "cell_type": "code",
   "execution_count": 26,
   "id": "76b10ed2-39d2-4683-8f24-b0e85e440426",
   "metadata": {},
   "outputs": [
    {
     "data": {
      "text/plain": [
       "22.5"
      ]
     },
     "execution_count": 26,
     "metadata": {},
     "output_type": "execute_result"
    }
   ],
   "source": [
    "np.prod(x)"
   ]
  },
  {
   "cell_type": "code",
   "execution_count": 27,
   "id": "220839a1-896c-490c-b388-09871383ea78",
   "metadata": {},
   "outputs": [
    {
     "data": {
      "text/plain": [
       "10.0"
      ]
     },
     "execution_count": 27,
     "metadata": {},
     "output_type": "execute_result"
    }
   ],
   "source": [
    "np.sum(x)"
   ]
  },
  {
   "cell_type": "markdown",
   "id": "da0a01bb-db6d-4606-9019-b509bc76693e",
   "metadata": {},
   "source": [
    "Extremum functions:\n",
    "\n",
    "+ `np.max()`: finding maximum *value* of an array\n",
    "+ `np.min()`: finding minimum *value* of an array\n",
    "+ `np.argmax()`: finding the *index* at which the maximum is attained\n",
    "+ `np.argmin()`: finding the *index* at which the minimum is attained\n",
    "\n",
    "Examples:"
   ]
  },
  {
   "cell_type": "code",
   "execution_count": 32,
   "id": "fab44405-8806-4021-951c-32c0bd132b02",
   "metadata": {},
   "outputs": [],
   "source": [
    "x = np.array([2, 8, 6, 3, 4])"
   ]
  },
  {
   "cell_type": "code",
   "execution_count": 33,
   "id": "bcace6cc-44b7-4142-a656-0be4125376c0",
   "metadata": {},
   "outputs": [
    {
     "data": {
      "text/plain": [
       "8"
      ]
     },
     "execution_count": 33,
     "metadata": {},
     "output_type": "execute_result"
    }
   ],
   "source": [
    "np.max(x)"
   ]
  },
  {
   "cell_type": "code",
   "execution_count": 35,
   "id": "0bd91a36-7533-469d-91df-9c5aa0944e5e",
   "metadata": {},
   "outputs": [
    {
     "data": {
      "text/plain": [
       "1"
      ]
     },
     "execution_count": 35,
     "metadata": {},
     "output_type": "execute_result"
    }
   ],
   "source": [
    "np.argmax(x)"
   ]
  },
  {
   "cell_type": "markdown",
   "id": "d3d65547-2d42-4b16-95f4-2855db0c9a54",
   "metadata": {},
   "source": [
    "## Other functions"
   ]
  },
  {
   "cell_type": "markdown",
   "id": "d8768680-eb53-4ae8-9edc-a59b1c453c23",
   "metadata": {},
   "source": [
    "Some functions in numpy do not fall neatly into the baskets introduced so far. The most important ones are the sorting functions:\n",
    "\n",
    "+ `np.sort()`: sort an array (from smallest to largest, by default)\n",
    "+ `np.argsort()`: sort the *indices* of an array by the value of the corresponding element\n",
    "\n",
    "Example:"
   ]
  },
  {
   "cell_type": "code",
   "execution_count": 37,
   "id": "2554db26-49b3-49a9-9bd1-c383c40ac4dc",
   "metadata": {},
   "outputs": [],
   "source": [
    "x = np.array([2, 8, 6, 3, 4])"
   ]
  },
  {
   "cell_type": "code",
   "execution_count": 38,
   "id": "e42980e7-92e9-41f6-a78f-9279ab0948d1",
   "metadata": {},
   "outputs": [
    {
     "data": {
      "text/plain": [
       "array([2, 3, 4, 6, 8])"
      ]
     },
     "execution_count": 38,
     "metadata": {},
     "output_type": "execute_result"
    }
   ],
   "source": [
    "np.sort(x)"
   ]
  },
  {
   "cell_type": "code",
   "execution_count": 39,
   "id": "9fdadb9e-20e5-402b-a1b1-6190518f80cf",
   "metadata": {},
   "outputs": [
    {
     "data": {
      "text/plain": [
       "array([0, 3, 4, 2, 1], dtype=int64)"
      ]
     },
     "execution_count": 39,
     "metadata": {},
     "output_type": "execute_result"
    }
   ],
   "source": [
    "np.argsort(x)"
   ]
  },
  {
   "cell_type": "code",
   "execution_count": null,
   "id": "6b0be456-30b7-49b9-8d2e-3e37dcc0ca1f",
   "metadata": {},
   "outputs": [],
   "source": []
  }
 ],
 "metadata": {
  "kernelspec": {
   "display_name": "Python 3 (ipykernel)",
   "language": "python",
   "name": "python3"
  },
  "language_info": {
   "codemirror_mode": {
    "name": "ipython",
    "version": 3
   },
   "file_extension": ".py",
   "mimetype": "text/x-python",
   "name": "python",
   "nbconvert_exporter": "python",
   "pygments_lexer": "ipython3",
   "version": "3.12.8"
  }
 },
 "nbformat": 4,
 "nbformat_minor": 5
}
