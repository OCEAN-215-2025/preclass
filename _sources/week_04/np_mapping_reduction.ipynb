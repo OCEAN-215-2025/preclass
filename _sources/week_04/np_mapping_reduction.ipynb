{
 "cells": [
  {
   "cell_type": "markdown",
   "id": "b97b5f84-714c-4ee3-8e94-cff25d78162b",
   "metadata": {},
   "source": [
    "# Mapping and reduction functions in `numpy`"
   ]
  },
  {
   "cell_type": "code",
   "execution_count": null,
   "id": "5cf34d48-2f68-438c-8da8-3112a42f74fa",
   "metadata": {},
   "outputs": [],
   "source": []
  }
 ],
 "metadata": {
  "kernelspec": {
   "display_name": "Python 3 (ipykernel)",
   "language": "python",
   "name": "python3"
  },
  "language_info": {
   "codemirror_mode": {
    "name": "ipython",
    "version": 3
   },
   "file_extension": ".py",
   "mimetype": "text/x-python",
   "name": "python",
   "nbconvert_exporter": "python",
   "pygments_lexer": "ipython3",
   "version": "3.12.10"
  }
 },
 "nbformat": 4,
 "nbformat_minor": 5
}
