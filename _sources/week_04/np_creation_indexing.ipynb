{
 "cells": [
  {
   "cell_type": "markdown",
   "id": "09d44a71-8e3a-448c-8c4d-6e71cf5d9bbb",
   "metadata": {},
   "source": [
    "# Creating and indexing arrays in numpy"
   ]
  },
  {
   "cell_type": "code",
   "execution_count": 2,
   "id": "40323037-1a47-424e-89a7-7909557581e9",
   "metadata": {},
   "outputs": [],
   "source": [
    "# initialization: make numpy available\n",
    "import numpy as np"
   ]
  },
  {
   "cell_type": "markdown",
   "id": "0d721a13-2b94-4543-8479-a7cb543f0259",
   "metadata": {},
   "source": [
    "## Creating `ndarray`"
   ]
  },
  {
   "cell_type": "markdown",
   "id": "70b6f969-3cdd-4373-85b5-45abe2ae8523",
   "metadata": {},
   "source": [
    "Numpy provides a number of functions for creating regular `ndarray`, and we will show you a few important ones"
   ]
  },
  {
   "cell_type": "markdown",
   "id": "2ca037ef-da34-4e5a-b6ef-84fb6d377709",
   "metadata": {},
   "source": [
    "To create a linear sequence between `a` and `b` (`b` inclusive), for a length of `n` elements, use `np.linspace(a, b, n)`:"
   ]
  },
  {
   "cell_type": "code",
   "execution_count": 3,
   "id": "ca456312-a1f8-40ce-8d9a-25f54594b4aa",
   "metadata": {},
   "outputs": [
    {
     "data": {
      "text/plain": [
       "array([0.        , 0.22222222, 0.44444444, 0.66666667, 0.88888889,\n",
       "       1.11111111, 1.33333333, 1.55555556, 1.77777778, 2.        ])"
      ]
     },
     "execution_count": 3,
     "metadata": {},
     "output_type": "execute_result"
    }
   ],
   "source": [
    "np.linspace(0, 2, 10)"
   ]
  },
  {
   "cell_type": "markdown",
   "id": "849da36c-81f5-426c-9fc4-f6567adf28d7",
   "metadata": {},
   "source": [
    "To create a sequence between `a` and `b` (`b` exclusive), with a spacing `d` between consecutive elements, use `np.arange(a, b, d)`: "
   ]
  },
  {
   "cell_type": "code",
   "execution_count": 4,
   "id": "33ded363-69dd-45ed-8ca6-38fb0ccf4f88",
   "metadata": {},
   "outputs": [
    {
     "data": {
      "text/plain": [
       "array([0. , 0.5, 1. , 1.5])"
      ]
     },
     "execution_count": 4,
     "metadata": {},
     "output_type": "execute_result"
    }
   ],
   "source": [
    "np.arange(0, 2, 0.5)"
   ]
  },
  {
   "cell_type": "markdown",
   "id": "e3a1da86-bf2e-409d-add3-2f55b7c76240",
   "metadata": {},
   "source": [
    "To create an array of zeros, for a length of `n`, use `np.zeros(n)`:"
   ]
  },
  {
   "cell_type": "code",
   "execution_count": 5,
   "id": "9e678918-8474-4a1e-8aa6-95f7afb0de5b",
   "metadata": {},
   "outputs": [
    {
     "data": {
      "text/plain": [
       "array([0., 0., 0., 0., 0.])"
      ]
     },
     "execution_count": 5,
     "metadata": {},
     "output_type": "execute_result"
    }
   ],
   "source": [
    "np.zeros(5)"
   ]
  },
  {
   "cell_type": "markdown",
   "id": "abea7433-e7a3-43a1-b134-f6aac49c667a",
   "metadata": {},
   "source": [
    "For an array of ones, similarly use `np.ones()`:"
   ]
  },
  {
   "cell_type": "code",
   "execution_count": 9,
   "id": "a0da66b5-382d-480c-93ac-0f079927b4d8",
   "metadata": {},
   "outputs": [
    {
     "data": {
      "text/plain": [
       "array([1., 1., 1., 1.])"
      ]
     },
     "execution_count": 9,
     "metadata": {},
     "output_type": "execute_result"
    }
   ],
   "source": [
    "np.ones(4)"
   ]
  },
  {
   "cell_type": "markdown",
   "id": "fb79dfb0-de53-4a92-8e6a-c801d4c2abfb",
   "metadata": {},
   "source": [
    "More generally, to create a constant array, use `np.full(n, a)`, where `n` gives the number of element while `a` gives the constant value:"
   ]
  },
  {
   "cell_type": "code",
   "execution_count": 10,
   "id": "6183d223-c228-4a58-80cd-bf5d2ac0a458",
   "metadata": {},
   "outputs": [
    {
     "data": {
      "text/plain": [
       "array([2, 2, 2])"
      ]
     },
     "execution_count": 10,
     "metadata": {},
     "output_type": "execute_result"
    }
   ],
   "source": [
    "np.full(3, 2)"
   ]
  },
  {
   "cell_type": "markdown",
   "id": "1e2b027e-d71e-4cdf-9dbd-714d64a5e93f",
   "metadata": {},
   "source": [
    "If you want to join two numpy arrays, you can use `np.concatenate()`:"
   ]
  },
  {
   "cell_type": "code",
   "execution_count": 27,
   "id": "81dfa7d3-d817-444a-a069-2162eafeb8c4",
   "metadata": {},
   "outputs": [
    {
     "data": {
      "text/plain": [
       "array([ 1,  4,  9, -2,  0,  2])"
      ]
     },
     "execution_count": 27,
     "metadata": {},
     "output_type": "execute_result"
    }
   ],
   "source": [
    "x = np.array([1, 4, 9])\n",
    "y = np.array([-2, 0, 2])\n",
    "\n",
    "np.concatenate([x, y])"
   ]
  },
  {
   "cell_type": "markdown",
   "id": "ef4891f7-0382-4c28-abb1-57a0e3af1fab",
   "metadata": {},
   "source": [
    "## Basic indexing"
   ]
  },
  {
   "cell_type": "markdown",
   "id": "fc306762-d9dc-4715-93ca-459ecd931cc3",
   "metadata": {},
   "source": [
    "In short, an `ndarray` can be indexed and sliced in the same way a python `list` do. For example:"
   ]
  },
  {
   "cell_type": "code",
   "execution_count": 14,
   "id": "52ea34cc-1ab5-492f-8616-423bad38dd74",
   "metadata": {},
   "outputs": [
    {
     "name": "stdout",
     "output_type": "stream",
     "text": [
      "[ 1.   1.5  2.   2.5  3.   3.5  4.   4.5  5.   5.5  6.   6.5  7.   7.5\n",
      "  8.   8.5  9.   9.5 10. ]\n"
     ]
    }
   ],
   "source": [
    "# define the array to be indexed\n",
    "x = np.arange(1, 10.1, 0.5)\n",
    "print(x)"
   ]
  },
  {
   "cell_type": "code",
   "execution_count": 13,
   "id": "42b489f6-b8c9-466d-a42d-eab960b145a8",
   "metadata": {},
   "outputs": [
    {
     "data": {
      "text/plain": [
       "2.0"
      ]
     },
     "execution_count": 13,
     "metadata": {},
     "output_type": "execute_result"
    }
   ],
   "source": [
    "# extract the third (index = 2) element\n",
    "x[2]"
   ]
  },
  {
   "cell_type": "code",
   "execution_count": 16,
   "id": "432994cb-4dc1-40d5-adbd-4678b81a5a0f",
   "metadata": {},
   "outputs": [
    {
     "data": {
      "text/plain": [
       "array([1.5, 2. , 2.5, 3. ])"
      ]
     },
     "execution_count": 16,
     "metadata": {},
     "output_type": "execute_result"
    }
   ],
   "source": [
    "# extract the second (index 1) to the fifth (index 4) element\n",
    "x[1:5]"
   ]
  },
  {
   "cell_type": "code",
   "execution_count": 15,
   "id": "df3b3217-3ef4-4e18-a34e-9c11ce329a49",
   "metadata": {},
   "outputs": [
    {
     "data": {
      "text/plain": [
       "array([ 1.,  2.,  3.,  4.,  5.,  6.,  7.,  8.,  9., 10.])"
      ]
     },
     "execution_count": 15,
     "metadata": {},
     "output_type": "execute_result"
    }
   ],
   "source": [
    "# extract every ood position (even index) elements\n",
    "x[::2]"
   ]
  },
  {
   "cell_type": "markdown",
   "id": "0c8827f5-98e4-416b-b3c2-64fb8525ac9d",
   "metadata": {},
   "source": [
    "## Advanced indexing"
   ]
  },
  {
   "cell_type": "markdown",
   "id": "4a042ac3-ccb5-4e50-93bb-505009189c35",
   "metadata": {},
   "source": [
    "In addition to indexing by an integer or by a slice object, an `ndarray` can also be indexed by a boolean `ndarray`. Say, for example, you want to extract the second and the fifth element of the array `y` below:"
   ]
  },
  {
   "cell_type": "code",
   "execution_count": 20,
   "id": "7a39cf5f-8521-4c8b-b929-9e23be7e0d79",
   "metadata": {},
   "outputs": [],
   "source": [
    "y = np.array([1, 7, -5, -2, 3])"
   ]
  },
  {
   "cell_type": "markdown",
   "id": "6a051b5e-38ea-4b6e-9c31-dd9cfab1cdee",
   "metadata": {},
   "source": [
    "We can create a Boolean array the same length as `y`, for which the entry is `True` only in the second and fifth position:"
   ]
  },
  {
   "cell_type": "code",
   "execution_count": 21,
   "id": "394116cd-14e4-44e3-b19c-edb7198b3cc4",
   "metadata": {},
   "outputs": [],
   "source": [
    "selector = np.array([False, True, False, False, True])"
   ]
  },
  {
   "cell_type": "markdown",
   "id": "5c5ddc7a-a0ff-48ae-aa44-c402a032d491",
   "metadata": {},
   "source": [
    "We can now use the `selector` array to index the `y` array:"
   ]
  },
  {
   "cell_type": "code",
   "execution_count": 22,
   "id": "13d3c206-47a2-4a5a-96cb-ecc14316826a",
   "metadata": {},
   "outputs": [
    {
     "data": {
      "text/plain": [
       "array([7, 3])"
      ]
     },
     "execution_count": 22,
     "metadata": {},
     "output_type": "execute_result"
    }
   ],
   "source": [
    "y[selector]"
   ]
  },
  {
   "cell_type": "markdown",
   "id": "92b53eda-2231-4d29-bf3d-84bbcec7f8f1",
   "metadata": {},
   "source": [
    "While the above example is a bit contrieved, there are scenarios where indexing by boolean array is natural. Very commonly, you may want to select elements in an array whose values satisfy certain condition. Say you want to extract all the negative elements of `y`. You can then do:"
   ]
  },
  {
   "cell_type": "code",
   "execution_count": 23,
   "id": "3ca00e14-7aec-43ab-ad83-86da13ea9c38",
   "metadata": {},
   "outputs": [
    {
     "data": {
      "text/plain": [
       "array([-5, -2])"
      ]
     },
     "execution_count": 23,
     "metadata": {},
     "output_type": "execute_result"
    }
   ],
   "source": [
    "y[y < 0]"
   ]
  },
  {
   "cell_type": "markdown",
   "id": "faff545a-086b-40c3-add7-8cb50914bd33",
   "metadata": {},
   "source": [
    "To break this into steps, in the above expression you first create an unnamed, temperoary Boolean array `y < 0`, which you then use it to index `y`. The result is exactly the same as extracting negative elements from `y`"
   ]
  },
  {
   "cell_type": "markdown",
   "id": "2c8df6f9-55dd-4e5c-b7ba-ebfe47d769e4",
   "metadata": {},
   "source": [
    "In addition to indexing via boolean array, you can also index using an integer array. The results is an array consisting of values whose indices are as specified by the indexing array. As a concrete example, to extract the second and fifth element of `y`, we may also do:"
   ]
  },
  {
   "cell_type": "code",
   "execution_count": 24,
   "id": "ba6a197f-4213-45df-bdea-19f08340ae9a",
   "metadata": {},
   "outputs": [
    {
     "data": {
      "text/plain": [
       "array([7, 3])"
      ]
     },
     "execution_count": 24,
     "metadata": {},
     "output_type": "execute_result"
    }
   ],
   "source": [
    "y[np.array([1, 4])]"
   ]
  },
  {
   "cell_type": "code",
   "execution_count": null,
   "id": "a2a5cc54-93e0-440d-9bf5-e0a6f120374b",
   "metadata": {},
   "outputs": [],
   "source": []
  }
 ],
 "metadata": {
  "kernelspec": {
   "display_name": "Python 3 (ipykernel)",
   "language": "python",
   "name": "python3"
  },
  "language_info": {
   "codemirror_mode": {
    "name": "ipython",
    "version": 3
   },
   "file_extension": ".py",
   "mimetype": "text/x-python",
   "name": "python",
   "nbconvert_exporter": "python",
   "pygments_lexer": "ipython3",
   "version": "3.12.8"
  }
 },
 "nbformat": 4,
 "nbformat_minor": 5
}
