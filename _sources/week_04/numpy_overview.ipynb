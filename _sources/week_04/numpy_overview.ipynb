{
 "cells": [
  {
   "cell_type": "markdown",
   "id": "4208c095-dc6d-4964-ad44-e29067dbe679",
   "metadata": {},
   "source": [
    "# An overview of numpy"
   ]
  },
  {
   "cell_type": "markdown",
   "id": "2d09e1ad-cb89-4349-bcb2-8d9099744f16",
   "metadata": {},
   "source": [
    "## Importing the numpy package"
   ]
  },
  {
   "cell_type": "markdown",
   "id": "9f9eef02-393c-4285-a7f4-cd77bf9c2ece",
   "metadata": {},
   "source": [
    "Numpy is a third-party python module designed to make numerical computations in python easy and performant. In python, a **module** (a.k.a. **package** or **library**) is essentially a _bundle of codes_ that extends the functionality of core python. And third-party here just means that you need to install the module on top of the standard python distribution—don't worry, for your convenience, numpy (and all the other third-party packages you'll encounter in this course) is already pre-installed on the JupyterHub.\n",
    "\n",
    "The main object introduced by numpy is the N-dimensional arrays `ndarray`, which, similar to python `list`, is a sequential collection type. However, it differs from python list in a few important ways:\n",
    "\n",
    "+ Numpy `ndarray` is intended for **homogeneous** data (i.e., data for which all values have the same data type), while python `list` can easily accommodate heterogeneous data.\n",
    "+ Numpy `ndarray` is **efficient** in both memory and compute time when its data are numeric, while python `list` can be inefficient in both.\n",
    "+ Numpy `ndarray` support **vectorized operations**, while python `list` needs to be operated on element-by-element.\n",
    "\n",
    "In addition, numpy also provides a vast array (no pun intended!) of functions to create and operate on `ndarray`'s."
   ]
  },
  {
   "cell_type": "markdown",
   "id": "95e5a00d-8775-4293-8447-cd9815f3045b",
   "metadata": {},
   "source": [
    "To use the functionality provided by the numpy module, we first need to **import** it. Typically, we'll do:"
   ]
  },
  {
   "cell_type": "code",
   "execution_count": 1,
   "id": "d6e857af-ccdc-4854-9701-1e2b4c697618",
   "metadata": {},
   "outputs": [],
   "source": [
    "import numpy as np"
   ]
  },
  {
   "cell_type": "markdown",
   "id": "a573bbf1-8d4f-4315-ba81-016850faa63e",
   "metadata": {},
   "source": [
    "In the above line, the `import numpy` part is mandatory, while the `as np` part is optional. Without the `as np` part, we'll have to refer to functions provided by numpy using the `numpy` prefix, e.g., `numpy.sin()` for its sine function. With the `as np` part, we create an alias named `np` for the same purpose, so we just need to write `np.sin()` instead of `numpy.sin()`. By the way, the `np` alias in this case is more-or-less standard, and you'll see this import line everywhere."
   ]
  },
  {
   "cell_type": "markdown",
   "id": "3a741e5f-329f-4c87-bcf1-049d015a518d",
   "metadata": {},
   "source": [
    "Numpy provides a number of functions to create an `ndarray`, the simplest of which is to just wrap a python list around a `np.array()` call, like so:"
   ]
  },
  {
   "cell_type": "code",
   "execution_count": 2,
   "id": "eb1ecb55-9ada-40e0-9f35-9bf045d907ac",
   "metadata": {},
   "outputs": [],
   "source": [
    "x = np.array([1, 4, 9, 16, 25])\n",
    "y = np.array([-2, -1, 0, 1, 2])"
   ]
  },
  {
   "cell_type": "markdown",
   "id": "15725ad2-6341-4a33-bbb0-b93630e21285",
   "metadata": {},
   "source": [
    "An `ndarray` (say `x`) has a few **attributes** associated with it. An attribute of a python object is accessed using a `.` followed by the attribute name. Unlike _methods_ there is no call `()` at the end."
   ]
  },
  {
   "cell_type": "markdown",
   "id": "459d55b6-4659-4c9c-bbf4-a5b6162438ec",
   "metadata": {},
   "source": [
    "The first attribute of note is the **size** of the `ndarray`, which gives the number of elements the array has:"
   ]
  },
  {
   "cell_type": "code",
   "execution_count": 3,
   "id": "ca260890-c437-40ab-ac0a-c138003ba917",
   "metadata": {},
   "outputs": [
    {
     "data": {
      "text/plain": [
       "5"
      ]
     },
     "execution_count": 3,
     "metadata": {},
     "output_type": "execute_result"
    }
   ],
   "source": [
    "x.size"
   ]
  },
  {
   "cell_type": "markdown",
   "id": "90b4f00b-a993-4b55-8948-bcb21b092853",
   "metadata": {},
   "source": [
    "Another useful attribute is **shape** of the array. For 1-dimensional `ndarray` this is just the size placed inside a tuple (A `tuple` is like a python `list`, except it cannot be overwritten): "
   ]
  },
  {
   "cell_type": "code",
   "execution_count": 4,
   "id": "b2379548-f5f4-429b-be5b-973a73e5b338",
   "metadata": {},
   "outputs": [
    {
     "data": {
      "text/plain": [
       "(5,)"
      ]
     },
     "execution_count": 4,
     "metadata": {},
     "output_type": "execute_result"
    }
   ],
   "source": [
    "x.shape"
   ]
  },
  {
   "cell_type": "markdown",
   "id": "45a13a89-4d93-4e3f-887d-717a2ede6b40",
   "metadata": {},
   "source": [
    "Finally, we have the **ndim** (number of dimensions) of the array:"
   ]
  },
  {
   "cell_type": "code",
   "execution_count": 5,
   "id": "a35812a0-2154-443a-a7ae-975a1f0cee7a",
   "metadata": {},
   "outputs": [
    {
     "data": {
      "text/plain": [
       "1"
      ]
     },
     "execution_count": 5,
     "metadata": {},
     "output_type": "execute_result"
    }
   ],
   "source": [
    "x.ndim"
   ]
  },
  {
   "cell_type": "markdown",
   "id": "4d0c90f2-81b7-4287-9cbd-947f1eef298b",
   "metadata": {},
   "source": [
    "## Vectorized arithmetic and logical comparisons "
   ]
  },
  {
   "cell_type": "markdown",
   "id": "88ffc7fe-5df8-44d3-9cb0-cb0703a4a5f4",
   "metadata": {},
   "source": [
    "In contrast to python `list`'s, you can perform vectorized arithmetic on `ndarray`'s. For example,"
   ]
  },
  {
   "cell_type": "code",
   "execution_count": 6,
   "id": "d4c462ef-94c8-470a-8655-1bfcdd0f58d3",
   "metadata": {},
   "outputs": [
    {
     "name": "stdout",
     "output_type": "stream",
     "text": [
      "[-1  3  9 17 27]\n"
     ]
    }
   ],
   "source": [
    "z = x + y\n",
    "print(z)"
   ]
  },
  {
   "cell_type": "markdown",
   "id": "43691ce4-5056-427b-93e7-248906594dba",
   "metadata": {},
   "source": [
    "You can also perform arithmetic between a scalar and an `ndarray`, like so:"
   ]
  },
  {
   "cell_type": "code",
   "execution_count": 7,
   "id": "0f820db4-3293-4f7e-8e50-20cdfd7c0134",
   "metadata": {},
   "outputs": [
    {
     "name": "stdout",
     "output_type": "stream",
     "text": [
      "[ 2  8 18 32 50]\n"
     ]
    }
   ],
   "source": [
    "w = x * 2\n",
    "print(w)"
   ]
  },
  {
   "cell_type": "markdown",
   "id": "9232aeb9-27f6-4b27-a59e-d93da73b5a75",
   "metadata": {},
   "source": [
    "The operators `-`, `*`, `/`, `//`, `%`, and `**` works similarly. Moreover, one can also perform vectorized logical comparison. For example:"
   ]
  },
  {
   "cell_type": "code",
   "execution_count": 8,
   "id": "c295449d-18ed-456c-b8dc-526c1b357af2",
   "metadata": {},
   "outputs": [
    {
     "data": {
      "text/plain": [
       "array([ True,  True,  True, False, False])"
      ]
     },
     "execution_count": 8,
     "metadata": {},
     "output_type": "execute_result"
    }
   ],
   "source": [
    "x < 10"
   ]
  },
  {
   "cell_type": "markdown",
   "id": "b5aa8da3-96cc-4549-91d3-12d4bc381631",
   "metadata": {},
   "source": [
    "(The reason why you may want to do so will become apparent soon). The operators `==`, `!=`, `>`, `<=`, and `>=` work similarly."
   ]
  },
  {
   "cell_type": "markdown",
   "id": "b8d0aabb-ffef-4fe3-b6d3-908227687f55",
   "metadata": {},
   "source": [
    "To combine two logical `ndarray`, use `&` for \"and\" and `|` for \"or\": "
   ]
  },
  {
   "cell_type": "code",
   "execution_count": 9,
   "id": "6c03bc8d-1aea-4310-a869-cdab597a4cf0",
   "metadata": {},
   "outputs": [
    {
     "data": {
      "text/plain": [
       "array([False,  True,  True, False, False])"
      ]
     },
     "execution_count": 9,
     "metadata": {},
     "output_type": "execute_result"
    }
   ],
   "source": [
    "(x < 10) & (x > 3)"
   ]
  },
  {
   "cell_type": "code",
   "execution_count": 10,
   "id": "bbc50aaa-307f-4b7f-a739-1c1c0f9b1925",
   "metadata": {},
   "outputs": [
    {
     "data": {
      "text/plain": [
       "array([ True, False, False, False,  True])"
      ]
     },
     "execution_count": 10,
     "metadata": {},
     "output_type": "execute_result"
    }
   ],
   "source": [
    "(y > 1) | (y < -1)"
   ]
  },
  {
   "cell_type": "markdown",
   "id": "424b01dc-7919-4e6f-b8b4-476ddc46f5f0",
   "metadata": {},
   "source": [
    "Finally, a logical `ndarray` can be negated by `~`"
   ]
  },
  {
   "cell_type": "code",
   "execution_count": 13,
   "id": "290e1c99-0817-444f-a09b-3016a834e875",
   "metadata": {},
   "outputs": [
    {
     "data": {
      "text/plain": [
       "array([False,  True,  True, False, False])"
      ]
     },
     "execution_count": 13,
     "metadata": {},
     "output_type": "execute_result"
    }
   ],
   "source": [
    "u = np.array([True, False, False, True, True])\n",
    "~u"
   ]
  },
  {
   "cell_type": "code",
   "execution_count": null,
   "id": "d2302178-a955-4096-814e-ab4d8cfe4eed",
   "metadata": {},
   "outputs": [],
   "source": []
  }
 ],
 "metadata": {
  "kernelspec": {
   "display_name": "Python 3 (ipykernel)",
   "language": "python",
   "name": "python3"
  },
  "language_info": {
   "codemirror_mode": {
    "name": "ipython",
    "version": 3
   },
   "file_extension": ".py",
   "mimetype": "text/x-python",
   "name": "python",
   "nbconvert_exporter": "python",
   "pygments_lexer": "ipython3",
   "version": "3.12.8"
  }
 },
 "nbformat": 4,
 "nbformat_minor": 5
}
