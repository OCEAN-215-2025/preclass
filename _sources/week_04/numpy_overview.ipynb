{
 "cells": [
  {
   "cell_type": "markdown",
   "id": "4208c095-dc6d-4964-ad44-e29067dbe679",
   "metadata": {},
   "source": [
    "# An overview to `numpy`"
   ]
  },
  {
   "cell_type": "code",
   "execution_count": null,
   "id": "448d9d1d-c36d-4778-ab3c-3164b93056c1",
   "metadata": {},
   "outputs": [],
   "source": []
  }
 ],
 "metadata": {
  "kernelspec": {
   "display_name": "Python 3 (ipykernel)",
   "language": "python",
   "name": "python3"
  },
  "language_info": {
   "codemirror_mode": {
    "name": "ipython",
    "version": 3
   },
   "file_extension": ".py",
   "mimetype": "text/x-python",
   "name": "python",
   "nbconvert_exporter": "python",
   "pygments_lexer": "ipython3",
   "version": "3.12.10"
  }
 },
 "nbformat": 4,
 "nbformat_minor": 5
}
