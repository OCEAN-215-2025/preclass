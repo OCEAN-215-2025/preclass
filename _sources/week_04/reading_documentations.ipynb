{
 "cells": [
  {
   "cell_type": "markdown",
   "id": "254daa6d-d3d3-4251-ba4d-46690a188e39",
   "metadata": {},
   "source": [
    "# Reading documentations and using online resources"
   ]
  },
  {
   "cell_type": "code",
   "execution_count": 1,
   "id": "8d7ebd4a-f374-40f7-9f63-76a239f804dc",
   "metadata": {},
   "outputs": [],
   "source": [
    "# initialization: make numpy available\n",
    "import numpy as np"
   ]
  },
  {
   "cell_type": "markdown",
   "id": "91c1e336-55e7-4cc3-9c37-fbaf77507536",
   "metadata": {},
   "source": [
    "As we have seen, a module like numpy may define a large number of functions, and it would be impractical to describe all of them in class. Thus, we will now discuss how to read the documentations provided by the package maintainer, so that if needed you can figure out how a function is supposed to work yourself.\n",
    "\n",
    "In the same spirit, we will also discuss how to make use of online resources if you run into a coding problem and want to try debug it yourself."
   ]
  },
  {
   "cell_type": "markdown",
   "id": "532e6a5c-32da-41ff-92a1-a1cee4a55957",
   "metadata": {},
   "source": [
    "## More on functions"
   ]
  },
  {
   "cell_type": "markdown",
   "id": "c6fcfd00-96c8-4d7f-8d86-46264769982d",
   "metadata": {},
   "source": [
    "So far we have been calling functions using **positional argument**. In other words, the order we supply the parameters tell python what that parameter is used for. An example is `np.linspace()`"
   ]
  },
  {
   "cell_type": "code",
   "execution_count": 2,
   "id": "3488fd33-147e-4af4-b965-dd1e720d269c",
   "metadata": {},
   "outputs": [
    {
     "data": {
      "text/plain": [
       "array([1. , 1.5, 2. , 2.5, 3. ])"
      ]
     },
     "execution_count": 2,
     "metadata": {},
     "output_type": "execute_result"
    }
   ],
   "source": [
    "np.linspace(1, 3, 5)"
   ]
  },
  {
   "cell_type": "markdown",
   "id": "1f560c9f-6cd4-486a-a86a-d16ceb4ac585",
   "metadata": {},
   "source": [
    "The fact that `5` is the third argument in this function call tells python that it specifies the number of elements we want the output to contain."
   ]
  },
  {
   "cell_type": "markdown",
   "id": "22a3877c-3127-4fbd-ba1c-f2a58fdc2bbb",
   "metadata": {},
   "source": [
    "However, as it turns out, each of the first three arguments of `np.linspace()` has a name too (see the documentation [here](https://numpy.org/doc/stable/reference/generated/numpy.linspace.html)). The first argument is named `start`, the second `stop`, and the third `num`. So we could have called our function like so:"
   ]
  },
  {
   "cell_type": "code",
   "execution_count": 3,
   "id": "06c20aad-4828-42df-ac3b-91b70a3988a8",
   "metadata": {},
   "outputs": [
    {
     "data": {
      "text/plain": [
       "array([1. , 1.5, 2. , 2.5, 3. ])"
      ]
     },
     "execution_count": 3,
     "metadata": {},
     "output_type": "execute_result"
    }
   ],
   "source": [
    "np.linspace(num=5, start=1, stop=3)"
   ]
  },
  {
   "cell_type": "markdown",
   "id": "4ac461fc-e9ce-4ba6-8e94-db3851562dd2",
   "metadata": {},
   "source": [
    "Notice that when we specify the argument by keyword, the order no longer matters."
   ]
  },
  {
   "cell_type": "markdown",
   "id": "46ae69fb-21a8-44ef-8d1e-26bc7d815a79",
   "metadata": {},
   "source": [
    "In general, a function can be called with a mix of **positional** and **keyword arguments**. However, the positional argument **must come before** the keyword arguments. So we could have called the `np.linspace()` function like so:"
   ]
  },
  {
   "cell_type": "code",
   "execution_count": 5,
   "id": "cf66eb58-43f5-499b-b57d-eceeb302d2f5",
   "metadata": {},
   "outputs": [
    {
     "data": {
      "text/plain": [
       "array([1. , 1.5, 2. , 2.5, 3. ])"
      ]
     },
     "execution_count": 5,
     "metadata": {},
     "output_type": "execute_result"
    }
   ],
   "source": [
    "np.linspace(1 ,3, num=5)"
   ]
  },
  {
   "cell_type": "markdown",
   "id": "f94c8136-747a-4249-9409-22dbcf7e4db1",
   "metadata": {},
   "source": [
    "Another concepts we haven't touched so far is the idea of an **optional argument.** If we read the documentation, we see that `np.linspace()` has a few more arguments, but we have never supplied them up to now. The reason is that these arguments have a **default value**. For example, the `endpoint` argument of `np.linspace()` is defaulted to `True`, so the following are equivalent:"
   ]
  },
  {
   "cell_type": "code",
   "execution_count": 6,
   "id": "192cc3d6-67c6-4579-91a1-50060481a05c",
   "metadata": {},
   "outputs": [
    {
     "data": {
      "text/plain": [
       "array([1. , 1.5, 2. , 2.5, 3. ])"
      ]
     },
     "execution_count": 6,
     "metadata": {},
     "output_type": "execute_result"
    }
   ],
   "source": [
    "np.linspace(1, 3, 5)"
   ]
  },
  {
   "cell_type": "code",
   "execution_count": 8,
   "id": "08bcc25a-9f82-49bc-9fc4-a81df35bf94b",
   "metadata": {},
   "outputs": [
    {
     "data": {
      "text/plain": [
       "array([1. , 1.5, 2. , 2.5, 3. ])"
      ]
     },
     "execution_count": 8,
     "metadata": {},
     "output_type": "execute_result"
    }
   ],
   "source": [
    "np.linspace(1, 3, 5, endpoint=True)"
   ]
  },
  {
   "cell_type": "markdown",
   "id": "2599a2f0-1211-4aee-90ec-d73cf96f2b73",
   "metadata": {},
   "source": [
    "We could, however, override the default value. The result is that the right endpoint (`3`) will no longer be included in the output, and the spacing is adjusted so that we still get a array of length 5:"
   ]
  },
  {
   "cell_type": "code",
   "execution_count": 9,
   "id": "e7f3a989-0859-43d9-aab5-50f93e4ddc19",
   "metadata": {},
   "outputs": [
    {
     "data": {
      "text/plain": [
       "array([1. , 1.4, 1.8, 2.2, 2.6])"
      ]
     },
     "execution_count": 9,
     "metadata": {},
     "output_type": "execute_result"
    }
   ],
   "source": [
    "np.linspace(1, 3, 5, endpoint=False)"
   ]
  },
  {
   "cell_type": "markdown",
   "id": "eee35564-9522-46f4-b1e3-6d94c122cb0f",
   "metadata": {},
   "source": [
    "## Reading call signature of a function"
   ]
  },
  {
   "cell_type": "markdown",
   "id": "244ed8f7-3095-43d6-95bd-03661d94369f",
   "metadata": {},
   "source": [
    "Very often, the documentation of functions start with the **call signature** of the functions, i.e., listing the function and its argument. In the case of `np.linspace()`, we have (for numpy version 2.2.*):\n",
    "\n",
    "> `numpy.linspace(start, stop, num=50, endpoint=True, retstep=False, dtype=None, axis=0, *, device=None)`"
   ]
  },
  {
   "cell_type": "markdown",
   "id": "b16e4428-62bc-44d4-9b46-f3defa148ca3",
   "metadata": {},
   "source": [
    "The way the function is written out already provide a fair amount of information. In particular:\n",
    "+ The absense of the `=…` in the first two arguments (`start` and `stop`) indicate that they have no default values. In contrast, the rest of the arguments all have default values as indicated\n",
    "+ The arguments `start`, `stop`, `num`, `endpoint`, `retstep`, `dtype`, and `axis` can all be called *either by position or by keyword*.\n",
    "+ In contrast, the last argument, `device`, is placed **after** and asterisk (`*`), which indicates that it can *only be called by keyword* (The `*` itself is not an argument)."
   ]
  },
  {
   "cell_type": "markdown",
   "id": "af401e5d-7ff3-4baa-8412-71add0284ada",
   "metadata": {},
   "source": [
    "There are a few more conventions that are not illustrated by `np.linspace()`, so let's look, e.g., at the example of `np.exp()`, which is documented [here](https://numpy.org/doc/stable/reference/routines.array-creation.html)\n",
    "\n",
    "> `numpy.exp(x, /, out=None, *, where=True, casting='same_kind', order='K', dtype=None, subok=True[, signature]) = <ufunc 'exp'>`"
   ]
  },
  {
   "cell_type": "markdown",
   "id": "dd6ae061-1211-4e45-8e0d-956d09b0d8fa",
   "metadata": {},
   "source": [
    "Some information we can infer:\n",
    "+ We again see arguments placed after the `*` (namely, `where`, `casting`, etc.). These are *keyword-only arguments*\n",
    "+ We see an additional `/`, which, like `*`, is not an actual argument. What it indicates is that `x`, which comes *before* the `/`, is a *position-only* argument. That is, we can not call it using the name `x`\n",
    "+ In contrast, the argument `out` can be called *either by position or keyword*\n",
    "+ Finally, note that there is no defaults for `x`, but there are defaults for the rest of the arguments"
   ]
  },
  {
   "cell_type": "markdown",
   "id": "8e0d5d36-b071-4b9d-a274-5fceb3c90b08",
   "metadata": {},
   "source": [
    "Next, let's look at the documentation for `print()` (which can be found [here](https://docs.python.org/3/library/functions.html#print)):\n",
    "\n",
    "> `print(*objects, sep=' ', end='\\n', file=None, flush=False)`"
   ]
  },
  {
   "cell_type": "markdown",
   "id": "55719334-af1e-4974-8a6a-0818cce50fb1",
   "metadata": {},
   "source": [
    "Here we encounter a new construct, a `*` followed by a name (no space). This is an example of **variadic positional argument**. Implications:\n",
    "+ `*objects` corresponds to a sequence of arguments you can supply by position.\n",
    "+ All arguments after `*objects` are keyword-only."
   ]
  },
  {
   "cell_type": "markdown",
   "id": "211cd657-4c30-410c-9271-675b41657461",
   "metadata": {},
   "source": [
    "Finally, sometimes a bunch of optional arguments are shorthanded. An example is the `plt.plot()` function from the `matplotlib` module (documented [here](https://matplotlib.org/stable/api/_as_gen/matplotlib.pyplot.plot.html); we'll discuss the `matplotlib` module in greater details next time)\n",
    "\n",
    "> `matplotlib.pyplot.plot(*args, scalex=True, scaley=True, data=None, **kwargs)`"
   ]
  },
  {
   "cell_type": "markdown",
   "id": "81f1d5e7-4827-47f3-a646-921e5a51300f",
   "metadata": {},
   "source": [
    "Here we again see variadic positional arguments `*args`. But in addition, we see the argument `**kwargs`:\n",
    "+ `**kwargs` is a shorthand for \"the remaining positional arguments\""
   ]
  },
  {
   "cell_type": "markdown",
   "id": "4b16c4b8-2c81-4eeb-b702-67006e7b0588",
   "metadata": {},
   "source": [
    "## The rest of the documentation"
   ]
  },
  {
   "cell_type": "markdown",
   "id": "2a4be0bf-d0e6-4cd3-b4cf-8eaa1501fbbf",
   "metadata": {},
   "source": [
    "Quite generally, the documentation of a function has a few typical sections. We have already seen a section on the **call signature**. Some additional sections are:\n",
    "\n",
    "+ Description of **inputs**, often also called **parameters** or **arguments**\n",
    "\n",
    "  This section is worth pay attention to if an argument's purpose is not obvious from the call signature, or if there are potential ambigiouity in how to interpret its meaning. For example, the documentation of `np.sin()` [here](https://numpy.org/doc/stable/reference/generated/numpy.sin.html) clearly indicated that angle is supplied in radians\n",
    "\n",
    "+ Description of **outputs**, often also called **returns**.\n",
    "\n",
    "  This tells you what is returned by the function, and thus, can be assigned to a variable. For example, in the documentation of `np.sin()` it is said to return an array-like object that is the sine of every input element.\n",
    "\n",
    "  However, you should also pay attention to whether the functions have any **side effects**. These are things that happen over the course of the execution of the function and are not returns that can be assigned. For example, in the documentation of the `.sort()` method of list [here](https://docs.python.org/3/library/stdtypes.html#list.sort), it is described that the method will modify the calling list object *in-place* and does not return anything\n",
    "\n",
    "+ A description of how the function works, as well as caveats\n",
    "\n",
    "+ Examples\n",
    "\n",
    "  Which you may want to follow to get a sense of how the function works in practice.\n",
    "\n",
    "+ Related functions (especially for a large module)\n",
    "\n",
    "  This is useful if the function you're reading operates *close to* what you want but not exactly."
   ]
  },
  {
   "cell_type": "markdown",
   "id": "c2045f02-382f-4c5d-b491-658a4b80149e",
   "metadata": {},
   "source": [
    "## Using online resources"
   ]
  },
  {
   "cell_type": "markdown",
   "id": "9a97dee5-3e5f-4574-bacc-a3d270e8cfd1",
   "metadata": {},
   "source": [
    "Sometimes, you may find the documentation of a function too dry or too technical. Some other times, you see sites that are not official documentation shows up at your search. At yet other times, you may find it handy to consult an AI chatbot rather than to do a search, since you can get specific response for your questions.\n",
    "\n",
    "All of these online resources can be helpful. The key is to understand the different purpose that they serve:\n",
    "\n",
    "+ An online chatbot (e.g., chatGPT) or Q&A site (e.g., [stackoverflow](https://stackoverflow.com/)) are useful for answering your immediate question.\n",
    "\n",
    "  However, depending on how close your problem is to the problems being asked or being trained on the AI, you may not be able to just copy-and-paste the answer.\n",
    "\n",
    "  As a rule of thumb, you should treat these resources as the starting point of finding answers and not the ending point. If you can clearly understand how the proposed codes work and that it is directly relevant to your problem, you may be done (with perhaps changing a few variable names). However, if you are unclear about *why* the proposed solution works, you should keep digging even if the answer happens you work.\n",
    "\n",
    "+ An online tutorial or resource page can be helpful in understanding the underlying concepts associated with the problem you encounter. Do note that not all online resource page are created equal and it is useful to know who to trust. In particular, I find the following sites trust-worthy most of the times:\n",
    "\n",
    "  + W3Schools ([https://www.w3schools.com/](https://www.w3schools.com/))\n",
    "  + Geeks for Geeks ([https://www.geeksforgeeks.org/](https://www.geeksforgeeks.org/))\n",
    "  + Real Python ([https://realpython.com/](https://realpython.com/))\n",
    "\n",
    "+ Finally, once you have a good idea of how a function works in practice. It is always a good idea to check the official documentations to see if there's any details or caveats that you miss."
   ]
  },
  {
   "cell_type": "code",
   "execution_count": null,
   "id": "2f3a60aa-d7eb-404b-9e4c-e958f202dbe8",
   "metadata": {},
   "outputs": [],
   "source": []
  }
 ],
 "metadata": {
  "kernelspec": {
   "display_name": "Python 3 (ipykernel)",
   "language": "python",
   "name": "python3"
  },
  "language_info": {
   "codemirror_mode": {
    "name": "ipython",
    "version": 3
   },
   "file_extension": ".py",
   "mimetype": "text/x-python",
   "name": "python",
   "nbconvert_exporter": "python",
   "pygments_lexer": "ipython3",
   "version": "3.12.8"
  }
 },
 "nbformat": 4,
 "nbformat_minor": 5
}
