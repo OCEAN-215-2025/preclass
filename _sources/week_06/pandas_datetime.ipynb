{
 "cells": [
  {
   "cell_type": "markdown",
   "id": "eb5fb57a-4520-4f8b-9aa4-f03290dd5be1",
   "metadata": {},
   "source": [
    "# Handling datetime in pandas"
   ]
  },
  {
   "cell_type": "code",
   "execution_count": 1,
   "id": "7111b773-2d67-4a62-b3c7-f69d6667912a",
   "metadata": {},
   "outputs": [],
   "source": [
    "# initialization\n",
    "import numpy as np\n",
    "import pandas as pd"
   ]
  },
  {
   "cell_type": "markdown",
   "id": "2d02a220-7128-4217-8df3-4dbb7b9d3953",
   "metadata": {},
   "source": [
    "## Create pandas datetime objects"
   ]
  },
  {
   "cell_type": "markdown",
   "id": "3dbfe999-ab55-4ac6-a9bf-29ee275b4370",
   "metadata": {},
   "source": [
    "One reason to use pandas to handle tabular data is that pandas has good support of datetime values. Suppose we have a python `list` of dates, in the form of string:"
   ]
  },
  {
   "cell_type": "code",
   "execution_count": 2,
   "id": "bd7d997e-8b15-4e44-8f09-563c98c55f5b",
   "metadata": {},
   "outputs": [],
   "source": [
    "dates = [\"2024-01-15\", \"2024-02-15\", \"2024-03-15\"]"
   ]
  },
  {
   "cell_type": "markdown",
   "id": "f3eaa900-a1ad-479a-91b0-3913b9590760",
   "metadata": {},
   "source": [
    "We can convert these strings to a pandas `DatetimeIndex` using `pd.to_datetime()`:"
   ]
  },
  {
   "cell_type": "code",
   "execution_count": 3,
   "id": "36380095-767a-4a88-be3b-cb31a6140583",
   "metadata": {},
   "outputs": [
    {
     "data": {
      "text/plain": [
       "DatetimeIndex(['2024-01-15', '2024-02-15', '2024-03-15'], dtype='datetime64[ns]', freq=None)"
      ]
     },
     "metadata": {},
     "output_type": "display_data"
    }
   ],
   "source": [
    "dates_pd = pd.to_datetime(dates)\n",
    "display(dates_pd)"
   ]
  },
  {
   "cell_type": "markdown",
   "id": "22ec07f8-3dd1-44a6-a9ce-3328bc99665e",
   "metadata": {},
   "source": [
    "The same can be done if we have timestamps that also include hour, minute, and (optionally) second information:"
   ]
  },
  {
   "cell_type": "code",
   "execution_count": 4,
   "id": "7dbd2834-f599-482c-90c4-14a0806a31bb",
   "metadata": {},
   "outputs": [],
   "source": [
    "timestamps = [\"2024-01-15 14:20\", \"2024-02-15 7:35\", \"2024-03-15 18:06\"]"
   ]
  },
  {
   "cell_type": "code",
   "execution_count": 5,
   "id": "f1ddd4a8-d788-4741-a045-5fd9ae928815",
   "metadata": {},
   "outputs": [
    {
     "data": {
      "text/plain": [
       "DatetimeIndex(['2024-01-15 14:20:00', '2024-02-15 07:35:00',\n",
       "               '2024-03-15 18:06:00'],\n",
       "              dtype='datetime64[ns]', freq=None)"
      ]
     },
     "metadata": {},
     "output_type": "display_data"
    }
   ],
   "source": [
    "timestamps_pd = pd.to_datetime(timestamps)\n",
    "display(timestamps_pd)"
   ]
  },
  {
   "cell_type": "markdown",
   "id": "ee9f9150-b682-4ede-94a5-62b2513cb9fd",
   "metadata": {},
   "source": [
    "Note that when you use `pd.to_datetime()` on a sequence of strings, the output is not a `DataFrame` nor a `Series`. To convert the results to a pandas `Series`, just wrap it around a `pd.Series()` call:"
   ]
  },
  {
   "cell_type": "code",
   "execution_count": 6,
   "id": "2f4d4c53-8bd2-4c7f-975d-029fe173a005",
   "metadata": {},
   "outputs": [
    {
     "data": {
      "text/plain": [
       "0   2024-01-15 14:20:00\n",
       "1   2024-02-15 07:35:00\n",
       "2   2024-03-15 18:06:00\n",
       "dtype: datetime64[ns]"
      ]
     },
     "metadata": {},
     "output_type": "display_data"
    }
   ],
   "source": [
    "time_series = pd.Series(timestamps_pd)\n",
    "display(time_series)"
   ]
  },
  {
   "cell_type": "markdown",
   "id": "ac805298-449e-4c88-9358-5c5d43908f79",
   "metadata": {},
   "source": [
    "We can also assign the result of `pd.to_datetime()` to a column of a `DataFrame`. For the CalCOFI dateset, we may do:"
   ]
  },
  {
   "cell_type": "code",
   "execution_count": 7,
   "id": "3c4e9e15-1726-40af-b4d5-b5ef5fcc7c06",
   "metadata": {},
   "outputs": [],
   "source": [
    "CalCOFI = pd.read_csv(\"data/CalCOFI_subset.csv\")\n",
    "\n",
    "CalCOFI[\"Datetime\"] = pd.to_datetime(CalCOFI[\"Datetime\"])"
   ]
  },
  {
   "cell_type": "code",
   "execution_count": 8,
   "id": "9a6f7b02-34b9-4b50-96af-9c7706f8c105",
   "metadata": {},
   "outputs": [
    {
     "name": "stdout",
     "output_type": "stream",
     "text": [
      "<class 'pandas.core.frame.DataFrame'>\n",
      "RangeIndex: 10057 entries, 0 to 10056\n",
      "Data columns (total 7 columns):\n",
      " #   Column      Non-Null Count  Dtype         \n",
      "---  ------      --------------  -----         \n",
      " 0   Cast_Count  10057 non-null  int64         \n",
      " 1   Station_ID  10057 non-null  object        \n",
      " 2   Datetime    10057 non-null  datetime64[ns]\n",
      " 3   Depth_m     10057 non-null  int64         \n",
      " 4   T_degC      10026 non-null  float64       \n",
      " 5   Salinity    10057 non-null  float64       \n",
      " 6   SigmaTheta  10008 non-null  float64       \n",
      "dtypes: datetime64[ns](1), float64(3), int64(2), object(1)\n",
      "memory usage: 550.1+ KB\n"
     ]
    }
   ],
   "source": [
    "CalCOFI.info()"
   ]
  },
  {
   "cell_type": "code",
   "execution_count": 9,
   "id": "e6893508-1841-4797-be3b-ca7baed2b54d",
   "metadata": {},
   "outputs": [
    {
     "data": {
      "text/html": [
       "<div>\n",
       "<style scoped>\n",
       "    .dataframe tbody tr th:only-of-type {\n",
       "        vertical-align: middle;\n",
       "    }\n",
       "\n",
       "    .dataframe tbody tr th {\n",
       "        vertical-align: top;\n",
       "    }\n",
       "\n",
       "    .dataframe thead th {\n",
       "        text-align: right;\n",
       "    }\n",
       "</style>\n",
       "<table border=\"1\" class=\"dataframe\">\n",
       "  <thead>\n",
       "    <tr style=\"text-align: right;\">\n",
       "      <th></th>\n",
       "      <th>Cast_Count</th>\n",
       "      <th>Station_ID</th>\n",
       "      <th>Datetime</th>\n",
       "      <th>Depth_m</th>\n",
       "      <th>T_degC</th>\n",
       "      <th>Salinity</th>\n",
       "      <th>SigmaTheta</th>\n",
       "    </tr>\n",
       "  </thead>\n",
       "  <tbody>\n",
       "    <tr>\n",
       "      <th>0</th>\n",
       "      <td>992</td>\n",
       "      <td>090.0 070.0</td>\n",
       "      <td>1950-02-06 19:54:00</td>\n",
       "      <td>0</td>\n",
       "      <td>14.040</td>\n",
       "      <td>33.1700</td>\n",
       "      <td>24.76600</td>\n",
       "    </tr>\n",
       "    <tr>\n",
       "      <th>1</th>\n",
       "      <td>992</td>\n",
       "      <td>090.0 070.0</td>\n",
       "      <td>1950-02-06 19:54:00</td>\n",
       "      <td>10</td>\n",
       "      <td>13.950</td>\n",
       "      <td>33.2100</td>\n",
       "      <td>24.81500</td>\n",
       "    </tr>\n",
       "    <tr>\n",
       "      <th>2</th>\n",
       "      <td>992</td>\n",
       "      <td>090.0 070.0</td>\n",
       "      <td>1950-02-06 19:54:00</td>\n",
       "      <td>20</td>\n",
       "      <td>13.900</td>\n",
       "      <td>33.2100</td>\n",
       "      <td>24.82600</td>\n",
       "    </tr>\n",
       "    <tr>\n",
       "      <th>3</th>\n",
       "      <td>992</td>\n",
       "      <td>090.0 070.0</td>\n",
       "      <td>1950-02-06 19:54:00</td>\n",
       "      <td>23</td>\n",
       "      <td>13.880</td>\n",
       "      <td>33.2100</td>\n",
       "      <td>24.83000</td>\n",
       "    </tr>\n",
       "    <tr>\n",
       "      <th>4</th>\n",
       "      <td>992</td>\n",
       "      <td>090.0 070.0</td>\n",
       "      <td>1950-02-06 19:54:00</td>\n",
       "      <td>30</td>\n",
       "      <td>13.810</td>\n",
       "      <td>33.2180</td>\n",
       "      <td>24.85100</td>\n",
       "    </tr>\n",
       "    <tr>\n",
       "      <th>...</th>\n",
       "      <td>...</td>\n",
       "      <td>...</td>\n",
       "      <td>...</td>\n",
       "      <td>...</td>\n",
       "      <td>...</td>\n",
       "      <td>...</td>\n",
       "      <td>...</td>\n",
       "    </tr>\n",
       "    <tr>\n",
       "      <th>10052</th>\n",
       "      <td>35578</td>\n",
       "      <td>090.0 070.0</td>\n",
       "      <td>2021-01-21 13:36:00</td>\n",
       "      <td>300</td>\n",
       "      <td>7.692</td>\n",
       "      <td>34.1712</td>\n",
       "      <td>26.67697</td>\n",
       "    </tr>\n",
       "    <tr>\n",
       "      <th>10053</th>\n",
       "      <td>35578</td>\n",
       "      <td>090.0 070.0</td>\n",
       "      <td>2021-01-21 13:36:00</td>\n",
       "      <td>381</td>\n",
       "      <td>7.144</td>\n",
       "      <td>34.2443</td>\n",
       "      <td>26.81386</td>\n",
       "    </tr>\n",
       "    <tr>\n",
       "      <th>10054</th>\n",
       "      <td>35578</td>\n",
       "      <td>090.0 070.0</td>\n",
       "      <td>2021-01-21 13:36:00</td>\n",
       "      <td>400</td>\n",
       "      <td>7.031</td>\n",
       "      <td>34.2746</td>\n",
       "      <td>26.85372</td>\n",
       "    </tr>\n",
       "    <tr>\n",
       "      <th>10055</th>\n",
       "      <td>35578</td>\n",
       "      <td>090.0 070.0</td>\n",
       "      <td>2021-01-21 13:36:00</td>\n",
       "      <td>500</td>\n",
       "      <td>6.293</td>\n",
       "      <td>34.3126</td>\n",
       "      <td>26.98372</td>\n",
       "    </tr>\n",
       "    <tr>\n",
       "      <th>10056</th>\n",
       "      <td>35578</td>\n",
       "      <td>090.0 070.0</td>\n",
       "      <td>2021-01-21 13:36:00</td>\n",
       "      <td>515</td>\n",
       "      <td>6.155</td>\n",
       "      <td>34.2903</td>\n",
       "      <td>26.98398</td>\n",
       "    </tr>\n",
       "  </tbody>\n",
       "</table>\n",
       "<p>10057 rows × 7 columns</p>\n",
       "</div>"
      ],
      "text/plain": [
       "       Cast_Count   Station_ID            Datetime  Depth_m  T_degC  Salinity  \\\n",
       "0             992  090.0 070.0 1950-02-06 19:54:00        0  14.040   33.1700   \n",
       "1             992  090.0 070.0 1950-02-06 19:54:00       10  13.950   33.2100   \n",
       "2             992  090.0 070.0 1950-02-06 19:54:00       20  13.900   33.2100   \n",
       "3             992  090.0 070.0 1950-02-06 19:54:00       23  13.880   33.2100   \n",
       "4             992  090.0 070.0 1950-02-06 19:54:00       30  13.810   33.2180   \n",
       "...           ...          ...                 ...      ...     ...       ...   \n",
       "10052       35578  090.0 070.0 2021-01-21 13:36:00      300   7.692   34.1712   \n",
       "10053       35578  090.0 070.0 2021-01-21 13:36:00      381   7.144   34.2443   \n",
       "10054       35578  090.0 070.0 2021-01-21 13:36:00      400   7.031   34.2746   \n",
       "10055       35578  090.0 070.0 2021-01-21 13:36:00      500   6.293   34.3126   \n",
       "10056       35578  090.0 070.0 2021-01-21 13:36:00      515   6.155   34.2903   \n",
       "\n",
       "       SigmaTheta  \n",
       "0        24.76600  \n",
       "1        24.81500  \n",
       "2        24.82600  \n",
       "3        24.83000  \n",
       "4        24.85100  \n",
       "...           ...  \n",
       "10052    26.67697  \n",
       "10053    26.81386  \n",
       "10054    26.85372  \n",
       "10055    26.98372  \n",
       "10056    26.98398  \n",
       "\n",
       "[10057 rows x 7 columns]"
      ]
     },
     "execution_count": 9,
     "metadata": {},
     "output_type": "execute_result"
    }
   ],
   "source": [
    "CalCOFI"
   ]
  },
  {
   "cell_type": "markdown",
   "id": "45adbec8-95fc-4068-81d8-89161ca11590",
   "metadata": {},
   "source": [
    "In addition, when we use `.read_csv()`, we can use the `parse_dates` argument to tell pandas to read certain column(s) as datetimes: "
   ]
  },
  {
   "cell_type": "code",
   "execution_count": 10,
   "id": "a5edb085-10a1-4171-b276-c1bac8e9b86a",
   "metadata": {
    "scrolled": true
   },
   "outputs": [
    {
     "name": "stdout",
     "output_type": "stream",
     "text": [
      "<class 'pandas.core.frame.DataFrame'>\n",
      "RangeIndex: 10057 entries, 0 to 10056\n",
      "Data columns (total 7 columns):\n",
      " #   Column      Non-Null Count  Dtype         \n",
      "---  ------      --------------  -----         \n",
      " 0   Cast_Count  10057 non-null  int64         \n",
      " 1   Station_ID  10057 non-null  object        \n",
      " 2   Datetime    10057 non-null  datetime64[ns]\n",
      " 3   Depth_m     10057 non-null  int64         \n",
      " 4   T_degC      10026 non-null  float64       \n",
      " 5   Salinity    10057 non-null  float64       \n",
      " 6   SigmaTheta  10008 non-null  float64       \n",
      "dtypes: datetime64[ns](1), float64(3), int64(2), object(1)\n",
      "memory usage: 550.1+ KB\n"
     ]
    }
   ],
   "source": [
    "CalCOFI2 = pd.read_csv(\"data/CalCOFI_subset.csv\", parse_dates=[\"Datetime\"])\n",
    "CalCOFI2.info()"
   ]
  },
  {
   "cell_type": "markdown",
   "id": "eb9d43ba-0866-4dd4-9dd3-a90eeff81d63",
   "metadata": {},
   "source": [
    "## Datetime formatting"
   ]
  },
  {
   "cell_type": "markdown",
   "id": "c7ca17dd-deb4-4953-8c8d-a0d54daaadf9",
   "metadata": {},
   "source": [
    "Of course, textual representations of datetime come in many different formats. For example, the following all specifies the same date:"
   ]
  },
  {
   "cell_type": "code",
   "execution_count": 11,
   "id": "f39d7fe4-596c-4469-8757-6b1d01671263",
   "metadata": {},
   "outputs": [],
   "source": [
    "date_1 = \"2024-08-05 3:08 PM\"\n",
    "date_2 = \"August 5, 2024, 15:08\"\n",
    "date_3 = \"5 Aug 2024 - 3:08:00 pm\"\n",
    "date_4 = \"5/8/2024 15:08:00\"\n",
    "date_5 = \"8/5/2024 15:08:00\""
   ]
  },
  {
   "cell_type": "markdown",
   "id": "9cbb095b-5376-4c91-97f5-dc50944e806c",
   "metadata": {},
   "source": [
    "To deal with the different formats, `pd.to_datetime()` accepts a `format` argument, which uses different **format codes** to specify how months, days, etc. are encoded. The documentation for format code can be found in [https://docs.python.org/3/library/datetime.html#strftime-and-strptime-behavior](https://docs.python.org/3/library/datetime.html#strftime-and-strptime-behavior). Note that when we supply a format code, the non-informational characters (e.g., ` `, `/` or `,`) need to be included too.\n",
    "\n",
    "As examples, to read the above strings into datetime, we'll need:"
   ]
  },
  {
   "cell_type": "code",
   "execution_count": 12,
   "id": "768ec2d3-8906-4eca-9e37-b749a1438c0d",
   "metadata": {},
   "outputs": [
    {
     "data": {
      "text/plain": [
       "Timestamp('2024-08-05 15:08:00')"
      ]
     },
     "metadata": {},
     "output_type": "display_data"
    }
   ],
   "source": [
    "tstamp_1 = pd.to_datetime(date_1, format=\"%Y-%m-%d %I:%M %p\")\n",
    "display(tstamp_1)"
   ]
  },
  {
   "cell_type": "code",
   "execution_count": 13,
   "id": "fb0dbdc3-ec5f-40af-9126-99c745130bb2",
   "metadata": {},
   "outputs": [
    {
     "data": {
      "text/plain": [
       "Timestamp('2024-08-05 15:08:00')"
      ]
     },
     "metadata": {},
     "output_type": "display_data"
    }
   ],
   "source": [
    "tstamp_2 = pd.to_datetime(date_2, format=\"%B %d, %Y, %H:%M\")\n",
    "display(tstamp_2)"
   ]
  },
  {
   "cell_type": "code",
   "execution_count": 14,
   "id": "db6ccae7-baff-4686-b917-354681b0249a",
   "metadata": {},
   "outputs": [
    {
     "data": {
      "text/plain": [
       "Timestamp('2024-08-05 15:08:00')"
      ]
     },
     "metadata": {},
     "output_type": "display_data"
    }
   ],
   "source": [
    "tstamp_3 = pd.to_datetime(date_3, format=\"%d %b %Y - %I:%M:%S %p\")\n",
    "display(tstamp_3)"
   ]
  },
  {
   "cell_type": "code",
   "execution_count": 15,
   "id": "ec0c75b0-7b16-4a57-8e0a-9f5bfbdbf0aa",
   "metadata": {},
   "outputs": [
    {
     "data": {
      "text/plain": [
       "Timestamp('2024-08-05 15:08:00')"
      ]
     },
     "metadata": {},
     "output_type": "display_data"
    }
   ],
   "source": [
    "tstamp_4 = pd.to_datetime(date_4, format=\"%d/%m/%Y %H:%M:%S\")\n",
    "display(tstamp_4)"
   ]
  },
  {
   "cell_type": "code",
   "execution_count": 16,
   "id": "953075f4-5564-42d9-b97a-1f737fee0e49",
   "metadata": {},
   "outputs": [
    {
     "data": {
      "text/plain": [
       "Timestamp('2024-08-05 15:08:00')"
      ]
     },
     "metadata": {},
     "output_type": "display_data"
    }
   ],
   "source": [
    "tstamp_5 = pd.to_datetime(date_5, format=\"%m/%d/%Y %H:%M:%S\")\n",
    "display(tstamp_5)"
   ]
  },
  {
   "cell_type": "markdown",
   "id": "cc1324d4-83b2-4a97-808e-cd68ce594c48",
   "metadata": {},
   "source": [
    "Conversely, the format code can also be used to print out time:"
   ]
  },
  {
   "cell_type": "code",
   "execution_count": 17,
   "id": "ca345e8f-dccc-4368-8e8a-4caeb7233ea0",
   "metadata": {},
   "outputs": [],
   "source": [
    "# create a pandas Series of time\n",
    "time_series = pd.Series(pd.to_datetime(\n",
    "    [\"2024-01-15 14:20\", \"2024-02-15 7:35\", \"2024-03-15 18:06\"]\n",
    "))"
   ]
  },
  {
   "cell_type": "code",
   "execution_count": 18,
   "id": "eb722d4d-bb03-48fe-a6c2-5d5381812a2d",
   "metadata": {},
   "outputs": [
    {
     "data": {
      "text/plain": [
       "0    Jan 15, 2024 - 02:20 PM\n",
       "1    Feb 15, 2024 - 07:35 AM\n",
       "2    Mar 15, 2024 - 06:06 PM\n",
       "dtype: object"
      ]
     },
     "execution_count": 18,
     "metadata": {},
     "output_type": "execute_result"
    }
   ],
   "source": [
    "# use strftime (string-from-time) to create the corresponding strings\n",
    "time_series.dt.strftime(\"%b %d, %Y - %I:%M %p\")"
   ]
  },
  {
   "cell_type": "markdown",
   "id": "caf3f3f2-9174-48c8-a7df-9f0f1e0d20a2",
   "metadata": {},
   "source": [
    "## Datetime comparisons"
   ]
  },
  {
   "cell_type": "markdown",
   "id": "f8e101e9-6d0f-4c8b-9a9a-0c981dde3342",
   "metadata": {},
   "source": [
    "To perform logical comparison between datetime, we can create a datetime from a scalar string, and use logical operator in the expected way:"
   ]
  },
  {
   "cell_type": "code",
   "execution_count": 19,
   "id": "aed07414-e26e-4245-9e5e-44f830a78433",
   "metadata": {},
   "outputs": [
    {
     "data": {
      "text/plain": [
       "0    False\n",
       "1    False\n",
       "2     True\n",
       "dtype: bool"
      ]
     },
     "execution_count": 19,
     "metadata": {},
     "output_type": "execute_result"
    }
   ],
   "source": [
    "time_series = pd.Series(pd.to_datetime(\n",
    "    [\"2024-01-15 14:20\", \"2024-02-15 7:35\", \"2024-03-15 18:06\"]\n",
    "))\n",
    "instant = pd.to_datetime(\"2024-02-21\")\n",
    "time_series > instant"
   ]
  },
  {
   "cell_type": "markdown",
   "id": "cd0d14f0-76b2-43a1-8a72-226610ab9b19",
   "metadata": {},
   "source": [
    "As an application, we can combine datetime comparison and `.loc[]` to extract data that are collected in the new millennium (which we defined as year ≥ 2000)"
   ]
  },
  {
   "cell_type": "code",
   "execution_count": 20,
   "id": "1c75ee8a-f839-4295-b700-c3088f791e95",
   "metadata": {},
   "outputs": [
    {
     "data": {
      "text/html": [
       "<div>\n",
       "<style scoped>\n",
       "    .dataframe tbody tr th:only-of-type {\n",
       "        vertical-align: middle;\n",
       "    }\n",
       "\n",
       "    .dataframe tbody tr th {\n",
       "        vertical-align: top;\n",
       "    }\n",
       "\n",
       "    .dataframe thead th {\n",
       "        text-align: right;\n",
       "    }\n",
       "</style>\n",
       "<table border=\"1\" class=\"dataframe\">\n",
       "  <thead>\n",
       "    <tr style=\"text-align: right;\">\n",
       "      <th></th>\n",
       "      <th>Cast_Count</th>\n",
       "      <th>Station_ID</th>\n",
       "      <th>Datetime</th>\n",
       "      <th>Depth_m</th>\n",
       "      <th>T_degC</th>\n",
       "      <th>Salinity</th>\n",
       "      <th>SigmaTheta</th>\n",
       "    </tr>\n",
       "  </thead>\n",
       "  <tbody>\n",
       "    <tr>\n",
       "      <th>7364</th>\n",
       "      <td>29359</td>\n",
       "      <td>090.0 070.0</td>\n",
       "      <td>2000-01-12 18:23:00</td>\n",
       "      <td>0</td>\n",
       "      <td>14.310</td>\n",
       "      <td>33.4100</td>\n",
       "      <td>24.89000</td>\n",
       "    </tr>\n",
       "    <tr>\n",
       "      <th>7365</th>\n",
       "      <td>29359</td>\n",
       "      <td>090.0 070.0</td>\n",
       "      <td>2000-01-12 18:23:00</td>\n",
       "      <td>2</td>\n",
       "      <td>14.310</td>\n",
       "      <td>33.4130</td>\n",
       "      <td>24.89700</td>\n",
       "    </tr>\n",
       "    <tr>\n",
       "      <th>7366</th>\n",
       "      <td>29359</td>\n",
       "      <td>090.0 070.0</td>\n",
       "      <td>2000-01-12 18:23:00</td>\n",
       "      <td>2</td>\n",
       "      <td>14.310</td>\n",
       "      <td>33.4130</td>\n",
       "      <td>NaN</td>\n",
       "    </tr>\n",
       "    <tr>\n",
       "      <th>7367</th>\n",
       "      <td>29359</td>\n",
       "      <td>090.0 070.0</td>\n",
       "      <td>2000-01-12 18:23:00</td>\n",
       "      <td>10</td>\n",
       "      <td>14.290</td>\n",
       "      <td>33.4130</td>\n",
       "      <td>24.90100</td>\n",
       "    </tr>\n",
       "    <tr>\n",
       "      <th>7368</th>\n",
       "      <td>29359</td>\n",
       "      <td>090.0 070.0</td>\n",
       "      <td>2000-01-12 18:23:00</td>\n",
       "      <td>20</td>\n",
       "      <td>14.280</td>\n",
       "      <td>33.4130</td>\n",
       "      <td>24.90400</td>\n",
       "    </tr>\n",
       "    <tr>\n",
       "      <th>...</th>\n",
       "      <td>...</td>\n",
       "      <td>...</td>\n",
       "      <td>...</td>\n",
       "      <td>...</td>\n",
       "      <td>...</td>\n",
       "      <td>...</td>\n",
       "      <td>...</td>\n",
       "    </tr>\n",
       "    <tr>\n",
       "      <th>10052</th>\n",
       "      <td>35578</td>\n",
       "      <td>090.0 070.0</td>\n",
       "      <td>2021-01-21 13:36:00</td>\n",
       "      <td>300</td>\n",
       "      <td>7.692</td>\n",
       "      <td>34.1712</td>\n",
       "      <td>26.67697</td>\n",
       "    </tr>\n",
       "    <tr>\n",
       "      <th>10053</th>\n",
       "      <td>35578</td>\n",
       "      <td>090.0 070.0</td>\n",
       "      <td>2021-01-21 13:36:00</td>\n",
       "      <td>381</td>\n",
       "      <td>7.144</td>\n",
       "      <td>34.2443</td>\n",
       "      <td>26.81386</td>\n",
       "    </tr>\n",
       "    <tr>\n",
       "      <th>10054</th>\n",
       "      <td>35578</td>\n",
       "      <td>090.0 070.0</td>\n",
       "      <td>2021-01-21 13:36:00</td>\n",
       "      <td>400</td>\n",
       "      <td>7.031</td>\n",
       "      <td>34.2746</td>\n",
       "      <td>26.85372</td>\n",
       "    </tr>\n",
       "    <tr>\n",
       "      <th>10055</th>\n",
       "      <td>35578</td>\n",
       "      <td>090.0 070.0</td>\n",
       "      <td>2021-01-21 13:36:00</td>\n",
       "      <td>500</td>\n",
       "      <td>6.293</td>\n",
       "      <td>34.3126</td>\n",
       "      <td>26.98372</td>\n",
       "    </tr>\n",
       "    <tr>\n",
       "      <th>10056</th>\n",
       "      <td>35578</td>\n",
       "      <td>090.0 070.0</td>\n",
       "      <td>2021-01-21 13:36:00</td>\n",
       "      <td>515</td>\n",
       "      <td>6.155</td>\n",
       "      <td>34.2903</td>\n",
       "      <td>26.98398</td>\n",
       "    </tr>\n",
       "  </tbody>\n",
       "</table>\n",
       "<p>2693 rows × 7 columns</p>\n",
       "</div>"
      ],
      "text/plain": [
       "       Cast_Count   Station_ID            Datetime  Depth_m  T_degC  Salinity  \\\n",
       "7364        29359  090.0 070.0 2000-01-12 18:23:00        0  14.310   33.4100   \n",
       "7365        29359  090.0 070.0 2000-01-12 18:23:00        2  14.310   33.4130   \n",
       "7366        29359  090.0 070.0 2000-01-12 18:23:00        2  14.310   33.4130   \n",
       "7367        29359  090.0 070.0 2000-01-12 18:23:00       10  14.290   33.4130   \n",
       "7368        29359  090.0 070.0 2000-01-12 18:23:00       20  14.280   33.4130   \n",
       "...           ...          ...                 ...      ...     ...       ...   \n",
       "10052       35578  090.0 070.0 2021-01-21 13:36:00      300   7.692   34.1712   \n",
       "10053       35578  090.0 070.0 2021-01-21 13:36:00      381   7.144   34.2443   \n",
       "10054       35578  090.0 070.0 2021-01-21 13:36:00      400   7.031   34.2746   \n",
       "10055       35578  090.0 070.0 2021-01-21 13:36:00      500   6.293   34.3126   \n",
       "10056       35578  090.0 070.0 2021-01-21 13:36:00      515   6.155   34.2903   \n",
       "\n",
       "       SigmaTheta  \n",
       "7364     24.89000  \n",
       "7365     24.89700  \n",
       "7366          NaN  \n",
       "7367     24.90100  \n",
       "7368     24.90400  \n",
       "...           ...  \n",
       "10052    26.67697  \n",
       "10053    26.81386  \n",
       "10054    26.85372  \n",
       "10055    26.98372  \n",
       "10056    26.98398  \n",
       "\n",
       "[2693 rows x 7 columns]"
      ]
     },
     "execution_count": 20,
     "metadata": {},
     "output_type": "execute_result"
    }
   ],
   "source": [
    "CalCOFI.loc[\n",
    "    (CalCOFI[\"Datetime\"] >= pd.to_datetime(\"2000-01-01\"))\n",
    "]"
   ]
  },
  {
   "cell_type": "markdown",
   "id": "67e67361-85d9-4916-bef4-0d3e482ba0c9",
   "metadata": {},
   "source": [
    "## Extracting parts of a datetime"
   ]
  },
  {
   "cell_type": "markdown",
   "id": "9fbabd04-a193-4ab8-a1be-aedcfbbcf79e",
   "metadata": {},
   "source": [
    "Sometimes you are interested in parts of the datetime and not the whole datetime (e.g., in climatology studies you may be interested in the day of year but not the year itself). You are access these as attributes of the **datetime accessor** `.dt` of the pandas `Series` (again, a column of a `DataFrame` is a `Series`). Examples include:\n",
    "\n",
    "+ `.dt.year`: year of the datetimes\n",
    "+ `.dt.month`: month of the datetimes\n",
    "+ `.dt.day`: day of the datetimes\n",
    "+ `.dt.hour`: hour of the datetimes\n",
    "+ `.dt.minute`: minute of the datetimes\n",
    "+ `.dt.dayofyear`: day of year of the datetimes\n",
    "\n",
    "For a full list, [see https://pandas.pydata.org/docs/user_guide/timeseries.html#time-date-components](https://pandas.pydata.org/docs/user_guide/timeseries.html#time-date-components)"
   ]
  },
  {
   "cell_type": "markdown",
   "id": "c151adbb-4631-411b-94b4-5ab7a000f264",
   "metadata": {},
   "source": [
    "As an example, let's extract the day of year from the datetimes in CalCOFI:"
   ]
  },
  {
   "cell_type": "code",
   "execution_count": 21,
   "id": "e09359aa-e13e-4826-93e3-1c24fa5e0af0",
   "metadata": {},
   "outputs": [
    {
     "data": {
      "text/html": [
       "<div>\n",
       "<style scoped>\n",
       "    .dataframe tbody tr th:only-of-type {\n",
       "        vertical-align: middle;\n",
       "    }\n",
       "\n",
       "    .dataframe tbody tr th {\n",
       "        vertical-align: top;\n",
       "    }\n",
       "\n",
       "    .dataframe thead th {\n",
       "        text-align: right;\n",
       "    }\n",
       "</style>\n",
       "<table border=\"1\" class=\"dataframe\">\n",
       "  <thead>\n",
       "    <tr style=\"text-align: right;\">\n",
       "      <th></th>\n",
       "      <th>Cast_Count</th>\n",
       "      <th>Station_ID</th>\n",
       "      <th>Datetime</th>\n",
       "      <th>Depth_m</th>\n",
       "      <th>T_degC</th>\n",
       "      <th>Salinity</th>\n",
       "      <th>SigmaTheta</th>\n",
       "    </tr>\n",
       "  </thead>\n",
       "  <tbody>\n",
       "    <tr>\n",
       "      <th>1</th>\n",
       "      <td>992</td>\n",
       "      <td>090.0 070.0</td>\n",
       "      <td>1950-02-06 19:54:00</td>\n",
       "      <td>10</td>\n",
       "      <td>13.950</td>\n",
       "      <td>33.2100</td>\n",
       "      <td>24.81500</td>\n",
       "    </tr>\n",
       "    <tr>\n",
       "      <th>28</th>\n",
       "      <td>1267</td>\n",
       "      <td>090.0 070.0</td>\n",
       "      <td>1950-04-08 17:30:00</td>\n",
       "      <td>10</td>\n",
       "      <td>14.980</td>\n",
       "      <td>33.4000</td>\n",
       "      <td>24.74400</td>\n",
       "    </tr>\n",
       "    <tr>\n",
       "      <th>62</th>\n",
       "      <td>1387</td>\n",
       "      <td>090.0 070.0</td>\n",
       "      <td>1950-05-07 17:36:00</td>\n",
       "      <td>10</td>\n",
       "      <td>14.170</td>\n",
       "      <td>33.3080</td>\n",
       "      <td>24.84500</td>\n",
       "    </tr>\n",
       "    <tr>\n",
       "      <th>98</th>\n",
       "      <td>1477</td>\n",
       "      <td>090.0 070.0</td>\n",
       "      <td>1950-06-13 00:42:00</td>\n",
       "      <td>10</td>\n",
       "      <td>14.510</td>\n",
       "      <td>33.1110</td>\n",
       "      <td>24.62200</td>\n",
       "    </tr>\n",
       "    <tr>\n",
       "      <th>130</th>\n",
       "      <td>1589</td>\n",
       "      <td>090.0 070.0</td>\n",
       "      <td>1950-07-13 00:54:00</td>\n",
       "      <td>10</td>\n",
       "      <td>16.550</td>\n",
       "      <td>33.1020</td>\n",
       "      <td>24.16400</td>\n",
       "    </tr>\n",
       "    <tr>\n",
       "      <th>...</th>\n",
       "      <td>...</td>\n",
       "      <td>...</td>\n",
       "      <td>...</td>\n",
       "      <td>...</td>\n",
       "      <td>...</td>\n",
       "      <td>...</td>\n",
       "      <td>...</td>\n",
       "    </tr>\n",
       "    <tr>\n",
       "      <th>9913</th>\n",
       "      <td>35250</td>\n",
       "      <td>090.0 070.0</td>\n",
       "      <td>2019-11-09 01:24:00</td>\n",
       "      <td>10</td>\n",
       "      <td>16.983</td>\n",
       "      <td>33.3950</td>\n",
       "      <td>24.28840</td>\n",
       "    </tr>\n",
       "    <tr>\n",
       "      <th>9944</th>\n",
       "      <td>35354</td>\n",
       "      <td>090.0 070.0</td>\n",
       "      <td>2020-01-09 18:13:00</td>\n",
       "      <td>10</td>\n",
       "      <td>15.054</td>\n",
       "      <td>33.3427</td>\n",
       "      <td>24.68417</td>\n",
       "    </tr>\n",
       "    <tr>\n",
       "      <th>9978</th>\n",
       "      <td>35429</td>\n",
       "      <td>090.0 070.0</td>\n",
       "      <td>2020-07-16 23:40:00</td>\n",
       "      <td>10</td>\n",
       "      <td>17.114</td>\n",
       "      <td>33.6188</td>\n",
       "      <td>24.42921</td>\n",
       "    </tr>\n",
       "    <tr>\n",
       "      <th>10015</th>\n",
       "      <td>35500</td>\n",
       "      <td>090.0 070.0</td>\n",
       "      <td>2020-10-14 23:52:00</td>\n",
       "      <td>10</td>\n",
       "      <td>17.373</td>\n",
       "      <td>33.3346</td>\n",
       "      <td>24.14988</td>\n",
       "    </tr>\n",
       "    <tr>\n",
       "      <th>10037</th>\n",
       "      <td>35578</td>\n",
       "      <td>090.0 070.0</td>\n",
       "      <td>2021-01-21 13:36:00</td>\n",
       "      <td>10</td>\n",
       "      <td>15.092</td>\n",
       "      <td>33.4561</td>\n",
       "      <td>24.76328</td>\n",
       "    </tr>\n",
       "  </tbody>\n",
       "</table>\n",
       "<p>348 rows × 7 columns</p>\n",
       "</div>"
      ],
      "text/plain": [
       "       Cast_Count   Station_ID            Datetime  Depth_m  T_degC  Salinity  \\\n",
       "1             992  090.0 070.0 1950-02-06 19:54:00       10  13.950   33.2100   \n",
       "28           1267  090.0 070.0 1950-04-08 17:30:00       10  14.980   33.4000   \n",
       "62           1387  090.0 070.0 1950-05-07 17:36:00       10  14.170   33.3080   \n",
       "98           1477  090.0 070.0 1950-06-13 00:42:00       10  14.510   33.1110   \n",
       "130          1589  090.0 070.0 1950-07-13 00:54:00       10  16.550   33.1020   \n",
       "...           ...          ...                 ...      ...     ...       ...   \n",
       "9913        35250  090.0 070.0 2019-11-09 01:24:00       10  16.983   33.3950   \n",
       "9944        35354  090.0 070.0 2020-01-09 18:13:00       10  15.054   33.3427   \n",
       "9978        35429  090.0 070.0 2020-07-16 23:40:00       10  17.114   33.6188   \n",
       "10015       35500  090.0 070.0 2020-10-14 23:52:00       10  17.373   33.3346   \n",
       "10037       35578  090.0 070.0 2021-01-21 13:36:00       10  15.092   33.4561   \n",
       "\n",
       "       SigmaTheta  \n",
       "1        24.81500  \n",
       "28       24.74400  \n",
       "62       24.84500  \n",
       "98       24.62200  \n",
       "130      24.16400  \n",
       "...           ...  \n",
       "9913     24.28840  \n",
       "9944     24.68417  \n",
       "9978     24.42921  \n",
       "10015    24.14988  \n",
       "10037    24.76328  \n",
       "\n",
       "[348 rows x 7 columns]"
      ]
     },
     "metadata": {},
     "output_type": "display_data"
    }
   ],
   "source": [
    "# select one single depth to look at, to reduce duplication of dates\n",
    "CalCOFI_10 = CalCOFI.loc[CalCOFI[\"Depth_m\"]==10]\n",
    "display(CalCOFI_10)"
   ]
  },
  {
   "cell_type": "code",
   "execution_count": 22,
   "id": "bb89cee0-c648-40e7-a45b-2d37fcb4f3af",
   "metadata": {},
   "outputs": [
    {
     "data": {
      "text/plain": [
       "1         37\n",
       "28        98\n",
       "62       127\n",
       "98       164\n",
       "130      194\n",
       "        ... \n",
       "9913     313\n",
       "9944       9\n",
       "9978     198\n",
       "10015    288\n",
       "10037     21\n",
       "Name: Datetime, Length: 348, dtype: int32"
      ]
     },
     "execution_count": 22,
     "metadata": {},
     "output_type": "execute_result"
    }
   ],
   "source": [
    "# extract day of year\n",
    "CalCOFI_10[\"Datetime\"].dt.dayofyear"
   ]
  },
  {
   "cell_type": "code",
   "execution_count": null,
   "id": "315d7f5b-7f7b-439e-ac8a-f497ee2d7d9d",
   "metadata": {},
   "outputs": [],
   "source": []
  }
 ],
 "metadata": {
  "kernelspec": {
   "display_name": "Python 3 (ipykernel)",
   "language": "python",
   "name": "python3"
  },
  "language_info": {
   "codemirror_mode": {
    "name": "ipython",
    "version": 3
   },
   "file_extension": ".py",
   "mimetype": "text/x-python",
   "name": "python",
   "nbconvert_exporter": "python",
   "pygments_lexer": "ipython3",
   "version": "3.12.8"
  }
 },
 "nbformat": 4,
 "nbformat_minor": 5
}
