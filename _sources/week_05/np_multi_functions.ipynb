{
 "cells": [
  {
   "cell_type": "markdown",
   "id": "4b3d4e0c-67cb-4c70-a7bb-77f7dd3761c7",
   "metadata": {},
   "source": [
    "# Numpy functions on multi-dimensional arrays"
   ]
  },
  {
   "cell_type": "code",
   "execution_count": 2,
   "id": "d87ce6d9-9b9d-4257-88f3-2e46ddd9ce2e",
   "metadata": {},
   "outputs": [],
   "source": [
    "# initialization\n",
    "import numpy as np"
   ]
  },
  {
   "cell_type": "markdown",
   "id": "a9d72e67-860e-4fb3-b2d2-0dd2f4b02a15",
   "metadata": {},
   "source": [
    "## Array creation and reshaping"
   ]
  },
  {
   "cell_type": "markdown",
   "id": "68d8db65-a9e4-4e04-91a7-621ecfea48a7",
   "metadata": {},
   "source": [
    "Functions such as `np.zeros()` and `np.full()` can be used to create multi-dimensional arrays. The only change is that instead of supplying the size as a scalar, we specify the shape of the output. For example:"
   ]
  },
  {
   "cell_type": "code",
   "execution_count": 4,
   "id": "9028bb47-c743-487e-9ff7-91bd0a543693",
   "metadata": {},
   "outputs": [
    {
     "data": {
      "text/plain": [
       "array([[[0., 0.],\n",
       "        [0., 0.],\n",
       "        [0., 0.],\n",
       "        [0., 0.]],\n",
       "\n",
       "       [[0., 0.],\n",
       "        [0., 0.],\n",
       "        [0., 0.],\n",
       "        [0., 0.]],\n",
       "\n",
       "       [[0., 0.],\n",
       "        [0., 0.],\n",
       "        [0., 0.],\n",
       "        [0., 0.]]])"
      ]
     },
     "execution_count": 4,
     "metadata": {},
     "output_type": "execute_result"
    }
   ],
   "source": [
    "np.zeros((3,4,2)) # 3 sheets, 4 rows, 2 columns"
   ]
  },
  {
   "cell_type": "code",
   "execution_count": 5,
   "id": "0a42c369-8f45-4286-9517-901b7ac5ea83",
   "metadata": {},
   "outputs": [
    {
     "data": {
      "text/plain": [
       "array([[1, 1, 1, 1],\n",
       "       [1, 1, 1, 1],\n",
       "       [1, 1, 1, 1]])"
      ]
     },
     "execution_count": 5,
     "metadata": {},
     "output_type": "execute_result"
    }
   ],
   "source": [
    "np.full((3, 4), 1) # 3 rows, 4 columns, value = 1"
   ]
  },
  {
   "cell_type": "markdown",
   "id": "3f38ff3c-2986-4a39-9e4c-7c6f9e549d4c",
   "metadata": {},
   "source": [
    "More generally, we can create a 1D array, and then reshape it into the desired shape. This can be achieved using the `.reshape()` method. An example:"
   ]
  },
  {
   "cell_type": "code",
   "execution_count": 10,
   "id": "46dc738b-31a3-4ac4-bffd-a866a51a8626",
   "metadata": {},
   "outputs": [
    {
     "data": {
      "text/plain": [
       "array([[ 0,  1,  2,  3],\n",
       "       [ 4,  5,  6,  7],\n",
       "       [ 8,  9, 10, 11]])"
      ]
     },
     "execution_count": 10,
     "metadata": {},
     "output_type": "execute_result"
    }
   ],
   "source": [
    "np.arange(12).reshape((3, 4))"
   ]
  },
  {
   "cell_type": "markdown",
   "id": "a1f0fadc-074e-4300-bc8e-1ff69fe348cc",
   "metadata": {},
   "source": [
    "Note that when we reshape, values increment happened first to the last dimensions, then work its way up."
   ]
  },
  {
   "cell_type": "markdown",
   "id": "d5da9654-c30d-43b5-828a-f19124a534cc",
   "metadata": {},
   "source": [
    "The reverse of `.reshape()` is `.flatten()`, e.g.,"
   ]
  },
  {
   "cell_type": "code",
   "execution_count": 12,
   "id": "ccb076fd-284c-451b-94ff-e614a77c5dc1",
   "metadata": {},
   "outputs": [
    {
     "data": {
      "text/plain": [
       "array([1, 3, 5, 7, 2, 4, 6, 8])"
      ]
     },
     "execution_count": 12,
     "metadata": {},
     "output_type": "execute_result"
    }
   ],
   "source": [
    "x = np.array([[1, 3, 5, 7], [2, 4, 6, 8]])\n",
    "x.flatten()"
   ]
  },
  {
   "cell_type": "markdown",
   "id": "7c35ee94-c90b-4e4b-975e-7aff4e4750b1",
   "metadata": {},
   "source": [
    "Finally, sometimes we want to exchange the rows and columns of a numpy array. Such operation is known as \"transposition\" and can be achieved using the `.transpose()` method"
   ]
  },
  {
   "cell_type": "code",
   "execution_count": 13,
   "id": "1d90e446-442a-4622-b184-ecd1679cb407",
   "metadata": {},
   "outputs": [
    {
     "data": {
      "text/plain": [
       "array([[1, 2],\n",
       "       [3, 4],\n",
       "       [5, 6],\n",
       "       [7, 8]])"
      ]
     },
     "execution_count": 13,
     "metadata": {},
     "output_type": "execute_result"
    }
   ],
   "source": [
    "x.transpose()"
   ]
  },
  {
   "cell_type": "markdown",
   "id": "0268832e-fc3b-4282-a94b-79b63c0174d1",
   "metadata": {},
   "source": [
    "## Mapping functions"
   ]
  },
  {
   "cell_type": "markdown",
   "id": "73eb53de-07fd-4833-bdac-025c64cf7d59",
   "metadata": {},
   "source": [
    "The mapping functions in numpy can also be applied to multi-dimensional array. The result is somewhat expected: the mapping is applied element-wise and the output array has the same dimension as the input array. Example:"
   ]
  },
  {
   "cell_type": "code",
   "execution_count": 15,
   "id": "b39bce4d-d62c-45ea-92df-28604b1a4384",
   "metadata": {},
   "outputs": [
    {
     "data": {
      "text/plain": [
       "array([[ 0.   ,  0.5  ,  0.866,  1.   ],\n",
       "       [-0.   ,  0.866,  0.866,  0.   ]])"
      ]
     },
     "execution_count": 15,
     "metadata": {},
     "output_type": "execute_result"
    }
   ],
   "source": [
    "angles = np.array([\n",
    "    [0, np.pi / 6, np.pi/3, np.pi / 2],\n",
    "    [-np.pi, -4 * np.pi /3, -5 * np.pi / 3, -2 * np.pi]\n",
    "])\n",
    "\n",
    "np.round(np.sin(angles), 3)"
   ]
  },
  {
   "cell_type": "markdown",
   "id": "c3b664ea-59b3-440b-86f1-6d017ef9da29",
   "metadata": {},
   "source": [
    "## Reduction functions"
   ]
  },
  {
   "cell_type": "markdown",
   "id": "586ef53e-4eb0-497c-be1c-89d505b8053a",
   "metadata": {},
   "source": [
    "By default, reduction function will reduce a multi-dimensional array to a scalar, e.g.,"
   ]
  },
  {
   "cell_type": "code",
   "execution_count": 16,
   "id": "8d2885e6-65c1-442c-8768-e68a98deb22b",
   "metadata": {},
   "outputs": [
    {
     "data": {
      "text/plain": [
       "8"
      ]
     },
     "execution_count": 16,
     "metadata": {},
     "output_type": "execute_result"
    }
   ],
   "source": [
    "x = np.array([[1, 3, 5, 7], [2, 4, 6, 8]])\n",
    "np.max(x)"
   ]
  },
  {
   "cell_type": "markdown",
   "id": "8162fcc3-8d7d-432e-b81b-8116937e8e8e",
   "metadata": {},
   "source": [
    "However, more interesting (and useful) behavior can be obtained by supplying the `axis` argument, which tells numpy which dimension should the reduction be applied on.\n",
    "\n",
    "For example, setting `axis=0` for a 2D array will apply the reduction on the first dimension, i.e., row:"
   ]
  },
  {
   "cell_type": "code",
   "execution_count": 17,
   "id": "52911903-2ae4-4a0f-b2cb-6d38fc47c110",
   "metadata": {},
   "outputs": [
    {
     "data": {
      "text/plain": [
       "array([2, 4, 6, 8])"
      ]
     },
     "execution_count": 17,
     "metadata": {},
     "output_type": "execute_result"
    }
   ],
   "source": [
    "np.max(x, axis=0)"
   ]
  },
  {
   "cell_type": "markdown",
   "id": "227adb5e-5c76-4d35-8865-ae32a11bbcf9",
   "metadata": {},
   "source": [
    "Whereas setting `axis=1` for a 1D array will apply the reduction on the second dimension, i.e., column:"
   ]
  },
  {
   "cell_type": "code",
   "execution_count": 18,
   "id": "73d0ed92-f8cb-4cf0-ad5a-565c2c520ade",
   "metadata": {},
   "outputs": [
    {
     "data": {
      "text/plain": [
       "array([7, 8])"
      ]
     },
     "execution_count": 18,
     "metadata": {},
     "output_type": "execute_result"
    }
   ],
   "source": [
    "np.max(x, axis=1)"
   ]
  },
  {
   "cell_type": "markdown",
   "id": "346e7edf-ca49-45c5-a030-84832a9d6d6f",
   "metadata": {},
   "source": [
    "The idea also applies to 3D arrays, where `axis=0` corresponds to sheets, `axis=1` corresponds to rows, and `axis=2` corresponds to column:"
   ]
  },
  {
   "cell_type": "code",
   "execution_count": 19,
   "id": "85ad2f20-a5dc-46e1-baef-fa5a41795f18",
   "metadata": {},
   "outputs": [],
   "source": [
    "y = np.array([\n",
    "    [\n",
    "        [1, 2, 3, 4],\n",
    "        [5, 6, 7, 8]\n",
    "    ],[\n",
    "        [-2, -1, 1, 2],\n",
    "        [-4, -3, 3, 4]\n",
    "    ],[\n",
    "        [0, 1, 0, 1],\n",
    "        [1, 1, 0, 0]\n",
    "    ]\n",
    "    \n",
    "])"
   ]
  },
  {
   "cell_type": "code",
   "execution_count": 21,
   "id": "f2638943-382c-4022-9d27-f856ea2e98c7",
   "metadata": {},
   "outputs": [
    {
     "data": {
      "text/plain": [
       "array([[2.5, 6.5],\n",
       "       [0. , 0. ],\n",
       "       [0.5, 0.5]])"
      ]
     },
     "execution_count": 21,
     "metadata": {},
     "output_type": "execute_result"
    }
   ],
   "source": [
    "np.mean(y, axis=2)"
   ]
  },
  {
   "cell_type": "markdown",
   "id": "d1f1f33b-ed0d-408e-8adb-30f1782413fb",
   "metadata": {},
   "source": [
    "You can also apply reduction across multiple axes at once. For example, we can compute the average over both rows and columns for each sheet:"
   ]
  },
  {
   "cell_type": "code",
   "execution_count": 23,
   "id": "a53f5c6e-1bb9-48d1-9b71-369440d39493",
   "metadata": {},
   "outputs": [
    {
     "data": {
      "text/plain": [
       "array([4.5, 0. , 0.5])"
      ]
     },
     "execution_count": 23,
     "metadata": {},
     "output_type": "execute_result"
    }
   ],
   "source": [
    "np.mean(y, axis=(1,2))"
   ]
  },
  {
   "cell_type": "code",
   "execution_count": null,
   "id": "00d5b39d-a21f-47a8-b4fe-ff7ba2362ec7",
   "metadata": {},
   "outputs": [],
   "source": []
  }
 ],
 "metadata": {
  "kernelspec": {
   "display_name": "Python 3 (ipykernel)",
   "language": "python",
   "name": "python3"
  },
  "language_info": {
   "codemirror_mode": {
    "name": "ipython",
    "version": 3
   },
   "file_extension": ".py",
   "mimetype": "text/x-python",
   "name": "python",
   "nbconvert_exporter": "python",
   "pygments_lexer": "ipython3",
   "version": "3.12.8"
  }
 },
 "nbformat": 4,
 "nbformat_minor": 5
}
