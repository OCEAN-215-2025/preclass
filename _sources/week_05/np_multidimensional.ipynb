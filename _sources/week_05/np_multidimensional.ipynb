{
 "cells": [
  {
   "cell_type": "markdown",
   "id": "be8a2151-d3e1-445b-a3aa-719afacedb8a",
   "metadata": {},
   "source": [
    "# Multi-dimensional arrays in numpy"
   ]
  },
  {
   "cell_type": "code",
   "execution_count": 1,
   "id": "1a8675ce-400d-4f43-9d64-8a16f14979d3",
   "metadata": {},
   "outputs": [],
   "source": [
    "# initialization\n",
    "import numpy as np"
   ]
  },
  {
   "cell_type": "markdown",
   "id": "22d916db-5180-4c6b-af0c-27cf584e05ec",
   "metadata": {},
   "source": [
    "## Some examples"
   ]
  },
  {
   "cell_type": "markdown",
   "id": "27050249-3041-4760-af33-4824067ddaa4",
   "metadata": {},
   "source": [
    "Often times we need to model data that is more than one-dimensional. For example:\n",
    "+ Suppose we measure the ocean surface temperature over a range of latitudes and longitudes. The resulting data is naturally two-dimensional. If we include depth, the data will become three-dimensional.\n",
    "+ Suppose we measure the variations of temperature and salinity at a particular location with time. The timestamps, temperature readings, and salinity readings can each be represented by a 1D array of size n, but we may opt to put these together as a n-by-3 array instead."
   ]
  },
  {
   "cell_type": "markdown",
   "id": "93ea93c5-b1fd-443b-96f1-06360ec6e122",
   "metadata": {},
   "source": [
    "In numpy, a multi-dimensional array can be created from a regularly nested list, e.g.,"
   ]
  },
  {
   "cell_type": "code",
   "execution_count": 3,
   "id": "8f0bc332-8ebd-4562-af8e-fe56811db7fb",
   "metadata": {},
   "outputs": [
    {
     "name": "stdout",
     "output_type": "stream",
     "text": [
      "[[1 3 5 7]\n",
      " [2 4 6 8]]\n"
     ]
    }
   ],
   "source": [
    "x = np.array([[1, 3, 5, 7], [2, 4, 6, 8]])\n",
    "print(x)"
   ]
  },
  {
   "cell_type": "markdown",
   "id": "8888c084-082c-4432-b422-252f92d28d6f",
   "metadata": {},
   "source": [
    "Note that this array has 8 elements in arranged in a 2-row by 4-column structure. If we look at its attributes, we get:"
   ]
  },
  {
   "cell_type": "code",
   "execution_count": 4,
   "id": "d8591e39-ea61-497d-9c9b-90734d304e4a",
   "metadata": {},
   "outputs": [
    {
     "data": {
      "text/plain": [
       "8"
      ]
     },
     "execution_count": 4,
     "metadata": {},
     "output_type": "execute_result"
    }
   ],
   "source": [
    "x.size"
   ]
  },
  {
   "cell_type": "code",
   "execution_count": 5,
   "id": "5b5bc9b9-6c27-4edf-bc11-168147acb3ca",
   "metadata": {},
   "outputs": [
    {
     "data": {
      "text/plain": [
       "(2, 4)"
      ]
     },
     "execution_count": 5,
     "metadata": {},
     "output_type": "execute_result"
    }
   ],
   "source": [
    "x.shape"
   ]
  },
  {
   "cell_type": "code",
   "execution_count": 7,
   "id": "c29614ec-7c39-415e-be09-2aef703540cb",
   "metadata": {},
   "outputs": [
    {
     "data": {
      "text/plain": [
       "2"
      ]
     },
     "execution_count": 7,
     "metadata": {},
     "output_type": "execute_result"
    }
   ],
   "source": [
    "x.ndim"
   ]
  },
  {
   "cell_type": "markdown",
   "id": "7f57674f-372b-4d2d-9445-862922ce01f6",
   "metadata": {},
   "source": [
    "Thus, the first index of `x.shape` is the number of rows, while the second index is the number of columns"
   ]
  },
  {
   "cell_type": "markdown",
   "id": "e758460b-decb-478d-942a-e1e8a2e22ccb",
   "metadata": {},
   "source": [
    "Next, here is an example of a 3-dimensional array (note the use of *optional* indentation to make the structure of the array clearer):"
   ]
  },
  {
   "cell_type": "code",
   "execution_count": 37,
   "id": "1379fa67-23d1-4ce1-9a47-e36ded7ae3cd",
   "metadata": {},
   "outputs": [],
   "source": [
    "y = np.array([\n",
    "    [\n",
    "        [1, 2, 3, 4],\n",
    "        [5, 6, 7, 8]\n",
    "    ],[\n",
    "        [-2, -1, 1, 2],\n",
    "        [-4, -3, 3, 4]\n",
    "    ],[\n",
    "        [0, 1, 0, 1],\n",
    "        [1, 1, 0, 0]\n",
    "    ]\n",
    "    \n",
    "])"
   ]
  },
  {
   "cell_type": "code",
   "execution_count": 10,
   "id": "e57c1110-3420-4d37-8e8c-bcae35987345",
   "metadata": {},
   "outputs": [
    {
     "name": "stdout",
     "output_type": "stream",
     "text": [
      "[[[ 1  2  3  4]\n",
      "  [ 5  6  7  8]]\n",
      "\n",
      " [[-2 -1  1  2]\n",
      "  [-4 -3  3  4]]\n",
      "\n",
      " [[ 0  1  0  1]\n",
      "  [ 1  1  0  0]]]\n"
     ]
    }
   ],
   "source": [
    "print(y)"
   ]
  },
  {
   "cell_type": "markdown",
   "id": "b5922e57-1dec-4f04-94eb-a66fe3056f7e",
   "metadata": {},
   "source": [
    "We can think of `y` as consisting of 3 \"sheets\", each sheet having 2 rows and 4 columns. The corresponding size, shape, and number of dimension of `y` are:"
   ]
  },
  {
   "cell_type": "code",
   "execution_count": 11,
   "id": "c0a8eb48-ee2f-4bc0-a08c-9875315e86f6",
   "metadata": {},
   "outputs": [
    {
     "data": {
      "text/plain": [
       "24"
      ]
     },
     "execution_count": 11,
     "metadata": {},
     "output_type": "execute_result"
    }
   ],
   "source": [
    "y.size"
   ]
  },
  {
   "cell_type": "code",
   "execution_count": 12,
   "id": "cea1638a-fd28-4135-a1dd-5ae40d79dbe2",
   "metadata": {},
   "outputs": [
    {
     "data": {
      "text/plain": [
       "(3, 2, 4)"
      ]
     },
     "execution_count": 12,
     "metadata": {},
     "output_type": "execute_result"
    }
   ],
   "source": [
    "y.shape"
   ]
  },
  {
   "cell_type": "code",
   "execution_count": 13,
   "id": "0b82176a-5eb5-4c47-8cd0-d68a25d15f83",
   "metadata": {},
   "outputs": [
    {
     "data": {
      "text/plain": [
       "3"
      ]
     },
     "execution_count": 13,
     "metadata": {},
     "output_type": "execute_result"
    }
   ],
   "source": [
    "y.ndim"
   ]
  },
  {
   "cell_type": "markdown",
   "id": "e4e9943d-20e9-4b69-af82-4827dad3d8a7",
   "metadata": {},
   "source": [
    "## Indexing a multi-dimensional array"
   ]
  },
  {
   "cell_type": "markdown",
   "id": "61c9dd35-28f7-4609-a8a9-2b7ab06c0c03",
   "metadata": {},
   "source": [
    "An n-dimensional array can be indexed by a mixture of integers and slices of total length n, separated by commas. For example, if we want to obtain the element at the 2nd row (index = 1) and 3rd column (index = 2) of `x`, we can do:"
   ]
  },
  {
   "cell_type": "code",
   "execution_count": 14,
   "id": "46867ad4-6f2b-4148-aa94-61a4cc227699",
   "metadata": {},
   "outputs": [
    {
     "data": {
      "text/plain": [
       "6"
      ]
     },
     "execution_count": 14,
     "metadata": {},
     "output_type": "execute_result"
    }
   ],
   "source": [
    "x[1, 2]"
   ]
  },
  {
   "cell_type": "markdown",
   "id": "e94dd285-2957-4f6d-9eac-f18f103e3d80",
   "metadata": {},
   "source": [
    "Similarly, if we want to extract the 2nd and 3rd column of every row, we can do:"
   ]
  },
  {
   "cell_type": "code",
   "execution_count": 15,
   "id": "8bc1ef5f-4cf5-49a6-a711-480789aed4ea",
   "metadata": {},
   "outputs": [
    {
     "data": {
      "text/plain": [
       "array([[3, 5],\n",
       "       [4, 6]])"
      ]
     },
     "execution_count": 15,
     "metadata": {},
     "output_type": "execute_result"
    }
   ],
   "source": [
    "x[:, 1:3]"
   ]
  },
  {
   "cell_type": "markdown",
   "id": "a37e0bdb-7d1e-4ae6-91c0-44408c4823b7",
   "metadata": {},
   "source": [
    "Note that the first `:` basically says \"extract all rows\", while the `1:3` says \"extract columns starting from index 1 and up to but not including index 3\""
   ]
  },
  {
   "cell_type": "markdown",
   "id": "c85f1771-6681-411e-9425-0340fd2f9cad",
   "metadata": {},
   "source": [
    "The same idea can be extended to n-dimensional array. Say we want to obtain the 2nd and 3rd column of every row of the first two sheets, we may do:"
   ]
  },
  {
   "cell_type": "code",
   "execution_count": 16,
   "id": "b79e9ec6-4beb-417d-939a-c27ea40e9570",
   "metadata": {},
   "outputs": [
    {
     "data": {
      "text/plain": [
       "array([[[ 2,  3],\n",
       "        [ 6,  7]],\n",
       "\n",
       "       [[-1,  1],\n",
       "        [-3,  3]]])"
      ]
     },
     "execution_count": 16,
     "metadata": {},
     "output_type": "execute_result"
    }
   ],
   "source": [
    "y[:2, :, 1:3]"
   ]
  },
  {
   "cell_type": "markdown",
   "id": "63cf0002-f271-4c12-954f-095912ea1d53",
   "metadata": {},
   "source": [
    "The above syntax for indexing and slicing can also be used to assign values to the elements of an array. For example, we may overwrite `x` as follows:"
   ]
  },
  {
   "cell_type": "code",
   "execution_count": 22,
   "id": "48175ba3-5f42-4905-9348-b55d67e48c34",
   "metadata": {},
   "outputs": [
    {
     "name": "stdout",
     "output_type": "stream",
     "text": [
      "[[1 3 5 7]\n",
      " [2 4 0 8]]\n"
     ]
    }
   ],
   "source": [
    "x = np.array([[1, 3, 5, 7], [2, 4, 6, 8]])\n",
    "x[1, 2] = 0\n",
    "\n",
    "print(x)"
   ]
  },
  {
   "cell_type": "markdown",
   "id": "12921e45-962b-4826-8bc1-01f59f0c69a4",
   "metadata": {},
   "source": [
    "We can even assign multiple values at once, e.g.,"
   ]
  },
  {
   "cell_type": "code",
   "execution_count": 27,
   "id": "f6a2e32d-0ee4-4a48-84ec-fc316bda4bf4",
   "metadata": {},
   "outputs": [
    {
     "name": "stdout",
     "output_type": "stream",
     "text": [
      "[[ 1 -5  5  7]\n",
      " [ 2 -2  6  8]]\n"
     ]
    }
   ],
   "source": [
    "x = np.array([[1, 3, 5, 7], [2, 4, 6, 8]])\n",
    "x[:, 1] = [-5, -2]\n",
    "\n",
    "print(x)"
   ]
  },
  {
   "cell_type": "markdown",
   "id": "ed4a9384-5697-45b6-9fd0-23564e7e31df",
   "metadata": {},
   "source": [
    "## Arithmetic with multi-dimensional array"
   ]
  },
  {
   "cell_type": "markdown",
   "id": "8c35190f-9831-46be-ac91-237a0a91bd25",
   "metadata": {},
   "source": [
    "The arithmetic operators `+`, `-`, `*`, `/`, `//`, `%`, and `**` can operate between two arrays of the same dimensions. For example:"
   ]
  },
  {
   "cell_type": "code",
   "execution_count": 28,
   "id": "bfe2c9a8-426f-4a7b-b276-9fca5e479c00",
   "metadata": {},
   "outputs": [],
   "source": [
    "x = np.array([[1, 3, 5, 7], [2, 4, 6, 8]])\n",
    "z = np.array([[1, 2, 0, 1], [0, 2, 1, 2]])"
   ]
  },
  {
   "cell_type": "code",
   "execution_count": 29,
   "id": "c92f0eee-c986-4f5b-ad42-ca51a9fca12b",
   "metadata": {},
   "outputs": [
    {
     "data": {
      "text/plain": [
       "array([[ 1,  9,  1,  7],\n",
       "       [ 1, 16,  6, 64]])"
      ]
     },
     "execution_count": 29,
     "metadata": {},
     "output_type": "execute_result"
    }
   ],
   "source": [
    "x ** z"
   ]
  },
  {
   "cell_type": "markdown",
   "id": "2575d819-83a6-4671-a0c4-e571fe04bc26",
   "metadata": {},
   "source": [
    "Moreover, the arithmetic operators can also operate between a scalar and an n-dimensional array:"
   ]
  },
  {
   "cell_type": "code",
   "execution_count": 30,
   "id": "6c8e49a5-7b41-47e9-a728-60587d2c3a82",
   "metadata": {},
   "outputs": [
    {
     "data": {
      "text/plain": [
       "array([[0.5, 1.5, 2.5, 3.5],\n",
       "       [1. , 2. , 3. , 4. ]])"
      ]
     },
     "execution_count": 30,
     "metadata": {},
     "output_type": "execute_result"
    }
   ],
   "source": [
    "x / 2"
   ]
  },
  {
   "cell_type": "markdown",
   "id": "4b82a9d1-1cad-4d2d-a737-24855eda2a54",
   "metadata": {},
   "source": [
    "As it turns out, if you have an n-dimensional array (say `y`) and an m-dimensional array (say `x`), where m < n, as long as **the last m dimensions of `y` agree with the dimensions of `x`**, you can also operate between the two. What happens is that the array `x` will automatically expand to have the same dimension as `y`, where data are repeated identically if need be, and the operation will be carried out between `y` and this expanded version of `x`"
   ]
  },
  {
   "cell_type": "markdown",
   "id": "8be85130-d6f4-4eff-96a1-ffd0f159c7d7",
   "metadata": {},
   "source": [
    "As an example, suppose we have 4 measurements of time (as fractional hour), temperature (in °C), and salinity, packed as a 4-by-3 array:"
   ]
  },
  {
   "cell_type": "code",
   "execution_count": 31,
   "id": "b82565f7-6782-42e4-abce-584936c47b90",
   "metadata": {},
   "outputs": [],
   "source": [
    "measurement = np.array([\n",
    "    [3.0, 8.9, 31.0],\n",
    "    [9.0, 9.3, 30.7],\n",
    "    [15.0, 9.6, 30.5],\n",
    "    [21.0, 9.0, 30.9]\n",
    "])"
   ]
  },
  {
   "cell_type": "markdown",
   "id": "cec6270f-b16e-4695-81f1-4b217e5760f6",
   "metadata": {},
   "source": [
    "Suppose we want to convert temperature to Fahrenheit, we may define:"
   ]
  },
  {
   "cell_type": "code",
   "execution_count": 32,
   "id": "8b7a238e-bcc3-4779-99a6-dca329a8a335",
   "metadata": {},
   "outputs": [],
   "source": [
    "multiplier = [1, 9.0 / 5, 1]\n",
    "offset = [0, 32.0, 0]"
   ]
  },
  {
   "cell_type": "markdown",
   "id": "abc3319f-2a0d-4eea-8884-9bdde8ae3678",
   "metadata": {},
   "source": [
    "Which allow us to do:"
   ]
  },
  {
   "cell_type": "code",
   "execution_count": 35,
   "id": "eca55749-431e-4c37-90da-38bcbdfd8806",
   "metadata": {},
   "outputs": [
    {
     "data": {
      "text/plain": [
       "array([[ 3.  , 48.02, 31.  ],\n",
       "       [ 9.  , 48.74, 30.7 ],\n",
       "       [15.  , 49.28, 30.5 ],\n",
       "       [21.  , 48.2 , 30.9 ]])"
      ]
     },
     "execution_count": 35,
     "metadata": {},
     "output_type": "execute_result"
    }
   ],
   "source": [
    "multiplier * measurement + offset"
   ]
  },
  {
   "cell_type": "markdown",
   "id": "3624aebe-7a36-45d8-bcb9-5aba90342a2e",
   "metadata": {},
   "source": [
    "The idea is that both multiplier and offset are expanded to become 4-by-3 arrays, with each row repeating the same content. The end effect is that each temperature element is modified as $T_F = (9.0 / 5.0) \\cdot T_C + 32.0$"
   ]
  },
  {
   "cell_type": "markdown",
   "id": "fc728a7e-9890-4679-9955-a017579aa2da",
   "metadata": {},
   "source": [
    "Incidentally, another way to perform the above calculation is:"
   ]
  },
  {
   "cell_type": "code",
   "execution_count": 36,
   "id": "3782fe57-8687-4a7b-9288-22dfacca1f77",
   "metadata": {},
   "outputs": [
    {
     "name": "stdout",
     "output_type": "stream",
     "text": [
      "[[ 3.   48.02 31.  ]\n",
      " [ 9.   48.74 30.7 ]\n",
      " [15.   49.28 30.5 ]\n",
      " [21.   48.2  30.9 ]]\n"
     ]
    }
   ],
   "source": [
    "measurement[:, 1] = (9.0 / 5) * measurement[:, 1] + 32\n",
    "print(measurement)"
   ]
  },
  {
   "cell_type": "markdown",
   "id": "8607e9ed-170a-4c5d-864f-b84afa641de9",
   "metadata": {},
   "source": [
    "With the difference being that this calculation modifies the array in-place"
   ]
  },
  {
   "cell_type": "code",
   "execution_count": null,
   "id": "1c4153ce-a093-49e9-aca7-68580fd66872",
   "metadata": {},
   "outputs": [],
   "source": []
  }
 ],
 "metadata": {
  "kernelspec": {
   "display_name": "Python 3 (ipykernel)",
   "language": "python",
   "name": "python3"
  },
  "language_info": {
   "codemirror_mode": {
    "name": "ipython",
    "version": 3
   },
   "file_extension": ".py",
   "mimetype": "text/x-python",
   "name": "python",
   "nbconvert_exporter": "python",
   "pygments_lexer": "ipython3",
   "version": "3.12.8"
  }
 },
 "nbformat": 4,
 "nbformat_minor": 5
}
